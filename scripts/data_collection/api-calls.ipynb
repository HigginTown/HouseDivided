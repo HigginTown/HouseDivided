{
 "cells": [
  {
   "cell_type": "markdown",
   "metadata": {
    "collapsed": true
   },
   "source": [
    "## ProPublica API\n",
    "\n",
    "Here, I use the ProPublica API to get information about The Senate. This includes information about every senator, such as the percentage of missed votes, seniority, class, next election year, and other information. I pickle the data from the 80th to the 115th US Senate Classes for later use. The `senators114.csv` is created in this notebook. You can view information about all the senate classes in Pandas Panel."
   ]
  },
  {
   "cell_type": "code",
   "execution_count": 36,
   "metadata": {
    "collapsed": true
   },
   "outputs": [],
   "source": [
    "import requests\n",
    "import json\n",
    "import re\n",
    "import pandas as pd\n",
    "import numpy as np\n",
    "from sklearn.externals import joblib"
   ]
  },
  {
   "cell_type": "markdown",
   "metadata": {},
   "source": [
    "### All members historical data"
   ]
  },
  {
   "cell_type": "code",
   "execution_count": 2,
   "metadata": {
    "collapsed": true
   },
   "outputs": [],
   "source": [
    "# set api key\n",
    "key = \"USE-YOUR-KEY\"\n",
    "\n",
    "# get the congress data for the 115th Senate as a test. \n",
    "members_115 = requests.get(url=\"https://api.propublica.org/congress/v1/115/senate/members.json\", headers={\"X-API-Key\" : key}).json()"
   ]
  },
  {
   "cell_type": "code",
   "execution_count": 123,
   "metadata": {
    "collapsed": true
   },
   "outputs": [],
   "source": [
    "sen_115 = members_115[\"results\"][0]['members']\n"
   ]
  },
  {
   "cell_type": "code",
   "execution_count": 155,
   "metadata": {
    "collapsed": true
   },
   "outputs": [],
   "source": [
    "cols = ['lis_id','cspan_id', 'state',\n",
    "        'first_name', 'last_name',\n",
    "        'missed_votes', 'missed_votes_pct', 'next_election',\n",
    "        'party', 'senate_class', 'seniority',\n",
    "        'total_votes', 'votes_with_party_pct',]"
   ]
  },
  {
   "cell_type": "code",
   "execution_count": 103,
   "metadata": {
    "collapsed": true
   },
   "outputs": [],
   "source": [
    "# create a members master\n",
    "member_master = []\n",
    "for i in range(80,116):\n",
    "    members = requests.get(url=\"https://api.propublica.org/congress/v1/\" + str(i)+\"/senate/members.json\", headers={\"X-API-Key\" : key}).json()\n",
    "    member_master.append(members[\"results\"][0][\"members\"])"
   ]
  },
  {
   "cell_type": "markdown",
   "metadata": {},
   "source": [
    "### Test load pickle"
   ]
  },
  {
   "cell_type": "code",
   "execution_count": 135,
   "metadata": {
    "collapsed": true
   },
   "outputs": [],
   "source": [
    "member_master = joblib.load('member_masterlist.pkl')"
   ]
  },
  {
   "cell_type": "code",
   "execution_count": 136,
   "metadata": {
    "collapsed": true
   },
   "outputs": [],
   "source": [
    "# iterate through congressional classes\n",
    "congress_class_dicts = {}\n",
    "\n",
    "for i in range(len(member_master)):\n",
    "    congress_class = pd.DataFrame.from_dict(member_master[i])\n",
    "    congress_class_dicts['class_'+str(80 + i)] = congress_class\n"
   ]
  },
  {
   "cell_type": "code",
   "execution_count": 137,
   "metadata": {
    "collapsed": true
   },
   "outputs": [],
   "source": [
    "senate_panel = pd.Panel(congress_class_dicts)"
   ]
  },
  {
   "cell_type": "code",
   "execution_count": 156,
   "metadata": {
    "collapsed": true
   },
   "outputs": [],
   "source": [
    "tw = senate_panel['class_114'][cols].iloc[:100,:]"
   ]
  },
  {
   "cell_type": "code",
   "execution_count": 157,
   "metadata": {
    "collapsed": true
   },
   "outputs": [],
   "source": [
    "tw.to_csv('senators114.csv')"
   ]
  },
  {
   "cell_type": "code",
   "execution_count": 165,
   "metadata": {
    "collapsed": true
   },
   "outputs": [],
   "source": [
    "import re\n",
    "indicies = []\n",
    "for i in sen.columns:\n",
    "    x = re.findall('[^_id]$', i)\n",
    "    if len(x) > 0: indicies.append(i)"
   ]
  }
 ],
 "metadata": {
  "anaconda-cloud": {},
  "kernelspec": {
   "display_name": "Python 3",
   "language": "python",
   "name": "python3"
  },
  "language_info": {
   "codemirror_mode": {
    "name": "ipython",
    "version": 3
   },
   "file_extension": ".py",
   "mimetype": "text/x-python",
   "name": "python",
   "nbconvert_exporter": "python",
   "pygments_lexer": "ipython3",
   "version": "3.6.0"
  }
 },
 "nbformat": 4,
 "nbformat_minor": 1
}
