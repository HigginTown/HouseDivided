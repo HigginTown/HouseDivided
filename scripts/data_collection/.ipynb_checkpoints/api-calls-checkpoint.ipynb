{
 "cells": [
  {
   "cell_type": "markdown",
   "metadata": {
    "collapsed": true
   },
   "source": [
    "## ProPublica API"
   ]
  },
  {
   "cell_type": "code",
   "execution_count": 36,
   "metadata": {
    "collapsed": true
   },
   "outputs": [],
   "source": [
    "import requests\n",
    "import json\n",
    "import re\n",
    "import pandas as pd\n",
    "import numpy as np\n",
    "from sklearn.externals import joblib"
   ]
  },
  {
   "cell_type": "markdown",
   "metadata": {},
   "source": [
    "### All members historical data"
   ]
  },
  {
   "cell_type": "code",
   "execution_count": 2,
   "metadata": {
    "collapsed": true
   },
   "outputs": [],
   "source": [
    "# set api key\n",
    "key = \"USE-YOUR-KEY\"\n",
    "\n",
    "# get the congress data\n",
    "members_115 = requests.get(url=\"https://api.propublica.org/congress/v1/115/senate/members.json\", headers={\"X-API-Key\" : key}).json()"
   ]
  },
  {
   "cell_type": "code",
   "execution_count": 123,
   "metadata": {
    "collapsed": true
   },
   "outputs": [],
   "source": [
    "sen_115 = members_115[\"results\"][0]['members']"
   ]
  },
  {
   "cell_type": "code",
   "execution_count": 155,
   "metadata": {
    "collapsed": true
   },
   "outputs": [],
   "source": [
    "cols = ['lis_id','cspan_id', 'state',\n",
    "        'first_name', 'last_name',\n",
    "      \n",
    "       'missed_votes', 'missed_votes_pct', 'next_election',\n",
    "       'party', 'senate_class', 'seniority',\n",
    "     'total_votes',\n",
    "       'votes_with_party_pct',]"
   ]
  },
  {
   "cell_type": "code",
   "execution_count": 103,
   "metadata": {
    "collapsed": true
   },
   "outputs": [],
   "source": [
    "#se\n",
    "member_master = []\n",
    "for i in range(80,116):\n",
    "    members = requests.get(url=\"https://api.propublica.org/congress/v1/\" + str(i)+\"/senate/members.json\", headers={\"X-API-Key\" : key}).json()\n",
    "    member_master.append(members[\"results\"][0][\"members\"])"
   ]
  },
  {
   "cell_type": "markdown",
   "metadata": {},
   "source": [
    "### Load pickle"
   ]
  },
  {
   "cell_type": "code",
   "execution_count": 135,
   "metadata": {
    "collapsed": true
   },
   "outputs": [],
   "source": [
    "member_master = joblib.load('member_masterlist.pkl')"
   ]
  },
  {
   "cell_type": "code",
   "execution_count": 136,
   "metadata": {
    "collapsed": true
   },
   "outputs": [],
   "source": [
    "#iterate through congressional classes\n",
    "congress_class_dicts = {}\n",
    "\n",
    "for i in range(len(member_master)):\n",
    "    congress_class = pd.DataFrame.from_dict(member_master[i])\n",
    "    congress_class_dicts['class_'+str(80 + i)] = congress_class\n"
   ]
  },
  {
   "cell_type": "code",
   "execution_count": 137,
   "metadata": {
    "collapsed": true
   },
   "outputs": [],
   "source": [
    "senate_panel = pd.Panel(congress_class_dicts)"
   ]
  },
  {
   "cell_type": "code",
   "execution_count": 156,
   "metadata": {
    "collapsed": true
   },
   "outputs": [],
   "source": [
    "tw = senate_panel['class_114'][cols].iloc[:100,:]"
   ]
  },
  {
   "cell_type": "code",
   "execution_count": 157,
   "metadata": {
    "collapsed": true
   },
   "outputs": [],
   "source": [
    "tw.to_csv('senators114.csv')"
   ]
  },
  {
   "cell_type": "code",
   "execution_count": 165,
   "metadata": {
    "collapsed": true
   },
   "outputs": [],
   "source": [
    "import re\n",
    "indicies = []\n",
    "for i in sen.columns:\n",
    "    x = re.findall('[^_id]$', i)\n",
    "    if len(x) > 0: indicies.append(i)"
   ]
  },
  {
   "cell_type": "markdown",
   "metadata": {
    "collapsed": true
   },
   "source": [
    "### Voting History"
   ]
  },
  {
   "cell_type": "markdown",
   "metadata": {},
   "source": [
    "We'll now get the voting history for each member "
   ]
  },
  {
   "cell_type": "code",
   "execution_count": 34,
   "metadata": {
    "collapsed": true
   },
   "outputs": [],
   "source": [
    "test = senate_panel['class_114']"
   ]
  },
  {
   "cell_type": "code",
   "execution_count": 52,
   "metadata": {},
   "outputs": [
    {
     "data": {
      "text/plain": [
       "'A000360'"
      ]
     },
     "execution_count": 52,
     "metadata": {},
     "output_type": "execute_result"
    }
   ],
   "source": [
    "ids = test['id'].values[:-14]\n",
    "tid = ids[0]\n",
    "tid"
   ]
  },
  {
   "cell_type": "code",
   "execution_count": 53,
   "metadata": {
    "collapsed": true
   },
   "outputs": [],
   "source": [
    "urlt = \"https://api.propublica.org/congress/v1/members/A000360/votes.json\"\n",
    "test_req =  requests.get(url=urlt, headers={\"X-API-Key\" : key}).json()"
   ]
  },
  {
   "cell_type": "code",
   "execution_count": 66,
   "metadata": {
    "collapsed": true
   },
   "outputs": [],
   "source": [
    "test_df = pd.DataFrame(test_req['results'][0]['votes'])"
   ]
  },
  {
   "cell_type": "code",
   "execution_count": 74,
   "metadata": {},
   "outputs": [
    {
     "name": "stdout",
     "output_type": "stream",
     "text": [
      "<class 'pandas.core.frame.DataFrame'>\n",
      "RangeIndex: 100 entries, 0 to 99\n",
      "Data columns (total 15 columns):\n",
      "bill           100 non-null object\n",
      "chamber        100 non-null object\n",
      "congress       100 non-null object\n",
      "date           100 non-null object\n",
      "description    100 non-null object\n",
      "member_id      100 non-null object\n",
      "nomination     60 non-null object\n",
      "position       100 non-null object\n",
      "question       100 non-null object\n",
      "result         100 non-null object\n",
      "roll_call      100 non-null object\n",
      "session        100 non-null object\n",
      "time           100 non-null object\n",
      "total          100 non-null object\n",
      "vote_uri       100 non-null object\n",
      "dtypes: object(15)\n",
      "memory usage: 11.8+ KB\n"
     ]
    }
   ],
   "source": [
    "test_df.info()"
   ]
  }
 ],
 "metadata": {
  "anaconda-cloud": {},
  "kernelspec": {
   "display_name": "Python 3",
   "language": "python",
   "name": "python3"
  },
  "language_info": {
   "codemirror_mode": {
    "name": "ipython",
    "version": 3
   },
   "file_extension": ".py",
   "mimetype": "text/x-python",
   "name": "python",
   "nbconvert_exporter": "python",
   "pygments_lexer": "ipython3",
   "version": "3.6.0"
  }
 },
 "nbformat": 4,
 "nbformat_minor": 1
}
