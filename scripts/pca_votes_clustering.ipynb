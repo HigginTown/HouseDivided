{
 "cells": [
  {
   "cell_type": "markdown",
   "metadata": {},
   "source": [
    "# Make the preliminary clusters, supervised \n",
    "In this notebook, I apply KMeans and PCA to generate clusters of senators. Each senator is an observation and each of the 502 features is a discrete binary random variable indicating a `yea` or `nay` vote. \n",
    "\n",
    "We'll use the predicted label as a substitute for party label, and we'll compare the results with the true party labels. Using PCA, we can take the first two components and treat them like axes to visualize the results. \n"
   ]
  },
  {
   "cell_type": "code",
   "execution_count": 11,
   "metadata": {},
   "outputs": [
    {
     "data": {
      "text/html": [
       "\n",
       "    <div class=\"bk-root\">\n",
       "        <a href=\"http://bokeh.pydata.org\" target=\"_blank\" class=\"bk-logo bk-logo-small bk-logo-notebook\"></a>\n",
       "        <span id=\"10957b59-f04d-42b8-a221-33d29415f588\">Loading BokehJS ...</span>\n",
       "    </div>"
      ]
     },
     "metadata": {},
     "output_type": "display_data"
    },
    {
     "data": {
      "application/javascript": [
       "\n",
       "(function(global) {\n",
       "  function now() {\n",
       "    return new Date();\n",
       "  }\n",
       "\n",
       "  var force = true;\n",
       "\n",
       "  if (typeof (window._bokeh_onload_callbacks) === \"undefined\" || force === true) {\n",
       "    window._bokeh_onload_callbacks = [];\n",
       "    window._bokeh_is_loading = undefined;\n",
       "  }\n",
       "\n",
       "\n",
       "  \n",
       "  if (typeof (window._bokeh_timeout) === \"undefined\" || force === true) {\n",
       "    window._bokeh_timeout = Date.now() + 5000;\n",
       "    window._bokeh_failed_load = false;\n",
       "  }\n",
       "\n",
       "  var NB_LOAD_WARNING = {'data': {'text/html':\n",
       "     \"<div style='background-color: #fdd'>\\n\"+\n",
       "     \"<p>\\n\"+\n",
       "     \"BokehJS does not appear to have successfully loaded. If loading BokehJS from CDN, this \\n\"+\n",
       "     \"may be due to a slow or bad network connection. Possible fixes:\\n\"+\n",
       "     \"</p>\\n\"+\n",
       "     \"<ul>\\n\"+\n",
       "     \"<li>re-rerun `output_notebook()` to attempt to load from CDN again, or</li>\\n\"+\n",
       "     \"<li>use INLINE resources instead, as so:</li>\\n\"+\n",
       "     \"</ul>\\n\"+\n",
       "     \"<code>\\n\"+\n",
       "     \"from bokeh.resources import INLINE\\n\"+\n",
       "     \"output_notebook(resources=INLINE)\\n\"+\n",
       "     \"</code>\\n\"+\n",
       "     \"</div>\"}};\n",
       "\n",
       "  function display_loaded() {\n",
       "    if (window.Bokeh !== undefined) {\n",
       "      document.getElementById(\"10957b59-f04d-42b8-a221-33d29415f588\").textContent = \"BokehJS successfully loaded.\";\n",
       "    } else if (Date.now() < window._bokeh_timeout) {\n",
       "      setTimeout(display_loaded, 100)\n",
       "    }\n",
       "  }\n",
       "\n",
       "  function run_callbacks() {\n",
       "    window._bokeh_onload_callbacks.forEach(function(callback) { callback() });\n",
       "    delete window._bokeh_onload_callbacks\n",
       "    console.info(\"Bokeh: all callbacks have finished\");\n",
       "  }\n",
       "\n",
       "  function load_libs(js_urls, callback) {\n",
       "    window._bokeh_onload_callbacks.push(callback);\n",
       "    if (window._bokeh_is_loading > 0) {\n",
       "      console.log(\"Bokeh: BokehJS is being loaded, scheduling callback at\", now());\n",
       "      return null;\n",
       "    }\n",
       "    if (js_urls == null || js_urls.length === 0) {\n",
       "      run_callbacks();\n",
       "      return null;\n",
       "    }\n",
       "    console.log(\"Bokeh: BokehJS not loaded, scheduling load and callback at\", now());\n",
       "    window._bokeh_is_loading = js_urls.length;\n",
       "    for (var i = 0; i < js_urls.length; i++) {\n",
       "      var url = js_urls[i];\n",
       "      var s = document.createElement('script');\n",
       "      s.src = url;\n",
       "      s.async = false;\n",
       "      s.onreadystatechange = s.onload = function() {\n",
       "        window._bokeh_is_loading--;\n",
       "        if (window._bokeh_is_loading === 0) {\n",
       "          console.log(\"Bokeh: all BokehJS libraries loaded\");\n",
       "          run_callbacks()\n",
       "        }\n",
       "      };\n",
       "      s.onerror = function() {\n",
       "        console.warn(\"failed to load library \" + url);\n",
       "      };\n",
       "      console.log(\"Bokeh: injecting script tag for BokehJS library: \", url);\n",
       "      document.getElementsByTagName(\"head\")[0].appendChild(s);\n",
       "    }\n",
       "  };var element = document.getElementById(\"10957b59-f04d-42b8-a221-33d29415f588\");\n",
       "  if (element == null) {\n",
       "    console.log(\"Bokeh: ERROR: autoload.js configured with elementid '10957b59-f04d-42b8-a221-33d29415f588' but no matching script tag was found. \")\n",
       "    return false;\n",
       "  }\n",
       "\n",
       "  var js_urls = [\"https://cdn.pydata.org/bokeh/release/bokeh-0.12.4.min.js\", \"https://cdn.pydata.org/bokeh/release/bokeh-widgets-0.12.4.min.js\"];\n",
       "\n",
       "  var inline_js = [\n",
       "    function(Bokeh) {\n",
       "      Bokeh.set_log_level(\"info\");\n",
       "    },\n",
       "    \n",
       "    function(Bokeh) {\n",
       "      \n",
       "      document.getElementById(\"10957b59-f04d-42b8-a221-33d29415f588\").textContent = \"BokehJS is loading...\";\n",
       "    },\n",
       "    function(Bokeh) {\n",
       "      console.log(\"Bokeh: injecting CSS: https://cdn.pydata.org/bokeh/release/bokeh-0.12.4.min.css\");\n",
       "      Bokeh.embed.inject_css(\"https://cdn.pydata.org/bokeh/release/bokeh-0.12.4.min.css\");\n",
       "      console.log(\"Bokeh: injecting CSS: https://cdn.pydata.org/bokeh/release/bokeh-widgets-0.12.4.min.css\");\n",
       "      Bokeh.embed.inject_css(\"https://cdn.pydata.org/bokeh/release/bokeh-widgets-0.12.4.min.css\");\n",
       "    }\n",
       "  ];\n",
       "\n",
       "  function run_inline_js() {\n",
       "    \n",
       "    if ((window.Bokeh !== undefined) || (force === true)) {\n",
       "      for (var i = 0; i < inline_js.length; i++) {\n",
       "        inline_js[i](window.Bokeh);\n",
       "      }if (force === true) {\n",
       "        display_loaded();\n",
       "      }} else if (Date.now() < window._bokeh_timeout) {\n",
       "      setTimeout(run_inline_js, 100);\n",
       "    } else if (!window._bokeh_failed_load) {\n",
       "      console.log(\"Bokeh: BokehJS failed to load within specified timeout.\");\n",
       "      window._bokeh_failed_load = true;\n",
       "    } else if (force !== true) {\n",
       "      var cell = $(document.getElementById(\"10957b59-f04d-42b8-a221-33d29415f588\")).parents('.cell').data().cell;\n",
       "      cell.output_area.append_execute_result(NB_LOAD_WARNING)\n",
       "    }\n",
       "\n",
       "  }\n",
       "\n",
       "  if (window._bokeh_is_loading === 0) {\n",
       "    console.log(\"Bokeh: BokehJS loaded, going straight to plotting\");\n",
       "    run_inline_js();\n",
       "  } else {\n",
       "    load_libs(js_urls, function() {\n",
       "      console.log(\"Bokeh: BokehJS plotting callback run at\", now());\n",
       "      run_inline_js();\n",
       "    });\n",
       "  }\n",
       "}(this));"
      ]
     },
     "metadata": {},
     "output_type": "display_data"
    }
   ],
   "source": [
    "import pandas as pd\n",
    "import numpy as np\n",
    "\n",
    "\n",
    "# clustering and modelling\n",
    "from sklearn.decomposition import PCA\n",
    "from sklearn.cluster import KMeans\n",
    "\n",
    "#plotting\n",
    "from bokeh.charts import *\n",
    "from bokeh.plotting import figure, show\n",
    "from bokeh.models import HoverTool\n",
    "import matplotlib.pyplot as plt\n",
    "output_notebook()"
   ]
  },
  {
   "cell_type": "code",
   "execution_count": 12,
   "metadata": {},
   "outputs": [],
   "source": [
    "votes = pd.read_csv('../data/cleaned_votes.csv', index_col=0)"
   ]
  },
  {
   "cell_type": "code",
   "execution_count": 13,
   "metadata": {},
   "outputs": [],
   "source": [
    "c = votes.iloc[:, :-1].T # remove the result column"
   ]
  },
  {
   "cell_type": "code",
   "execution_count": 14,
   "metadata": {},
   "outputs": [
    {
     "data": {
      "text/html": [
       "<div>\n",
       "<table border=\"1\" class=\"dataframe\">\n",
       "  <thead>\n",
       "    <tr style=\"text-align: right;\">\n",
       "      <th></th>\n",
       "      <th>1</th>\n",
       "      <th>2</th>\n",
       "      <th>3</th>\n",
       "      <th>4</th>\n",
       "      <th>5</th>\n",
       "      <th>6</th>\n",
       "      <th>7</th>\n",
       "      <th>8</th>\n",
       "      <th>9</th>\n",
       "      <th>10</th>\n",
       "      <th>...</th>\n",
       "      <th>462</th>\n",
       "      <th>478</th>\n",
       "      <th>487</th>\n",
       "      <th>492</th>\n",
       "      <th>494</th>\n",
       "      <th>496</th>\n",
       "      <th>497</th>\n",
       "      <th>500</th>\n",
       "      <th>501</th>\n",
       "      <th>502</th>\n",
       "    </tr>\n",
       "  </thead>\n",
       "  <tbody>\n",
       "    <tr>\n",
       "      <th>Alexander (R-TN)</th>\n",
       "      <td>0</td>\n",
       "      <td>1</td>\n",
       "      <td>1</td>\n",
       "      <td>1</td>\n",
       "      <td>1</td>\n",
       "      <td>1</td>\n",
       "      <td>1</td>\n",
       "      <td>0</td>\n",
       "      <td>0</td>\n",
       "      <td>1</td>\n",
       "      <td>...</td>\n",
       "      <td>1</td>\n",
       "      <td>1</td>\n",
       "      <td>1</td>\n",
       "      <td>1</td>\n",
       "      <td>1</td>\n",
       "      <td>1</td>\n",
       "      <td>1</td>\n",
       "      <td>1</td>\n",
       "      <td>1</td>\n",
       "      <td>1</td>\n",
       "    </tr>\n",
       "    <tr>\n",
       "      <th>Ayotte (R-NH)</th>\n",
       "      <td>0</td>\n",
       "      <td>1</td>\n",
       "      <td>1</td>\n",
       "      <td>1</td>\n",
       "      <td>1</td>\n",
       "      <td>1</td>\n",
       "      <td>1</td>\n",
       "      <td>0</td>\n",
       "      <td>0</td>\n",
       "      <td>1</td>\n",
       "      <td>...</td>\n",
       "      <td>1</td>\n",
       "      <td>0</td>\n",
       "      <td>1</td>\n",
       "      <td>0</td>\n",
       "      <td>1</td>\n",
       "      <td>1</td>\n",
       "      <td>1</td>\n",
       "      <td>1</td>\n",
       "      <td>1</td>\n",
       "      <td>1</td>\n",
       "    </tr>\n",
       "    <tr>\n",
       "      <th>Baldwin (D-WI)</th>\n",
       "      <td>1</td>\n",
       "      <td>1</td>\n",
       "      <td>0</td>\n",
       "      <td>0</td>\n",
       "      <td>0</td>\n",
       "      <td>1</td>\n",
       "      <td>0</td>\n",
       "      <td>1</td>\n",
       "      <td>0</td>\n",
       "      <td>1</td>\n",
       "      <td>...</td>\n",
       "      <td>1</td>\n",
       "      <td>1</td>\n",
       "      <td>1</td>\n",
       "      <td>0</td>\n",
       "      <td>1</td>\n",
       "      <td>1</td>\n",
       "      <td>1</td>\n",
       "      <td>1</td>\n",
       "      <td>0</td>\n",
       "      <td>1</td>\n",
       "    </tr>\n",
       "    <tr>\n",
       "      <th>Barrasso (R-WY)</th>\n",
       "      <td>0</td>\n",
       "      <td>1</td>\n",
       "      <td>1</td>\n",
       "      <td>1</td>\n",
       "      <td>1</td>\n",
       "      <td>1</td>\n",
       "      <td>1</td>\n",
       "      <td>0</td>\n",
       "      <td>1</td>\n",
       "      <td>1</td>\n",
       "      <td>...</td>\n",
       "      <td>1</td>\n",
       "      <td>0</td>\n",
       "      <td>1</td>\n",
       "      <td>1</td>\n",
       "      <td>1</td>\n",
       "      <td>1</td>\n",
       "      <td>1</td>\n",
       "      <td>1</td>\n",
       "      <td>1</td>\n",
       "      <td>1</td>\n",
       "    </tr>\n",
       "    <tr>\n",
       "      <th>Bennet (D-CO)</th>\n",
       "      <td>0</td>\n",
       "      <td>1</td>\n",
       "      <td>1</td>\n",
       "      <td>0</td>\n",
       "      <td>0</td>\n",
       "      <td>1</td>\n",
       "      <td>0</td>\n",
       "      <td>1</td>\n",
       "      <td>0</td>\n",
       "      <td>1</td>\n",
       "      <td>...</td>\n",
       "      <td>1</td>\n",
       "      <td>1</td>\n",
       "      <td>1</td>\n",
       "      <td>0</td>\n",
       "      <td>1</td>\n",
       "      <td>1</td>\n",
       "      <td>1</td>\n",
       "      <td>1</td>\n",
       "      <td>1</td>\n",
       "      <td>1</td>\n",
       "    </tr>\n",
       "  </tbody>\n",
       "</table>\n",
       "<p>5 rows × 438 columns</p>\n",
       "</div>"
      ],
      "text/plain": [
       "                  1    2    3    4    5    6    7    8    9    10  ...   462  \\\n",
       "Alexander (R-TN)    0    1    1    1    1    1    1    0    0    1 ...     1   \n",
       "Ayotte (R-NH)       0    1    1    1    1    1    1    0    0    1 ...     1   \n",
       "Baldwin (D-WI)      1    1    0    0    0    1    0    1    0    1 ...     1   \n",
       "Barrasso (R-WY)     0    1    1    1    1    1    1    0    1    1 ...     1   \n",
       "Bennet (D-CO)       0    1    1    0    0    1    0    1    0    1 ...     1   \n",
       "\n",
       "                  478  487  492  494  496  497  500  501  502  \n",
       "Alexander (R-TN)    1    1    1    1    1    1    1    1    1  \n",
       "Ayotte (R-NH)       0    1    0    1    1    1    1    1    1  \n",
       "Baldwin (D-WI)      1    1    0    1    1    1    1    0    1  \n",
       "Barrasso (R-WY)     0    1    1    1    1    1    1    1    1  \n",
       "Bennet (D-CO)       1    1    0    1    1    1    1    1    1  \n",
       "\n",
       "[5 rows x 438 columns]"
      ]
     },
     "execution_count": 14,
     "metadata": {},
     "output_type": "execute_result"
    }
   ],
   "source": [
    "c.head()"
   ]
  },
  {
   "cell_type": "markdown",
   "metadata": {},
   "source": [
    "Let's apply KMeans clustering and plot to visually analyze the distances between senators. "
   ]
  },
  {
   "cell_type": "code",
   "execution_count": 39,
   "metadata": {},
   "outputs": [
    {
     "data": {
      "text/plain": [
       "KMeans(algorithm='auto', copy_x=True, init='k-means++', max_iter=300,\n",
       "    n_clusters=2, n_init=10, n_jobs=1, precompute_distances='auto',\n",
       "    random_state=None, tol=0.0001, verbose=0)"
      ]
     },
     "execution_count": 39,
     "metadata": {},
     "output_type": "execute_result"
    }
   ],
   "source": [
    "km = KMeans(n_clusters=2)\n",
    "km.fit(c)"
   ]
  },
  {
   "cell_type": "code",
   "execution_count": 40,
   "metadata": {
    "collapsed": true
   },
   "outputs": [],
   "source": [
    "predicted_parties = pd.Series(km.labels_) # we'll color by predicted party label"
   ]
  },
  {
   "cell_type": "code",
   "execution_count": 41,
   "metadata": {},
   "outputs": [
    {
     "data": {
      "text/plain": [
       "0    54\n",
       "1    46\n",
       "dtype: int64"
      ]
     },
     "execution_count": 41,
     "metadata": {},
     "output_type": "execute_result"
    }
   ],
   "source": [
    "predicted_parties.value_counts()"
   ]
  },
  {
   "cell_type": "code",
   "execution_count": 42,
   "metadata": {
    "collapsed": true
   },
   "outputs": [],
   "source": [
    "# PCA\n",
    "pca = PCA(n_components=2)"
   ]
  },
  {
   "cell_type": "code",
   "execution_count": 43,
   "metadata": {},
   "outputs": [
    {
     "data": {
      "text/plain": [
       "PCA(copy=True, iterated_power='auto', n_components=2, random_state=None,\n",
       "  svd_solver='auto', tol=0.0, whiten=False)"
      ]
     },
     "execution_count": 43,
     "metadata": {},
     "output_type": "execute_result"
    }
   ],
   "source": [
    "pca.fit(c.T)"
   ]
  },
  {
   "cell_type": "code",
   "execution_count": 44,
   "metadata": {},
   "outputs": [
    {
     "data": {
      "text/plain": [
       "array([ 0.50643735,  0.18673049])"
      ]
     },
     "execution_count": 44,
     "metadata": {},
     "output_type": "execute_result"
    }
   ],
   "source": [
    "pca.explained_variance_ratio_"
   ]
  },
  {
   "cell_type": "code",
   "execution_count": 45,
   "metadata": {
    "collapsed": true
   },
   "outputs": [],
   "source": [
    "c1, c2 = pca.components_"
   ]
  },
  {
   "cell_type": "code",
   "execution_count": 46,
   "metadata": {},
   "outputs": [
    {
     "data": {
      "text/plain": [
       "((100,), (100,), (100,))"
      ]
     },
     "execution_count": 46,
     "metadata": {},
     "output_type": "execute_result"
    }
   ],
   "source": [
    "c1.shape, c2.shape, predicted_parties.shape"
   ]
  },
  {
   "cell_type": "code",
   "execution_count": 47,
   "metadata": {},
   "outputs": [
    {
     "data": {
      "text/plain": [
       "100"
      ]
     },
     "execution_count": 47,
     "metadata": {},
     "output_type": "execute_result"
    }
   ],
   "source": [
    "names = votes.T.index.values[:-1]\n",
    "len(names)"
   ]
  },
  {
   "cell_type": "markdown",
   "metadata": {},
   "source": [
    "Using Bokeh, we can make interactive html plots that work well on the web"
   ]
  },
  {
   "cell_type": "code",
   "execution_count": 52,
   "metadata": {},
   "outputs": [
    {
     "data": {
      "text/html": [
       "\n",
       "\n",
       "    <div class=\"bk-root\">\n",
       "        <div class=\"bk-plotdiv\" id=\"0f38451b-dd4f-479d-aeba-4227b8a54182\"></div>\n",
       "    </div>\n",
       "<script type=\"text/javascript\">\n",
       "  \n",
       "  (function(global) {\n",
       "    function now() {\n",
       "      return new Date();\n",
       "    }\n",
       "  \n",
       "    var force = false;\n",
       "  \n",
       "    if (typeof (window._bokeh_onload_callbacks) === \"undefined\" || force === true) {\n",
       "      window._bokeh_onload_callbacks = [];\n",
       "      window._bokeh_is_loading = undefined;\n",
       "    }\n",
       "  \n",
       "  \n",
       "    \n",
       "    if (typeof (window._bokeh_timeout) === \"undefined\" || force === true) {\n",
       "      window._bokeh_timeout = Date.now() + 0;\n",
       "      window._bokeh_failed_load = false;\n",
       "    }\n",
       "  \n",
       "    var NB_LOAD_WARNING = {'data': {'text/html':\n",
       "       \"<div style='background-color: #fdd'>\\n\"+\n",
       "       \"<p>\\n\"+\n",
       "       \"BokehJS does not appear to have successfully loaded. If loading BokehJS from CDN, this \\n\"+\n",
       "       \"may be due to a slow or bad network connection. Possible fixes:\\n\"+\n",
       "       \"</p>\\n\"+\n",
       "       \"<ul>\\n\"+\n",
       "       \"<li>re-rerun `output_notebook()` to attempt to load from CDN again, or</li>\\n\"+\n",
       "       \"<li>use INLINE resources instead, as so:</li>\\n\"+\n",
       "       \"</ul>\\n\"+\n",
       "       \"<code>\\n\"+\n",
       "       \"from bokeh.resources import INLINE\\n\"+\n",
       "       \"output_notebook(resources=INLINE)\\n\"+\n",
       "       \"</code>\\n\"+\n",
       "       \"</div>\"}};\n",
       "  \n",
       "    function display_loaded() {\n",
       "      if (window.Bokeh !== undefined) {\n",
       "        document.getElementById(\"0f38451b-dd4f-479d-aeba-4227b8a54182\").textContent = \"BokehJS successfully loaded.\";\n",
       "      } else if (Date.now() < window._bokeh_timeout) {\n",
       "        setTimeout(display_loaded, 100)\n",
       "      }\n",
       "    }\n",
       "  \n",
       "    function run_callbacks() {\n",
       "      window._bokeh_onload_callbacks.forEach(function(callback) { callback() });\n",
       "      delete window._bokeh_onload_callbacks\n",
       "      console.info(\"Bokeh: all callbacks have finished\");\n",
       "    }\n",
       "  \n",
       "    function load_libs(js_urls, callback) {\n",
       "      window._bokeh_onload_callbacks.push(callback);\n",
       "      if (window._bokeh_is_loading > 0) {\n",
       "        console.log(\"Bokeh: BokehJS is being loaded, scheduling callback at\", now());\n",
       "        return null;\n",
       "      }\n",
       "      if (js_urls == null || js_urls.length === 0) {\n",
       "        run_callbacks();\n",
       "        return null;\n",
       "      }\n",
       "      console.log(\"Bokeh: BokehJS not loaded, scheduling load and callback at\", now());\n",
       "      window._bokeh_is_loading = js_urls.length;\n",
       "      for (var i = 0; i < js_urls.length; i++) {\n",
       "        var url = js_urls[i];\n",
       "        var s = document.createElement('script');\n",
       "        s.src = url;\n",
       "        s.async = false;\n",
       "        s.onreadystatechange = s.onload = function() {\n",
       "          window._bokeh_is_loading--;\n",
       "          if (window._bokeh_is_loading === 0) {\n",
       "            console.log(\"Bokeh: all BokehJS libraries loaded\");\n",
       "            run_callbacks()\n",
       "          }\n",
       "        };\n",
       "        s.onerror = function() {\n",
       "          console.warn(\"failed to load library \" + url);\n",
       "        };\n",
       "        console.log(\"Bokeh: injecting script tag for BokehJS library: \", url);\n",
       "        document.getElementsByTagName(\"head\")[0].appendChild(s);\n",
       "      }\n",
       "    };var element = document.getElementById(\"0f38451b-dd4f-479d-aeba-4227b8a54182\");\n",
       "    if (element == null) {\n",
       "      console.log(\"Bokeh: ERROR: autoload.js configured with elementid '0f38451b-dd4f-479d-aeba-4227b8a54182' but no matching script tag was found. \")\n",
       "      return false;\n",
       "    }\n",
       "  \n",
       "    var js_urls = [];\n",
       "  \n",
       "    var inline_js = [\n",
       "      function(Bokeh) {\n",
       "        (function() {\n",
       "          var fn = function() {\n",
       "            var docs_json = {\"48e5564c-1e64-4b28-8eef-556be290f60b\":{\"roots\":{\"references\":[{\"attributes\":{\"plot\":{\"id\":\"340b5b15-27d9-4970-a22e-7df3fbe10ed7\",\"subtype\":\"Figure\",\"type\":\"Plot\"}},\"id\":\"b1bde3da-42f4-4ed9-8171-498b94bd9bc3\",\"type\":\"ResetTool\"},{\"attributes\":{\"bottom_units\":\"screen\",\"fill_alpha\":{\"value\":0.5},\"fill_color\":{\"value\":\"lightgrey\"},\"left_units\":\"screen\",\"level\":\"overlay\",\"line_alpha\":{\"value\":1.0},\"line_color\":{\"value\":\"black\"},\"line_dash\":[4,4],\"line_width\":{\"value\":2},\"plot\":null,\"render_mode\":\"css\",\"right_units\":\"screen\",\"top_units\":\"screen\"},\"id\":\"7cce858d-14f1-4418-970d-60807adf3f67\",\"type\":\"BoxAnnotation\"},{\"attributes\":{\"overlay\":{\"id\":\"7cce858d-14f1-4418-970d-60807adf3f67\",\"type\":\"BoxAnnotation\"},\"plot\":{\"id\":\"340b5b15-27d9-4970-a22e-7df3fbe10ed7\",\"subtype\":\"Figure\",\"type\":\"Plot\"}},\"id\":\"4be64fe7-7980-4a85-90fe-904749f07ab9\",\"type\":\"BoxZoomTool\"},{\"attributes\":{\"fill_alpha\":{\"value\":0.1},\"fill_color\":{\"value\":\"#1f77b4\"},\"line_alpha\":{\"value\":0.1},\"line_color\":{\"value\":\"#1f77b4\"},\"size\":{\"units\":\"screen\",\"value\":13},\"x\":{\"field\":\"c1\"},\"y\":{\"field\":\"c2\"}},\"id\":\"676d1978-44f2-4c73-b4f3-750071f03909\",\"type\":\"Circle\"},{\"attributes\":{\"fill_color\":{\"field\":\"color\"},\"line_color\":{\"field\":\"color\"},\"size\":{\"units\":\"screen\",\"value\":13},\"x\":{\"field\":\"c1\"},\"y\":{\"field\":\"c2\"}},\"id\":\"54ab2d40-2618-40f8-ad50-26f7fdc3e2ad\",\"type\":\"Circle\"},{\"attributes\":{\"below\":[{\"id\":\"54749aea-e33d-4334-ba60-03179a0424ed\",\"type\":\"LinearAxis\"}],\"left\":[{\"id\":\"4c55cc66-59ab-4c39-9d88-ad829378c15f\",\"type\":\"LinearAxis\"}],\"plot_width\":800,\"renderers\":[{\"id\":\"54749aea-e33d-4334-ba60-03179a0424ed\",\"type\":\"LinearAxis\"},{\"id\":\"76ef2125-91a7-4f5a-bc46-8642e1ec2f68\",\"type\":\"Grid\"},{\"id\":\"4c55cc66-59ab-4c39-9d88-ad829378c15f\",\"type\":\"LinearAxis\"},{\"id\":\"5ef90826-421a-4202-8abe-37f1e96759c9\",\"type\":\"Grid\"},{\"id\":\"7cce858d-14f1-4418-970d-60807adf3f67\",\"type\":\"BoxAnnotation\"},{\"id\":\"9ae3b12e-3152-44e6-a67c-b2806a1d6e83\",\"type\":\"GlyphRenderer\"}],\"title\":{\"id\":\"6e58e665-4ec5-496a-8f5e-be646b029c75\",\"type\":\"Title\"},\"tool_events\":{\"id\":\"74378427-fe85-44d1-9419-384dda2e87ee\",\"type\":\"ToolEvents\"},\"toolbar\":{\"id\":\"6c8f558b-e3cf-49ff-a5fa-c1658428fe9c\",\"type\":\"Toolbar\"},\"x_range\":{\"id\":\"054555ed-5e87-48f0-a389-dbb98f2a5681\",\"type\":\"DataRange1d\"},\"y_range\":{\"id\":\"1c4d270f-5f80-489e-8b16-8147e69127a9\",\"type\":\"DataRange1d\"}},\"id\":\"340b5b15-27d9-4970-a22e-7df3fbe10ed7\",\"subtype\":\"Figure\",\"type\":\"Plot\"},{\"attributes\":{},\"id\":\"b03d7b44-9f47-42e1-8287-92f6eef9b4d2\",\"type\":\"BasicTickFormatter\"},{\"attributes\":{\"plot\":null,\"text\":\"A House Divided\"},\"id\":\"6e58e665-4ec5-496a-8f5e-be646b029c75\",\"type\":\"Title\"},{\"attributes\":{\"callback\":null},\"id\":\"054555ed-5e87-48f0-a389-dbb98f2a5681\",\"type\":\"DataRange1d\"},{\"attributes\":{},\"id\":\"74378427-fe85-44d1-9419-384dda2e87ee\",\"type\":\"ToolEvents\"},{\"attributes\":{\"active_drag\":\"auto\",\"active_scroll\":\"auto\",\"active_tap\":\"auto\",\"tools\":[{\"id\":\"f5732f29-615f-43e8-8b50-53c7918cce05\",\"type\":\"HoverTool\"},{\"id\":\"996346b3-49e8-46e0-957a-185a985a3312\",\"type\":\"SaveTool\"},{\"id\":\"4be64fe7-7980-4a85-90fe-904749f07ab9\",\"type\":\"BoxZoomTool\"},{\"id\":\"b1bde3da-42f4-4ed9-8171-498b94bd9bc3\",\"type\":\"ResetTool\"}]},\"id\":\"6c8f558b-e3cf-49ff-a5fa-c1658428fe9c\",\"type\":\"Toolbar\"},{\"attributes\":{},\"id\":\"fcfbf2fc-b117-4db8-a88e-7667dba458b3\",\"type\":\"BasicTickFormatter\"},{\"attributes\":{\"formatter\":{\"id\":\"fcfbf2fc-b117-4db8-a88e-7667dba458b3\",\"type\":\"BasicTickFormatter\"},\"plot\":{\"id\":\"340b5b15-27d9-4970-a22e-7df3fbe10ed7\",\"subtype\":\"Figure\",\"type\":\"Plot\"},\"ticker\":{\"id\":\"8a6c8dc8-d167-40fb-9bfd-eaab47d26d79\",\"type\":\"BasicTicker\"}},\"id\":\"54749aea-e33d-4334-ba60-03179a0424ed\",\"type\":\"LinearAxis\"},{\"attributes\":{\"callback\":null},\"id\":\"1c4d270f-5f80-489e-8b16-8147e69127a9\",\"type\":\"DataRange1d\"},{\"attributes\":{},\"id\":\"8a6c8dc8-d167-40fb-9bfd-eaab47d26d79\",\"type\":\"BasicTicker\"},{\"attributes\":{\"plot\":{\"id\":\"340b5b15-27d9-4970-a22e-7df3fbe10ed7\",\"subtype\":\"Figure\",\"type\":\"Plot\"},\"ticker\":{\"id\":\"8a6c8dc8-d167-40fb-9bfd-eaab47d26d79\",\"type\":\"BasicTicker\"}},\"id\":\"76ef2125-91a7-4f5a-bc46-8642e1ec2f68\",\"type\":\"Grid\"},{\"attributes\":{\"formatter\":{\"id\":\"b03d7b44-9f47-42e1-8287-92f6eef9b4d2\",\"type\":\"BasicTickFormatter\"},\"plot\":{\"id\":\"340b5b15-27d9-4970-a22e-7df3fbe10ed7\",\"subtype\":\"Figure\",\"type\":\"Plot\"},\"ticker\":{\"id\":\"18eb8261-d06a-4daa-b9ba-b47508bbae5d\",\"type\":\"BasicTicker\"}},\"id\":\"4c55cc66-59ab-4c39-9d88-ad829378c15f\",\"type\":\"LinearAxis\"},{\"attributes\":{},\"id\":\"18eb8261-d06a-4daa-b9ba-b47508bbae5d\",\"type\":\"BasicTicker\"},{\"attributes\":{\"dimension\":1,\"plot\":{\"id\":\"340b5b15-27d9-4970-a22e-7df3fbe10ed7\",\"subtype\":\"Figure\",\"type\":\"Plot\"},\"ticker\":{\"id\":\"18eb8261-d06a-4daa-b9ba-b47508bbae5d\",\"type\":\"BasicTicker\"}},\"id\":\"5ef90826-421a-4202-8abe-37f1e96759c9\",\"type\":\"Grid\"},{\"attributes\":{\"data_source\":{\"id\":\"d37112cf-19a7-492c-aa9d-3dd2ae723b51\",\"type\":\"ColumnDataSource\"},\"glyph\":{\"id\":\"54ab2d40-2618-40f8-ad50-26f7fdc3e2ad\",\"type\":\"Circle\"},\"hover_glyph\":null,\"nonselection_glyph\":{\"id\":\"676d1978-44f2-4c73-b4f3-750071f03909\",\"type\":\"Circle\"},\"selection_glyph\":null},\"id\":\"9ae3b12e-3152-44e6-a67c-b2806a1d6e83\",\"type\":\"GlyphRenderer\"},{\"attributes\":{\"callback\":null,\"plot\":{\"id\":\"340b5b15-27d9-4970-a22e-7df3fbe10ed7\",\"subtype\":\"Figure\",\"type\":\"Plot\"},\"tooltips\":[[\"Senator\",\"@names\"]]},\"id\":\"f5732f29-615f-43e8-8b50-53c7918cce05\",\"type\":\"HoverTool\"},{\"attributes\":{\"plot\":{\"id\":\"340b5b15-27d9-4970-a22e-7df3fbe10ed7\",\"subtype\":\"Figure\",\"type\":\"Plot\"}},\"id\":\"996346b3-49e8-46e0-957a-185a985a3312\",\"type\":\"SaveTool\"},{\"attributes\":{\"callback\":null,\"column_names\":[\"c1\",\"c2\",\"color\",\"names\"],\"data\":{\"c1\":{\"__ndarray__\":\"OSJXd1Bvr7+A3GCdwjalv2hF8Y4OIb8/9RO4u+vrub+vTh98xA+5P4XJSYKcWr4/V6EFLCz2uL/QXJSkEa+/P1ZYmV/dfbq/1mA8k8W0uz9aqqRInYO/P7uryq6Elba/chcmRe5fvT8jkerGTxa0v/QJN6ho0r4/m4o5UXOXuD9roqSN7SO7P3ng4hPCqLi/CM6cPKaWuL8P08lpwTO1v7QiT0also2/LFsBXzkHvT/5L+MehX61v1jKSk1w/7e/GK31SCP2u79suv12bwm8v2M7DnyUVLW/Qdzcm7hMub9hs+SIjoSvPyzUbgtZ4r4/IBORu7wjuL/78tiqbgS6v2X7cxdVOLo/+Izrtc3Jur9uJ6UVJue2v3rKbLaPRL8/x1xxmqNotb9esr3aePe/P6Uxy1Yueai/2+sEH0TluL96ik1ayCm1v4q3mZ3Zab4/qwrkW2oKrT/bLrKgsWKxv382MuZTub8/edmHmPLit7/EkGrHBkO7v0fPOXcSZ7i/fQi5do7At79oR4ED/AO6P3R/nyb2Drc/D4MMsyFEob+TpSX7amK8P1UldGXqlrq/KDYMXeJWvz8TgYnF9o22vw5d79TnZqE/FKGXD+m3vz8PbSbEFzm2v5QO1Ty9grQ/sXIIDf24s7+l/0bEx9m9P0k3+qVioL8/NckUJ7V5vT/Y+5MDAjK5v4R5+aiQhay/vbGo+w5Qvj8yqMtnUhy9P6gZ5IuOn7g/7+qFslDBtL9lA7Aotwy6v80szndVtr0/oOw/Dx45sb8i5HV9XoK/P+2OztcmJLs/I0cT8LmIvL8pLZT2y6+5v2Pr7jRAkLa/stlXLHP0s7+pdk+XGZG3P2KY8ljyJ7y/7VXvzcqnvj8v7ub3Vya/P2BregOcmbq/Ggbv3gYuur+fwJzziWS8P0wGv/P0+7m/bXuJEb0bvT9aVXRjHG+3v+XpwfTGbrk/FPqW2/O0uL8lgn7AyuS3v6QC2mnAiLm/5eQs7VoKvz/UjC2DP+i5v4KMKScRoLY/a4Pg/jMfwD+FarLo7FS+P/f94atewbi/zs2/+aw5vT8=\",\"dtype\":\"float64\",\"shape\":[100]},\"c2\":{\"__ndarray__\":\"24MHyhOLwL/Yk+3E/pK9v5CfRU0Dere/sJmOsxOru79gFBEo9k68v+LaDr8dzLm/+pT2CkOPt78ZIyT52Oe0v7QtCadpO7u/qLrto+NCsL+8ZlS9mrW2vwCouIzqBcC/LwQExhfYuL80bpYhhEbAvw5ph7I20re/qj+tLmVRvL/vjyD5Cwm6v0snNA+My7u/uDoa+fJPu7/X8Lw3N1zBv1quVG/gnL6/Lx7Q/jqQub9tzRRlcx+9vw3P9WQQeb2/z/85N1rvtb/4n18yjBu0v+XM/4odrGA/TqzlJnyXuL/3khOWw6+7vxyrqJrt1ra/O3i48AhUu79czVI7mW68v1c9VdUycr+/5jSlQGKVvL+ubXdnmM63v91Bi2k7t7a/sJ+6rJtkvL9rMH7yWJi1v5gl2b08Q7e/IXDmvlZUur+UXad7ljvAv/memcpUxri/9Pn/jFxcvr8V5OKAN2S4v+i1k6o18re/3d03foEHvb90TCKsc7G6v6Fare9d+L2/PGdvOFVKvL8IE4DeLri7vwqLiDnMb7u/8MLkSOquu78PL+ivOSa7vxrWVT6Eo7i/DNHxdCwJtr+RZyG8Zv6lv94VByFva7i/ct3I9jdpsr9yARPPeum7v4s2vRZZObu/S710gbt2wL9LJ8cxKNi0v3fIWW5+uLO/6DItJ713ub+u4LPdLk20v9QfHElwf72/mFn9JNGWub8XrOugBXW5v0yFeRQHc7q/YmRr/y6Jrb/QX04Q/kS7vySlx+ac27q/b6fQ9FIqur+ZnOI7VO64v+0dlH32gri/8gvA/mjatL8dNH+Gjj6+v2SwoRDokMC/xiiEO+87ob/EZM8QggSEvy3or7DHL7G/5SI3YJ3xt7/kuhZ2jXW3v5Zpy0+Xrbm/LRgaizYCt7/w+wXBsHK5v48+GEsJOLW/EDynDnkXu7/6fXSBLx63v7JP+lu3/by/YqwdvCx9vL+mZ2d3jqG/vywC7qQSXrS/DHftwOlHt7+/WdhLPhipv0IzhxxJ076/2e1ZlK37sr8zumehkq+5v3Q8fpQVQ76/7nPg+jWXtb8=\",\"dtype\":\"float64\",\"shape\":[100]},\"color\":[\"firebrick\",\"firebrick\",\"darkblue\",\"firebrick\",\"darkblue\",\"darkblue\",\"firebrick\",\"darkblue\",\"firebrick\",\"darkblue\",\"darkblue\",\"firebrick\",\"darkblue\",\"firebrick\",\"darkblue\",\"darkblue\",\"darkblue\",\"firebrick\",\"firebrick\",\"firebrick\",\"firebrick\",\"darkblue\",\"firebrick\",\"firebrick\",\"firebrick\",\"firebrick\",\"firebrick\",\"firebrick\",\"darkblue\",\"darkblue\",\"firebrick\",\"firebrick\",\"darkblue\",\"firebrick\",\"firebrick\",\"darkblue\",\"firebrick\",\"darkblue\",\"firebrick\",\"firebrick\",\"firebrick\",\"darkblue\",\"darkblue\",\"firebrick\",\"darkblue\",\"firebrick\",\"firebrick\",\"firebrick\",\"firebrick\",\"darkblue\",\"darkblue\",\"firebrick\",\"darkblue\",\"firebrick\",\"darkblue\",\"firebrick\",\"darkblue\",\"darkblue\",\"firebrick\",\"darkblue\",\"firebrick\",\"darkblue\",\"darkblue\",\"darkblue\",\"firebrick\",\"firebrick\",\"darkblue\",\"darkblue\",\"darkblue\",\"firebrick\",\"firebrick\",\"darkblue\",\"firebrick\",\"darkblue\",\"darkblue\",\"firebrick\",\"firebrick\",\"firebrick\",\"firebrick\",\"darkblue\",\"firebrick\",\"darkblue\",\"darkblue\",\"firebrick\",\"firebrick\",\"darkblue\",\"firebrick\",\"darkblue\",\"firebrick\",\"darkblue\",\"firebrick\",\"firebrick\",\"firebrick\",\"darkblue\",\"firebrick\",\"darkblue\",\"darkblue\",\"darkblue\",\"firebrick\",\"darkblue\"],\"names\":[\"Alexander (R-TN)\",\"Ayotte (R-NH)\",\"Baldwin (D-WI)\",\"Barrasso (R-WY)\",\"Bennet (D-CO)\",\"Blumenthal (D-CT)\",\"Blunt (R-MO)\",\"Booker (D-NJ)\",\"Boozman (R-AR)\",\"Boxer (D-CA)\",\"Brown (D-OH)\",\"Burr (R-NC)\",\"Cantwell (D-WA)\",\"Capito (R-WV)\",\"Cardin (D-MD)\",\"Carper (D-DE)\",\"Casey (D-PA)\",\"Cassidy (R-LA)\",\"Coats (R-IN)\",\"Cochran (R-MS)\",\"Collins (R-ME)\",\"Coons (D-DE)\",\"Corker (R-TN)\",\"Cornyn (R-TX)\",\"Cotton (R-AR)\",\"Crapo (R-ID)\",\"Cruz (R-TX)\",\"Daines (R-MT)\",\"Donnelly (D-IN)\",\"Durbin (D-IL)\",\"Enzi (R-WY)\",\"Ernst (R-IA)\",\"Feinstein (D-CA)\",\"Fischer (R-NE)\",\"Flake (R-AZ)\",\"Franken (D-MN)\",\"Gardner (R-CO)\",\"Gillibrand (D-NY)\",\"Graham (R-SC)\",\"Grassley (R-IA)\",\"Hatch (R-UT)\",\"Heinrich (D-NM)\",\"Heitkamp (D-ND)\",\"Heller (R-NV)\",\"Hirono (D-HI)\",\"Hoeven (R-ND)\",\"Inhofe (R-OK)\",\"Isakson (R-GA)\",\"Johnson (R-WI)\",\"Kaine (D-VA)\",\"King (I-ME)\",\"Kirk (R-IL)\",\"Klobuchar (D-MN)\",\"Lankford (R-OK)\",\"Leahy (D-VT)\",\"Lee (R-UT)\",\"Manchin (D-WV)\",\"Markey (D-MA)\",\"McCain (R-AZ)\",\"McCaskill (D-MO)\",\"McConnell (R-KY)\",\"Menendez (D-NJ)\",\"Merkley (D-OR)\",\"Mikulski (D-MD)\",\"Moran (R-KS)\",\"Murkowski (R-AK)\",\"Murphy (D-CT)\",\"Murray (D-WA)\",\"Nelson (D-FL)\",\"Paul (R-KY)\",\"Perdue (R-GA)\",\"Peters (D-MI)\",\"Portman (R-OH)\",\"Reed (D-RI)\",\"Reid (D-NV)\",\"Risch (R-ID)\",\"Roberts (R-KS)\",\"Rounds (R-SD)\",\"Rubio (R-FL)\",\"Sanders (I-VT)\",\"Sasse (R-NE)\",\"Schatz (D-HI)\",\"Schumer (D-NY)\",\"Scott (R-SC)\",\"Sessions (R-AL)\",\"Shaheen (D-NH)\",\"Shelby (R-AL)\",\"Stabenow (D-MI)\",\"Sullivan (R-AK)\",\"Tester (D-MT)\",\"Thune (R-SD)\",\"Tillis (R-NC)\",\"Toomey (R-PA)\",\"Udall (D-NM)\",\"Vitter (R-LA)\",\"Warner (D-VA)\",\"Warren (D-MA)\",\"Whitehouse (D-RI)\",\"Wicker (R-MS)\",\"Wyden (D-OR)\"]}},\"id\":\"d37112cf-19a7-492c-aa9d-3dd2ae723b51\",\"type\":\"ColumnDataSource\"}],\"root_ids\":[\"340b5b15-27d9-4970-a22e-7df3fbe10ed7\"]},\"title\":\"Bokeh Application\",\"version\":\"0.12.4\"}};\n",
       "            var render_items = [{\"docid\":\"48e5564c-1e64-4b28-8eef-556be290f60b\",\"elementid\":\"0f38451b-dd4f-479d-aeba-4227b8a54182\",\"modelid\":\"340b5b15-27d9-4970-a22e-7df3fbe10ed7\"}];\n",
       "            \n",
       "            Bokeh.embed.embed_items(docs_json, render_items);\n",
       "          };\n",
       "          if (document.readyState != \"loading\") fn();\n",
       "          else document.addEventListener(\"DOMContentLoaded\", fn);\n",
       "        })();\n",
       "      },\n",
       "      function(Bokeh) {\n",
       "      }\n",
       "    ];\n",
       "  \n",
       "    function run_inline_js() {\n",
       "      \n",
       "      if ((window.Bokeh !== undefined) || (force === true)) {\n",
       "        for (var i = 0; i < inline_js.length; i++) {\n",
       "          inline_js[i](window.Bokeh);\n",
       "        }if (force === true) {\n",
       "          display_loaded();\n",
       "        }} else if (Date.now() < window._bokeh_timeout) {\n",
       "        setTimeout(run_inline_js, 100);\n",
       "      } else if (!window._bokeh_failed_load) {\n",
       "        console.log(\"Bokeh: BokehJS failed to load within specified timeout.\");\n",
       "        window._bokeh_failed_load = true;\n",
       "      } else if (force !== true) {\n",
       "        var cell = $(document.getElementById(\"0f38451b-dd4f-479d-aeba-4227b8a54182\")).parents('.cell').data().cell;\n",
       "        cell.output_area.append_execute_result(NB_LOAD_WARNING)\n",
       "      }\n",
       "  \n",
       "    }\n",
       "  \n",
       "    if (window._bokeh_is_loading === 0) {\n",
       "      console.log(\"Bokeh: BokehJS loaded, going straight to plotting\");\n",
       "      run_inline_js();\n",
       "    } else {\n",
       "      load_libs(js_urls, function() {\n",
       "        console.log(\"Bokeh: BokehJS plotting callback run at\", now());\n",
       "        run_inline_js();\n",
       "      });\n",
       "    }\n",
       "  }(this));\n",
       "</script>"
      ]
     },
     "metadata": {},
     "output_type": "display_data"
    }
   ],
   "source": [
    "# color by cluster\n",
    "color_dict = {0:'firebrick', 1:'darkblue'}\n",
    "cs = pd.Series(predicted_parties).map(color_dict)\n",
    "color = cs.values\n",
    "\n",
    "#make source data\n",
    "source = ColumnDataSource(data=dict(\n",
    "    c1 = c1,\n",
    "    c2=c2,\n",
    "    color=color,\n",
    "    names = names\n",
    "))\n",
    "\n",
    "\n",
    "p1 = figure(plot_width=800, plot_height=600, title=\"A House Divided\", tools = 'hover, save, box_zoom,reset')\n",
    "p1.circle('c1', 'c2', color='color', source=source, size=13)\n",
    "\n",
    "p1.select_one(HoverTool).tooltips = [\n",
    "    ('Senator', '@names')]\n",
    "\n",
    "output_file('../gallery/senate_divided.html')\n",
    "\n",
    "show(p1)"
   ]
  },
  {
   "cell_type": "code",
   "execution_count": 53,
   "metadata": {
    "collapsed": true
   },
   "outputs": [],
   "source": [
    "# let's show the actual parties\n",
    "\n",
    "parties = []\n",
    "for name in names:\n",
    "    party = name[-5:-4]\n",
    "    parties.append(party)"
   ]
  },
  {
   "cell_type": "code",
   "execution_count": 54,
   "metadata": {
    "collapsed": true
   },
   "outputs": [],
   "source": [
    "colors_dict = {'R':'red', 'D':'blue', 'I':'green'}\n",
    "cp = pd.Series(parties).map(colors_dict)"
   ]
  },
  {
   "cell_type": "code",
   "execution_count": 55,
   "metadata": {},
   "outputs": [
    {
     "data": {
      "text/html": [
       "\n",
       "\n",
       "    <div class=\"bk-root\">\n",
       "        <div class=\"bk-plotdiv\" id=\"e3d0ec12-f13e-4689-8dd7-4c0ef87c37a5\"></div>\n",
       "    </div>\n",
       "<script type=\"text/javascript\">\n",
       "  \n",
       "  (function(global) {\n",
       "    function now() {\n",
       "      return new Date();\n",
       "    }\n",
       "  \n",
       "    var force = false;\n",
       "  \n",
       "    if (typeof (window._bokeh_onload_callbacks) === \"undefined\" || force === true) {\n",
       "      window._bokeh_onload_callbacks = [];\n",
       "      window._bokeh_is_loading = undefined;\n",
       "    }\n",
       "  \n",
       "  \n",
       "    \n",
       "    if (typeof (window._bokeh_timeout) === \"undefined\" || force === true) {\n",
       "      window._bokeh_timeout = Date.now() + 0;\n",
       "      window._bokeh_failed_load = false;\n",
       "    }\n",
       "  \n",
       "    var NB_LOAD_WARNING = {'data': {'text/html':\n",
       "       \"<div style='background-color: #fdd'>\\n\"+\n",
       "       \"<p>\\n\"+\n",
       "       \"BokehJS does not appear to have successfully loaded. If loading BokehJS from CDN, this \\n\"+\n",
       "       \"may be due to a slow or bad network connection. Possible fixes:\\n\"+\n",
       "       \"</p>\\n\"+\n",
       "       \"<ul>\\n\"+\n",
       "       \"<li>re-rerun `output_notebook()` to attempt to load from CDN again, or</li>\\n\"+\n",
       "       \"<li>use INLINE resources instead, as so:</li>\\n\"+\n",
       "       \"</ul>\\n\"+\n",
       "       \"<code>\\n\"+\n",
       "       \"from bokeh.resources import INLINE\\n\"+\n",
       "       \"output_notebook(resources=INLINE)\\n\"+\n",
       "       \"</code>\\n\"+\n",
       "       \"</div>\"}};\n",
       "  \n",
       "    function display_loaded() {\n",
       "      if (window.Bokeh !== undefined) {\n",
       "        document.getElementById(\"e3d0ec12-f13e-4689-8dd7-4c0ef87c37a5\").textContent = \"BokehJS successfully loaded.\";\n",
       "      } else if (Date.now() < window._bokeh_timeout) {\n",
       "        setTimeout(display_loaded, 100)\n",
       "      }\n",
       "    }\n",
       "  \n",
       "    function run_callbacks() {\n",
       "      window._bokeh_onload_callbacks.forEach(function(callback) { callback() });\n",
       "      delete window._bokeh_onload_callbacks\n",
       "      console.info(\"Bokeh: all callbacks have finished\");\n",
       "    }\n",
       "  \n",
       "    function load_libs(js_urls, callback) {\n",
       "      window._bokeh_onload_callbacks.push(callback);\n",
       "      if (window._bokeh_is_loading > 0) {\n",
       "        console.log(\"Bokeh: BokehJS is being loaded, scheduling callback at\", now());\n",
       "        return null;\n",
       "      }\n",
       "      if (js_urls == null || js_urls.length === 0) {\n",
       "        run_callbacks();\n",
       "        return null;\n",
       "      }\n",
       "      console.log(\"Bokeh: BokehJS not loaded, scheduling load and callback at\", now());\n",
       "      window._bokeh_is_loading = js_urls.length;\n",
       "      for (var i = 0; i < js_urls.length; i++) {\n",
       "        var url = js_urls[i];\n",
       "        var s = document.createElement('script');\n",
       "        s.src = url;\n",
       "        s.async = false;\n",
       "        s.onreadystatechange = s.onload = function() {\n",
       "          window._bokeh_is_loading--;\n",
       "          if (window._bokeh_is_loading === 0) {\n",
       "            console.log(\"Bokeh: all BokehJS libraries loaded\");\n",
       "            run_callbacks()\n",
       "          }\n",
       "        };\n",
       "        s.onerror = function() {\n",
       "          console.warn(\"failed to load library \" + url);\n",
       "        };\n",
       "        console.log(\"Bokeh: injecting script tag for BokehJS library: \", url);\n",
       "        document.getElementsByTagName(\"head\")[0].appendChild(s);\n",
       "      }\n",
       "    };var element = document.getElementById(\"e3d0ec12-f13e-4689-8dd7-4c0ef87c37a5\");\n",
       "    if (element == null) {\n",
       "      console.log(\"Bokeh: ERROR: autoload.js configured with elementid 'e3d0ec12-f13e-4689-8dd7-4c0ef87c37a5' but no matching script tag was found. \")\n",
       "      return false;\n",
       "    }\n",
       "  \n",
       "    var js_urls = [];\n",
       "  \n",
       "    var inline_js = [\n",
       "      function(Bokeh) {\n",
       "        (function() {\n",
       "          var fn = function() {\n",
       "            var docs_json = {\"fd82b656-ed0c-4a8b-821e-949cbc68f2dc\":{\"roots\":{\"references\":[{\"attributes\":{\"plot\":{\"id\":\"6348a7ff-36a2-44ec-8da2-b99e37144f6a\",\"subtype\":\"Figure\",\"type\":\"Plot\"},\"ticker\":{\"id\":\"9e1c15ea-439a-4da4-8046-c2c95c4a29c8\",\"type\":\"BasicTicker\"}},\"id\":\"ff671c3b-6f62-4f78-a599-3411e8aaa519\",\"type\":\"Grid\"},{\"attributes\":{\"formatter\":{\"id\":\"0da48799-8027-4007-950c-2a4191dd1145\",\"type\":\"BasicTickFormatter\"},\"plot\":{\"id\":\"6348a7ff-36a2-44ec-8da2-b99e37144f6a\",\"subtype\":\"Figure\",\"type\":\"Plot\"},\"ticker\":{\"id\":\"e7c1f9d5-fe7e-4ca0-90b4-c050adae0d6a\",\"type\":\"BasicTicker\"}},\"id\":\"cf51d77d-9309-484c-87d5-ef02141bc7cf\",\"type\":\"LinearAxis\"},{\"attributes\":{},\"id\":\"e7c1f9d5-fe7e-4ca0-90b4-c050adae0d6a\",\"type\":\"BasicTicker\"},{\"attributes\":{\"plot\":{\"id\":\"6348a7ff-36a2-44ec-8da2-b99e37144f6a\",\"subtype\":\"Figure\",\"type\":\"Plot\"}},\"id\":\"5003943a-cf89-465d-88e0-0032ea9ead03\",\"type\":\"ResetTool\"},{\"attributes\":{\"dimension\":1,\"plot\":{\"id\":\"6348a7ff-36a2-44ec-8da2-b99e37144f6a\",\"subtype\":\"Figure\",\"type\":\"Plot\"},\"ticker\":{\"id\":\"e7c1f9d5-fe7e-4ca0-90b4-c050adae0d6a\",\"type\":\"BasicTicker\"}},\"id\":\"4b3af97d-46ec-4244-b387-253367df5b3b\",\"type\":\"Grid\"},{\"attributes\":{},\"id\":\"275ca084-f84a-4a0c-be04-b31a1f12f13f\",\"type\":\"BasicTickFormatter\"},{\"attributes\":{\"callback\":null,\"plot\":{\"id\":\"6348a7ff-36a2-44ec-8da2-b99e37144f6a\",\"subtype\":\"Figure\",\"type\":\"Plot\"},\"tooltips\":[[\"Senator\",\"@names\"]]},\"id\":\"f4da650d-9a8c-4b1f-9b98-040a7b93a1e2\",\"type\":\"HoverTool\"},{\"attributes\":{\"plot\":{\"id\":\"6348a7ff-36a2-44ec-8da2-b99e37144f6a\",\"subtype\":\"Figure\",\"type\":\"Plot\"}},\"id\":\"1c05e989-b252-4512-ae16-83e30f83c0b0\",\"type\":\"SaveTool\"},{\"attributes\":{\"fill_color\":{\"field\":\"color\"},\"line_color\":{\"field\":\"color\"},\"size\":{\"units\":\"screen\",\"value\":13},\"x\":{\"field\":\"c1\"},\"y\":{\"field\":\"c2\"}},\"id\":\"78e6c99b-d0df-44c1-8730-452472a41c11\",\"type\":\"Circle\"},{\"attributes\":{\"overlay\":{\"id\":\"d1d52f32-90de-4c42-aca7-5ac1a6077776\",\"type\":\"BoxAnnotation\"},\"plot\":{\"id\":\"6348a7ff-36a2-44ec-8da2-b99e37144f6a\",\"subtype\":\"Figure\",\"type\":\"Plot\"}},\"id\":\"2f84857f-ef97-4d59-9ddd-6f59ae8f3764\",\"type\":\"BoxZoomTool\"},{\"attributes\":{\"callback\":null,\"column_names\":[\"c1\",\"c2\",\"color\",\"names\"],\"data\":{\"c1\":{\"__ndarray__\":\"OSJXd1Bvr7+A3GCdwjalv2hF8Y4OIb8/9RO4u+vrub+vTh98xA+5P4XJSYKcWr4/V6EFLCz2uL/QXJSkEa+/P1ZYmV/dfbq/1mA8k8W0uz9aqqRInYO/P7uryq6Elba/chcmRe5fvT8jkerGTxa0v/QJN6ho0r4/m4o5UXOXuD9roqSN7SO7P3ng4hPCqLi/CM6cPKaWuL8P08lpwTO1v7QiT0also2/LFsBXzkHvT/5L+MehX61v1jKSk1w/7e/GK31SCP2u79suv12bwm8v2M7DnyUVLW/Qdzcm7hMub9hs+SIjoSvPyzUbgtZ4r4/IBORu7wjuL/78tiqbgS6v2X7cxdVOLo/+Izrtc3Jur9uJ6UVJue2v3rKbLaPRL8/x1xxmqNotb9esr3aePe/P6Uxy1Yueai/2+sEH0TluL96ik1ayCm1v4q3mZ3Zab4/qwrkW2oKrT/bLrKgsWKxv382MuZTub8/edmHmPLit7/EkGrHBkO7v0fPOXcSZ7i/fQi5do7At79oR4ED/AO6P3R/nyb2Drc/D4MMsyFEob+TpSX7amK8P1UldGXqlrq/KDYMXeJWvz8TgYnF9o22vw5d79TnZqE/FKGXD+m3vz8PbSbEFzm2v5QO1Ty9grQ/sXIIDf24s7+l/0bEx9m9P0k3+qVioL8/NckUJ7V5vT/Y+5MDAjK5v4R5+aiQhay/vbGo+w5Qvj8yqMtnUhy9P6gZ5IuOn7g/7+qFslDBtL9lA7Aotwy6v80szndVtr0/oOw/Dx45sb8i5HV9XoK/P+2OztcmJLs/I0cT8LmIvL8pLZT2y6+5v2Pr7jRAkLa/stlXLHP0s7+pdk+XGZG3P2KY8ljyJ7y/7VXvzcqnvj8v7ub3Vya/P2BregOcmbq/Ggbv3gYuur+fwJzziWS8P0wGv/P0+7m/bXuJEb0bvT9aVXRjHG+3v+XpwfTGbrk/FPqW2/O0uL8lgn7AyuS3v6QC2mnAiLm/5eQs7VoKvz/UjC2DP+i5v4KMKScRoLY/a4Pg/jMfwD+FarLo7FS+P/f94atewbi/zs2/+aw5vT8=\",\"dtype\":\"float64\",\"shape\":[100]},\"c2\":{\"__ndarray__\":\"24MHyhOLwL/Yk+3E/pK9v5CfRU0Dere/sJmOsxOru79gFBEo9k68v+LaDr8dzLm/+pT2CkOPt78ZIyT52Oe0v7QtCadpO7u/qLrto+NCsL+8ZlS9mrW2vwCouIzqBcC/LwQExhfYuL80bpYhhEbAvw5ph7I20re/qj+tLmVRvL/vjyD5Cwm6v0snNA+My7u/uDoa+fJPu7/X8Lw3N1zBv1quVG/gnL6/Lx7Q/jqQub9tzRRlcx+9vw3P9WQQeb2/z/85N1rvtb/4n18yjBu0v+XM/4odrGA/TqzlJnyXuL/3khOWw6+7vxyrqJrt1ra/O3i48AhUu79czVI7mW68v1c9VdUycr+/5jSlQGKVvL+ubXdnmM63v91Bi2k7t7a/sJ+6rJtkvL9rMH7yWJi1v5gl2b08Q7e/IXDmvlZUur+UXad7ljvAv/memcpUxri/9Pn/jFxcvr8V5OKAN2S4v+i1k6o18re/3d03foEHvb90TCKsc7G6v6Fare9d+L2/PGdvOFVKvL8IE4DeLri7vwqLiDnMb7u/8MLkSOquu78PL+ivOSa7vxrWVT6Eo7i/DNHxdCwJtr+RZyG8Zv6lv94VByFva7i/ct3I9jdpsr9yARPPeum7v4s2vRZZObu/S710gbt2wL9LJ8cxKNi0v3fIWW5+uLO/6DItJ713ub+u4LPdLk20v9QfHElwf72/mFn9JNGWub8XrOugBXW5v0yFeRQHc7q/YmRr/y6Jrb/QX04Q/kS7vySlx+ac27q/b6fQ9FIqur+ZnOI7VO64v+0dlH32gri/8gvA/mjatL8dNH+Gjj6+v2SwoRDokMC/xiiEO+87ob/EZM8QggSEvy3or7DHL7G/5SI3YJ3xt7/kuhZ2jXW3v5Zpy0+Xrbm/LRgaizYCt7/w+wXBsHK5v48+GEsJOLW/EDynDnkXu7/6fXSBLx63v7JP+lu3/by/YqwdvCx9vL+mZ2d3jqG/vywC7qQSXrS/DHftwOlHt7+/WdhLPhipv0IzhxxJ076/2e1ZlK37sr8zumehkq+5v3Q8fpQVQ76/7nPg+jWXtb8=\",\"dtype\":\"float64\",\"shape\":[100]},\"color\":[\"red\",\"red\",\"blue\",\"red\",\"blue\",\"blue\",\"red\",\"blue\",\"red\",\"blue\",\"blue\",\"red\",\"blue\",\"red\",\"blue\",\"blue\",\"blue\",\"red\",\"red\",\"red\",\"red\",\"blue\",\"red\",\"red\",\"red\",\"red\",\"red\",\"red\",\"blue\",\"blue\",\"red\",\"red\",\"blue\",\"red\",\"red\",\"blue\",\"red\",\"blue\",\"red\",\"red\",\"red\",\"blue\",\"blue\",\"red\",\"blue\",\"red\",\"red\",\"red\",\"red\",\"blue\",\"green\",\"red\",\"blue\",\"red\",\"blue\",\"red\",\"blue\",\"blue\",\"red\",\"blue\",\"red\",\"blue\",\"blue\",\"blue\",\"red\",\"red\",\"blue\",\"blue\",\"blue\",\"red\",\"red\",\"blue\",\"red\",\"blue\",\"blue\",\"red\",\"red\",\"red\",\"red\",\"green\",\"red\",\"blue\",\"blue\",\"red\",\"red\",\"blue\",\"red\",\"blue\",\"red\",\"blue\",\"red\",\"red\",\"red\",\"blue\",\"red\",\"blue\",\"blue\",\"blue\",\"red\",\"blue\"],\"names\":[\"Alexander (R-TN)\",\"Ayotte (R-NH)\",\"Baldwin (D-WI)\",\"Barrasso (R-WY)\",\"Bennet (D-CO)\",\"Blumenthal (D-CT)\",\"Blunt (R-MO)\",\"Booker (D-NJ)\",\"Boozman (R-AR)\",\"Boxer (D-CA)\",\"Brown (D-OH)\",\"Burr (R-NC)\",\"Cantwell (D-WA)\",\"Capito (R-WV)\",\"Cardin (D-MD)\",\"Carper (D-DE)\",\"Casey (D-PA)\",\"Cassidy (R-LA)\",\"Coats (R-IN)\",\"Cochran (R-MS)\",\"Collins (R-ME)\",\"Coons (D-DE)\",\"Corker (R-TN)\",\"Cornyn (R-TX)\",\"Cotton (R-AR)\",\"Crapo (R-ID)\",\"Cruz (R-TX)\",\"Daines (R-MT)\",\"Donnelly (D-IN)\",\"Durbin (D-IL)\",\"Enzi (R-WY)\",\"Ernst (R-IA)\",\"Feinstein (D-CA)\",\"Fischer (R-NE)\",\"Flake (R-AZ)\",\"Franken (D-MN)\",\"Gardner (R-CO)\",\"Gillibrand (D-NY)\",\"Graham (R-SC)\",\"Grassley (R-IA)\",\"Hatch (R-UT)\",\"Heinrich (D-NM)\",\"Heitkamp (D-ND)\",\"Heller (R-NV)\",\"Hirono (D-HI)\",\"Hoeven (R-ND)\",\"Inhofe (R-OK)\",\"Isakson (R-GA)\",\"Johnson (R-WI)\",\"Kaine (D-VA)\",\"King (I-ME)\",\"Kirk (R-IL)\",\"Klobuchar (D-MN)\",\"Lankford (R-OK)\",\"Leahy (D-VT)\",\"Lee (R-UT)\",\"Manchin (D-WV)\",\"Markey (D-MA)\",\"McCain (R-AZ)\",\"McCaskill (D-MO)\",\"McConnell (R-KY)\",\"Menendez (D-NJ)\",\"Merkley (D-OR)\",\"Mikulski (D-MD)\",\"Moran (R-KS)\",\"Murkowski (R-AK)\",\"Murphy (D-CT)\",\"Murray (D-WA)\",\"Nelson (D-FL)\",\"Paul (R-KY)\",\"Perdue (R-GA)\",\"Peters (D-MI)\",\"Portman (R-OH)\",\"Reed (D-RI)\",\"Reid (D-NV)\",\"Risch (R-ID)\",\"Roberts (R-KS)\",\"Rounds (R-SD)\",\"Rubio (R-FL)\",\"Sanders (I-VT)\",\"Sasse (R-NE)\",\"Schatz (D-HI)\",\"Schumer (D-NY)\",\"Scott (R-SC)\",\"Sessions (R-AL)\",\"Shaheen (D-NH)\",\"Shelby (R-AL)\",\"Stabenow (D-MI)\",\"Sullivan (R-AK)\",\"Tester (D-MT)\",\"Thune (R-SD)\",\"Tillis (R-NC)\",\"Toomey (R-PA)\",\"Udall (D-NM)\",\"Vitter (R-LA)\",\"Warner (D-VA)\",\"Warren (D-MA)\",\"Whitehouse (D-RI)\",\"Wicker (R-MS)\",\"Wyden (D-OR)\"]}},\"id\":\"a7d87366-61d9-496a-b538-7cb9d5bbd5fd\",\"type\":\"ColumnDataSource\"},{\"attributes\":{\"bottom_units\":\"screen\",\"fill_alpha\":{\"value\":0.5},\"fill_color\":{\"value\":\"lightgrey\"},\"left_units\":\"screen\",\"level\":\"overlay\",\"line_alpha\":{\"value\":1.0},\"line_color\":{\"value\":\"black\"},\"line_dash\":[4,4],\"line_width\":{\"value\":2},\"plot\":null,\"render_mode\":\"css\",\"right_units\":\"screen\",\"top_units\":\"screen\"},\"id\":\"d1d52f32-90de-4c42-aca7-5ac1a6077776\",\"type\":\"BoxAnnotation\"},{\"attributes\":{\"active_drag\":\"auto\",\"active_scroll\":\"auto\",\"active_tap\":\"auto\",\"tools\":[{\"id\":\"f4da650d-9a8c-4b1f-9b98-040a7b93a1e2\",\"type\":\"HoverTool\"},{\"id\":\"1c05e989-b252-4512-ae16-83e30f83c0b0\",\"type\":\"SaveTool\"},{\"id\":\"2f84857f-ef97-4d59-9ddd-6f59ae8f3764\",\"type\":\"BoxZoomTool\"},{\"id\":\"5003943a-cf89-465d-88e0-0032ea9ead03\",\"type\":\"ResetTool\"}]},\"id\":\"553014f3-1ddc-4b97-aec2-ab9158f262b8\",\"type\":\"Toolbar\"},{\"attributes\":{\"formatter\":{\"id\":\"275ca084-f84a-4a0c-be04-b31a1f12f13f\",\"type\":\"BasicTickFormatter\"},\"plot\":{\"id\":\"6348a7ff-36a2-44ec-8da2-b99e37144f6a\",\"subtype\":\"Figure\",\"type\":\"Plot\"},\"ticker\":{\"id\":\"9e1c15ea-439a-4da4-8046-c2c95c4a29c8\",\"type\":\"BasicTicker\"}},\"id\":\"8eef232b-03d2-4aa8-9b70-f4dab9e9749e\",\"type\":\"LinearAxis\"},{\"attributes\":{},\"id\":\"69086b78-400c-4875-9060-ed410cab8cfc\",\"type\":\"ToolEvents\"},{\"attributes\":{\"below\":[{\"id\":\"8eef232b-03d2-4aa8-9b70-f4dab9e9749e\",\"type\":\"LinearAxis\"}],\"left\":[{\"id\":\"cf51d77d-9309-484c-87d5-ef02141bc7cf\",\"type\":\"LinearAxis\"}],\"plot_width\":800,\"renderers\":[{\"id\":\"8eef232b-03d2-4aa8-9b70-f4dab9e9749e\",\"type\":\"LinearAxis\"},{\"id\":\"ff671c3b-6f62-4f78-a599-3411e8aaa519\",\"type\":\"Grid\"},{\"id\":\"cf51d77d-9309-484c-87d5-ef02141bc7cf\",\"type\":\"LinearAxis\"},{\"id\":\"4b3af97d-46ec-4244-b387-253367df5b3b\",\"type\":\"Grid\"},{\"id\":\"d1d52f32-90de-4c42-aca7-5ac1a6077776\",\"type\":\"BoxAnnotation\"},{\"id\":\"924942e5-3946-4f6b-bffa-c50b083e539d\",\"type\":\"GlyphRenderer\"}],\"title\":{\"id\":\"62ef10d4-bf71-43fc-8c02-01433ba5cc9c\",\"type\":\"Title\"},\"tool_events\":{\"id\":\"69086b78-400c-4875-9060-ed410cab8cfc\",\"type\":\"ToolEvents\"},\"toolbar\":{\"id\":\"553014f3-1ddc-4b97-aec2-ab9158f262b8\",\"type\":\"Toolbar\"},\"x_range\":{\"id\":\"c12fc05d-bbd6-4ee2-8ac0-506b1611e88f\",\"type\":\"DataRange1d\"},\"y_range\":{\"id\":\"e79eee7b-5f29-4753-b44f-838ac7142772\",\"type\":\"DataRange1d\"}},\"id\":\"6348a7ff-36a2-44ec-8da2-b99e37144f6a\",\"subtype\":\"Figure\",\"type\":\"Plot\"},{\"attributes\":{\"data_source\":{\"id\":\"a7d87366-61d9-496a-b538-7cb9d5bbd5fd\",\"type\":\"ColumnDataSource\"},\"glyph\":{\"id\":\"78e6c99b-d0df-44c1-8730-452472a41c11\",\"type\":\"Circle\"},\"hover_glyph\":null,\"nonselection_glyph\":{\"id\":\"bccfeab4-4c2b-4b4c-9ee4-59ce4a993c8c\",\"type\":\"Circle\"},\"selection_glyph\":null},\"id\":\"924942e5-3946-4f6b-bffa-c50b083e539d\",\"type\":\"GlyphRenderer\"},{\"attributes\":{},\"id\":\"9e1c15ea-439a-4da4-8046-c2c95c4a29c8\",\"type\":\"BasicTicker\"},{\"attributes\":{\"callback\":null},\"id\":\"c12fc05d-bbd6-4ee2-8ac0-506b1611e88f\",\"type\":\"DataRange1d\"},{\"attributes\":{},\"id\":\"0da48799-8027-4007-950c-2a4191dd1145\",\"type\":\"BasicTickFormatter\"},{\"attributes\":{\"callback\":null},\"id\":\"e79eee7b-5f29-4753-b44f-838ac7142772\",\"type\":\"DataRange1d\"},{\"attributes\":{\"fill_alpha\":{\"value\":0.1},\"fill_color\":{\"value\":\"#1f77b4\"},\"line_alpha\":{\"value\":0.1},\"line_color\":{\"value\":\"#1f77b4\"},\"size\":{\"units\":\"screen\",\"value\":13},\"x\":{\"field\":\"c1\"},\"y\":{\"field\":\"c2\"}},\"id\":\"bccfeab4-4c2b-4b4c-9ee4-59ce4a993c8c\",\"type\":\"Circle\"},{\"attributes\":{\"plot\":null,\"text\":\"A House Divided\"},\"id\":\"62ef10d4-bf71-43fc-8c02-01433ba5cc9c\",\"type\":\"Title\"}],\"root_ids\":[\"6348a7ff-36a2-44ec-8da2-b99e37144f6a\"]},\"title\":\"Bokeh Application\",\"version\":\"0.12.4\"}};\n",
       "            var render_items = [{\"docid\":\"fd82b656-ed0c-4a8b-821e-949cbc68f2dc\",\"elementid\":\"e3d0ec12-f13e-4689-8dd7-4c0ef87c37a5\",\"modelid\":\"6348a7ff-36a2-44ec-8da2-b99e37144f6a\"}];\n",
       "            \n",
       "            Bokeh.embed.embed_items(docs_json, render_items);\n",
       "          };\n",
       "          if (document.readyState != \"loading\") fn();\n",
       "          else document.addEventListener(\"DOMContentLoaded\", fn);\n",
       "        })();\n",
       "      },\n",
       "      function(Bokeh) {\n",
       "      }\n",
       "    ];\n",
       "  \n",
       "    function run_inline_js() {\n",
       "      \n",
       "      if ((window.Bokeh !== undefined) || (force === true)) {\n",
       "        for (var i = 0; i < inline_js.length; i++) {\n",
       "          inline_js[i](window.Bokeh);\n",
       "        }if (force === true) {\n",
       "          display_loaded();\n",
       "        }} else if (Date.now() < window._bokeh_timeout) {\n",
       "        setTimeout(run_inline_js, 100);\n",
       "      } else if (!window._bokeh_failed_load) {\n",
       "        console.log(\"Bokeh: BokehJS failed to load within specified timeout.\");\n",
       "        window._bokeh_failed_load = true;\n",
       "      } else if (force !== true) {\n",
       "        var cell = $(document.getElementById(\"e3d0ec12-f13e-4689-8dd7-4c0ef87c37a5\")).parents('.cell').data().cell;\n",
       "        cell.output_area.append_execute_result(NB_LOAD_WARNING)\n",
       "      }\n",
       "  \n",
       "    }\n",
       "  \n",
       "    if (window._bokeh_is_loading === 0) {\n",
       "      console.log(\"Bokeh: BokehJS loaded, going straight to plotting\");\n",
       "      run_inline_js();\n",
       "    } else {\n",
       "      load_libs(js_urls, function() {\n",
       "        console.log(\"Bokeh: BokehJS plotting callback run at\", now());\n",
       "        run_inline_js();\n",
       "      });\n",
       "    }\n",
       "  }(this));\n",
       "</script>"
      ]
     },
     "metadata": {},
     "output_type": "display_data"
    }
   ],
   "source": [
    "# color by cluster\n",
    "colors = cp.values\n",
    "#make source data\n",
    "source = ColumnDataSource(data=dict(\n",
    "    c1 = c1,\n",
    "    c2=c2,\n",
    "    color=colors,\n",
    "    names = names\n",
    "))\n",
    "\n",
    "\n",
    "p2 = figure(plot_width=800, plot_height=600, title=\"A House Divided\", tools = 'hover, save, box_zoom,reset')\n",
    "p2.circle('c1', 'c2', color='color', source=source, size=13)\n",
    "\n",
    "p2.select_one(HoverTool).tooltips = [\n",
    "    ('Senator', '@names')]\n",
    "\n",
    "output_file('../gallery/senate_divided_2.html')\n",
    "\n",
    "show(p2)"
   ]
  },
  {
   "cell_type": "markdown",
   "metadata": {
    "collapsed": true
   },
   "source": [
    "These images suggest there is serious division in the senate. This extends the results we noticed from the decision tree. "
   ]
  },
  {
   "cell_type": "code",
   "execution_count": null,
   "metadata": {
    "collapsed": true
   },
   "outputs": [],
   "source": []
  }
 ],
 "metadata": {
  "anaconda-cloud": {},
  "kernelspec": {
   "display_name": "Python 3",
   "language": "python",
   "name": "python3"
  },
  "language_info": {
   "codemirror_mode": {
    "name": "ipython",
    "version": 3
   },
   "file_extension": ".py",
   "mimetype": "text/x-python",
   "name": "python",
   "nbconvert_exporter": "python",
   "pygments_lexer": "ipython3",
   "version": "3.6.0"
  }
 },
 "nbformat": 4,
 "nbformat_minor": 1
}
