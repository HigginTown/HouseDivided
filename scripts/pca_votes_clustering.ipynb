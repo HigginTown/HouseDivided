{
 "cells": [
  {
   "cell_type": "markdown",
   "metadata": {},
   "source": [
    "# Make the preliminary clusters, supervised \n",
    "In this notebook, I apply KMeans and PCA to generate clusters of senators. Each senator is an observation and each of the 502 features is a discrete binary random variable indicating a `yea` or `nay` vote. \n",
    "\n",
    "We'll use the predicted label as a substitute for party label, and we'll compare the results with the true party labels. Using PCA, we can take the first two components and treat them like axes to visualize the results. \n"
   ]
  },
  {
   "cell_type": "code",
   "execution_count": 1,
   "metadata": {},
   "outputs": [
    {
     "data": {
      "text/html": [
       "\n",
       "    <div class=\"bk-root\">\n",
       "        <a href=\"http://bokeh.pydata.org\" target=\"_blank\" class=\"bk-logo bk-logo-small bk-logo-notebook\"></a>\n",
       "        <span id=\"c9a906f3-0d73-4d7a-9898-8208b8353222\">Loading BokehJS ...</span>\n",
       "    </div>"
      ]
     },
     "metadata": {},
     "output_type": "display_data"
    },
    {
     "data": {
      "application/javascript": [
       "\n",
       "(function(global) {\n",
       "  function now() {\n",
       "    return new Date();\n",
       "  }\n",
       "\n",
       "  var force = true;\n",
       "\n",
       "  if (typeof (window._bokeh_onload_callbacks) === \"undefined\" || force === true) {\n",
       "    window._bokeh_onload_callbacks = [];\n",
       "    window._bokeh_is_loading = undefined;\n",
       "  }\n",
       "\n",
       "\n",
       "  \n",
       "  if (typeof (window._bokeh_timeout) === \"undefined\" || force === true) {\n",
       "    window._bokeh_timeout = Date.now() + 5000;\n",
       "    window._bokeh_failed_load = false;\n",
       "  }\n",
       "\n",
       "  var NB_LOAD_WARNING = {'data': {'text/html':\n",
       "     \"<div style='background-color: #fdd'>\\n\"+\n",
       "     \"<p>\\n\"+\n",
       "     \"BokehJS does not appear to have successfully loaded. If loading BokehJS from CDN, this \\n\"+\n",
       "     \"may be due to a slow or bad network connection. Possible fixes:\\n\"+\n",
       "     \"</p>\\n\"+\n",
       "     \"<ul>\\n\"+\n",
       "     \"<li>re-rerun `output_notebook()` to attempt to load from CDN again, or</li>\\n\"+\n",
       "     \"<li>use INLINE resources instead, as so:</li>\\n\"+\n",
       "     \"</ul>\\n\"+\n",
       "     \"<code>\\n\"+\n",
       "     \"from bokeh.resources import INLINE\\n\"+\n",
       "     \"output_notebook(resources=INLINE)\\n\"+\n",
       "     \"</code>\\n\"+\n",
       "     \"</div>\"}};\n",
       "\n",
       "  function display_loaded() {\n",
       "    if (window.Bokeh !== undefined) {\n",
       "      document.getElementById(\"c9a906f3-0d73-4d7a-9898-8208b8353222\").textContent = \"BokehJS successfully loaded.\";\n",
       "    } else if (Date.now() < window._bokeh_timeout) {\n",
       "      setTimeout(display_loaded, 100)\n",
       "    }\n",
       "  }\n",
       "\n",
       "  function run_callbacks() {\n",
       "    window._bokeh_onload_callbacks.forEach(function(callback) { callback() });\n",
       "    delete window._bokeh_onload_callbacks\n",
       "    console.info(\"Bokeh: all callbacks have finished\");\n",
       "  }\n",
       "\n",
       "  function load_libs(js_urls, callback) {\n",
       "    window._bokeh_onload_callbacks.push(callback);\n",
       "    if (window._bokeh_is_loading > 0) {\n",
       "      console.log(\"Bokeh: BokehJS is being loaded, scheduling callback at\", now());\n",
       "      return null;\n",
       "    }\n",
       "    if (js_urls == null || js_urls.length === 0) {\n",
       "      run_callbacks();\n",
       "      return null;\n",
       "    }\n",
       "    console.log(\"Bokeh: BokehJS not loaded, scheduling load and callback at\", now());\n",
       "    window._bokeh_is_loading = js_urls.length;\n",
       "    for (var i = 0; i < js_urls.length; i++) {\n",
       "      var url = js_urls[i];\n",
       "      var s = document.createElement('script');\n",
       "      s.src = url;\n",
       "      s.async = false;\n",
       "      s.onreadystatechange = s.onload = function() {\n",
       "        window._bokeh_is_loading--;\n",
       "        if (window._bokeh_is_loading === 0) {\n",
       "          console.log(\"Bokeh: all BokehJS libraries loaded\");\n",
       "          run_callbacks()\n",
       "        }\n",
       "      };\n",
       "      s.onerror = function() {\n",
       "        console.warn(\"failed to load library \" + url);\n",
       "      };\n",
       "      console.log(\"Bokeh: injecting script tag for BokehJS library: \", url);\n",
       "      document.getElementsByTagName(\"head\")[0].appendChild(s);\n",
       "    }\n",
       "  };var element = document.getElementById(\"c9a906f3-0d73-4d7a-9898-8208b8353222\");\n",
       "  if (element == null) {\n",
       "    console.log(\"Bokeh: ERROR: autoload.js configured with elementid 'c9a906f3-0d73-4d7a-9898-8208b8353222' but no matching script tag was found. \")\n",
       "    return false;\n",
       "  }\n",
       "\n",
       "  var js_urls = [\"https://cdn.pydata.org/bokeh/release/bokeh-0.12.4.min.js\", \"https://cdn.pydata.org/bokeh/release/bokeh-widgets-0.12.4.min.js\"];\n",
       "\n",
       "  var inline_js = [\n",
       "    function(Bokeh) {\n",
       "      Bokeh.set_log_level(\"info\");\n",
       "    },\n",
       "    \n",
       "    function(Bokeh) {\n",
       "      \n",
       "      document.getElementById(\"c9a906f3-0d73-4d7a-9898-8208b8353222\").textContent = \"BokehJS is loading...\";\n",
       "    },\n",
       "    function(Bokeh) {\n",
       "      console.log(\"Bokeh: injecting CSS: https://cdn.pydata.org/bokeh/release/bokeh-0.12.4.min.css\");\n",
       "      Bokeh.embed.inject_css(\"https://cdn.pydata.org/bokeh/release/bokeh-0.12.4.min.css\");\n",
       "      console.log(\"Bokeh: injecting CSS: https://cdn.pydata.org/bokeh/release/bokeh-widgets-0.12.4.min.css\");\n",
       "      Bokeh.embed.inject_css(\"https://cdn.pydata.org/bokeh/release/bokeh-widgets-0.12.4.min.css\");\n",
       "    }\n",
       "  ];\n",
       "\n",
       "  function run_inline_js() {\n",
       "    \n",
       "    if ((window.Bokeh !== undefined) || (force === true)) {\n",
       "      for (var i = 0; i < inline_js.length; i++) {\n",
       "        inline_js[i](window.Bokeh);\n",
       "      }if (force === true) {\n",
       "        display_loaded();\n",
       "      }} else if (Date.now() < window._bokeh_timeout) {\n",
       "      setTimeout(run_inline_js, 100);\n",
       "    } else if (!window._bokeh_failed_load) {\n",
       "      console.log(\"Bokeh: BokehJS failed to load within specified timeout.\");\n",
       "      window._bokeh_failed_load = true;\n",
       "    } else if (force !== true) {\n",
       "      var cell = $(document.getElementById(\"c9a906f3-0d73-4d7a-9898-8208b8353222\")).parents('.cell').data().cell;\n",
       "      cell.output_area.append_execute_result(NB_LOAD_WARNING)\n",
       "    }\n",
       "\n",
       "  }\n",
       "\n",
       "  if (window._bokeh_is_loading === 0) {\n",
       "    console.log(\"Bokeh: BokehJS loaded, going straight to plotting\");\n",
       "    run_inline_js();\n",
       "  } else {\n",
       "    load_libs(js_urls, function() {\n",
       "      console.log(\"Bokeh: BokehJS plotting callback run at\", now());\n",
       "      run_inline_js();\n",
       "    });\n",
       "  }\n",
       "}(this));"
      ]
     },
     "metadata": {},
     "output_type": "display_data"
    }
   ],
   "source": [
    "import pandas as pd\n",
    "import numpy as np\n",
    "\n",
    "\n",
    "# clustering and modelling\n",
    "from sklearn.decomposition import PCA\n",
    "from sklearn.cluster import KMeans\n",
    "\n",
    "#plotting\n",
    "from bokeh.charts import *\n",
    "from bokeh.plotting import figure, show\n",
    "from bokeh.models import HoverTool\n",
    "import matplotlib.pyplot as plt\n",
    "output_notebook()"
   ]
  },
  {
   "cell_type": "code",
   "execution_count": 2,
   "metadata": {},
   "outputs": [],
   "source": [
    "votes = pd.read_csv('../data/cleaned_votes.csv', index_col=0)"
   ]
  },
  {
   "cell_type": "code",
   "execution_count": 3,
   "metadata": {},
   "outputs": [],
   "source": [
    "c = votes.iloc[:, :-1].T # remove the result column"
   ]
  },
  {
   "cell_type": "code",
   "execution_count": 4,
   "metadata": {},
   "outputs": [
    {
     "data": {
      "text/html": [
       "<div>\n",
       "<table border=\"1\" class=\"dataframe\">\n",
       "  <thead>\n",
       "    <tr style=\"text-align: right;\">\n",
       "      <th></th>\n",
       "      <th>1</th>\n",
       "      <th>2</th>\n",
       "      <th>3</th>\n",
       "      <th>4</th>\n",
       "      <th>5</th>\n",
       "      <th>6</th>\n",
       "      <th>7</th>\n",
       "      <th>8</th>\n",
       "      <th>9</th>\n",
       "      <th>10</th>\n",
       "      <th>...</th>\n",
       "      <th>462</th>\n",
       "      <th>478</th>\n",
       "      <th>487</th>\n",
       "      <th>492</th>\n",
       "      <th>494</th>\n",
       "      <th>496</th>\n",
       "      <th>497</th>\n",
       "      <th>500</th>\n",
       "      <th>501</th>\n",
       "      <th>502</th>\n",
       "    </tr>\n",
       "  </thead>\n",
       "  <tbody>\n",
       "    <tr>\n",
       "      <th>Alexander (R-TN)</th>\n",
       "      <td>0</td>\n",
       "      <td>1</td>\n",
       "      <td>1</td>\n",
       "      <td>1</td>\n",
       "      <td>1</td>\n",
       "      <td>1</td>\n",
       "      <td>1</td>\n",
       "      <td>0</td>\n",
       "      <td>0</td>\n",
       "      <td>1</td>\n",
       "      <td>...</td>\n",
       "      <td>1</td>\n",
       "      <td>1</td>\n",
       "      <td>1</td>\n",
       "      <td>1</td>\n",
       "      <td>1</td>\n",
       "      <td>1</td>\n",
       "      <td>1</td>\n",
       "      <td>1</td>\n",
       "      <td>1</td>\n",
       "      <td>1</td>\n",
       "    </tr>\n",
       "    <tr>\n",
       "      <th>Ayotte (R-NH)</th>\n",
       "      <td>0</td>\n",
       "      <td>1</td>\n",
       "      <td>1</td>\n",
       "      <td>1</td>\n",
       "      <td>1</td>\n",
       "      <td>1</td>\n",
       "      <td>1</td>\n",
       "      <td>0</td>\n",
       "      <td>0</td>\n",
       "      <td>1</td>\n",
       "      <td>...</td>\n",
       "      <td>1</td>\n",
       "      <td>0</td>\n",
       "      <td>1</td>\n",
       "      <td>0</td>\n",
       "      <td>1</td>\n",
       "      <td>1</td>\n",
       "      <td>1</td>\n",
       "      <td>1</td>\n",
       "      <td>1</td>\n",
       "      <td>1</td>\n",
       "    </tr>\n",
       "    <tr>\n",
       "      <th>Baldwin (D-WI)</th>\n",
       "      <td>1</td>\n",
       "      <td>1</td>\n",
       "      <td>0</td>\n",
       "      <td>0</td>\n",
       "      <td>0</td>\n",
       "      <td>1</td>\n",
       "      <td>0</td>\n",
       "      <td>1</td>\n",
       "      <td>0</td>\n",
       "      <td>1</td>\n",
       "      <td>...</td>\n",
       "      <td>1</td>\n",
       "      <td>1</td>\n",
       "      <td>1</td>\n",
       "      <td>0</td>\n",
       "      <td>1</td>\n",
       "      <td>1</td>\n",
       "      <td>1</td>\n",
       "      <td>1</td>\n",
       "      <td>0</td>\n",
       "      <td>1</td>\n",
       "    </tr>\n",
       "    <tr>\n",
       "      <th>Barrasso (R-WY)</th>\n",
       "      <td>0</td>\n",
       "      <td>1</td>\n",
       "      <td>1</td>\n",
       "      <td>1</td>\n",
       "      <td>1</td>\n",
       "      <td>1</td>\n",
       "      <td>1</td>\n",
       "      <td>0</td>\n",
       "      <td>1</td>\n",
       "      <td>1</td>\n",
       "      <td>...</td>\n",
       "      <td>1</td>\n",
       "      <td>0</td>\n",
       "      <td>1</td>\n",
       "      <td>1</td>\n",
       "      <td>1</td>\n",
       "      <td>1</td>\n",
       "      <td>1</td>\n",
       "      <td>1</td>\n",
       "      <td>1</td>\n",
       "      <td>1</td>\n",
       "    </tr>\n",
       "    <tr>\n",
       "      <th>Bennet (D-CO)</th>\n",
       "      <td>0</td>\n",
       "      <td>1</td>\n",
       "      <td>1</td>\n",
       "      <td>0</td>\n",
       "      <td>0</td>\n",
       "      <td>1</td>\n",
       "      <td>0</td>\n",
       "      <td>1</td>\n",
       "      <td>0</td>\n",
       "      <td>1</td>\n",
       "      <td>...</td>\n",
       "      <td>1</td>\n",
       "      <td>1</td>\n",
       "      <td>1</td>\n",
       "      <td>0</td>\n",
       "      <td>1</td>\n",
       "      <td>1</td>\n",
       "      <td>1</td>\n",
       "      <td>1</td>\n",
       "      <td>1</td>\n",
       "      <td>1</td>\n",
       "    </tr>\n",
       "  </tbody>\n",
       "</table>\n",
       "<p>5 rows × 438 columns</p>\n",
       "</div>"
      ],
      "text/plain": [
       "                  1    2    3    4    5    6    7    8    9    10  ...   462  \\\n",
       "Alexander (R-TN)    0    1    1    1    1    1    1    0    0    1 ...     1   \n",
       "Ayotte (R-NH)       0    1    1    1    1    1    1    0    0    1 ...     1   \n",
       "Baldwin (D-WI)      1    1    0    0    0    1    0    1    0    1 ...     1   \n",
       "Barrasso (R-WY)     0    1    1    1    1    1    1    0    1    1 ...     1   \n",
       "Bennet (D-CO)       0    1    1    0    0    1    0    1    0    1 ...     1   \n",
       "\n",
       "                  478  487  492  494  496  497  500  501  502  \n",
       "Alexander (R-TN)    1    1    1    1    1    1    1    1    1  \n",
       "Ayotte (R-NH)       0    1    0    1    1    1    1    1    1  \n",
       "Baldwin (D-WI)      1    1    0    1    1    1    1    0    1  \n",
       "Barrasso (R-WY)     0    1    1    1    1    1    1    1    1  \n",
       "Bennet (D-CO)       1    1    0    1    1    1    1    1    1  \n",
       "\n",
       "[5 rows x 438 columns]"
      ]
     },
     "execution_count": 4,
     "metadata": {},
     "output_type": "execute_result"
    }
   ],
   "source": [
    "c.head()"
   ]
  },
  {
   "cell_type": "markdown",
   "metadata": {},
   "source": [
    "Let's apply KMeans clustering and plot to visually analyze the distances between senators. "
   ]
  },
  {
   "cell_type": "code",
   "execution_count": 5,
   "metadata": {},
   "outputs": [
    {
     "data": {
      "text/plain": [
       "KMeans(algorithm='auto', copy_x=True, init='k-means++', max_iter=300,\n",
       "    n_clusters=2, n_init=10, n_jobs=1, precompute_distances='auto',\n",
       "    random_state=None, tol=0.0001, verbose=0)"
      ]
     },
     "execution_count": 5,
     "metadata": {},
     "output_type": "execute_result"
    }
   ],
   "source": [
    "km = KMeans(n_clusters=2)\n",
    "km.fit(c)"
   ]
  },
  {
   "cell_type": "code",
   "execution_count": 6,
   "metadata": {
    "collapsed": true
   },
   "outputs": [],
   "source": [
    "predicted_parties = pd.Series(km.labels_) # we'll color by predicted party label"
   ]
  },
  {
   "cell_type": "code",
   "execution_count": 7,
   "metadata": {},
   "outputs": [
    {
     "data": {
      "text/plain": [
       "1    54\n",
       "0    46\n",
       "dtype: int64"
      ]
     },
     "execution_count": 7,
     "metadata": {},
     "output_type": "execute_result"
    }
   ],
   "source": [
    "predicted_parties.value_counts()"
   ]
  },
  {
   "cell_type": "code",
   "execution_count": 8,
   "metadata": {
    "collapsed": true
   },
   "outputs": [],
   "source": [
    "# PCA\n",
    "pca = PCA(n_components=2)"
   ]
  },
  {
   "cell_type": "code",
   "execution_count": 9,
   "metadata": {},
   "outputs": [
    {
     "data": {
      "text/plain": [
       "PCA(copy=True, iterated_power='auto', n_components=2, random_state=None,\n",
       "  svd_solver='auto', tol=0.0, whiten=False)"
      ]
     },
     "execution_count": 9,
     "metadata": {},
     "output_type": "execute_result"
    }
   ],
   "source": [
    "pca.fit(c.T)"
   ]
  },
  {
   "cell_type": "code",
   "execution_count": 10,
   "metadata": {},
   "outputs": [
    {
     "data": {
      "text/plain": [
       "array([ 0.50643735,  0.18673049])"
      ]
     },
     "execution_count": 10,
     "metadata": {},
     "output_type": "execute_result"
    }
   ],
   "source": [
    "pca.explained_variance_ratio_"
   ]
  },
  {
   "cell_type": "code",
   "execution_count": 11,
   "metadata": {
    "collapsed": true
   },
   "outputs": [],
   "source": [
    "c1, c2 = pca.components_"
   ]
  },
  {
   "cell_type": "code",
   "execution_count": 12,
   "metadata": {},
   "outputs": [
    {
     "data": {
      "text/plain": [
       "((100,), (100,), (100,))"
      ]
     },
     "execution_count": 12,
     "metadata": {},
     "output_type": "execute_result"
    }
   ],
   "source": [
    "c1.shape, c2.shape, predicted_parties.shape"
   ]
  },
  {
   "cell_type": "code",
   "execution_count": 13,
   "metadata": {},
   "outputs": [
    {
     "data": {
      "text/plain": [
       "100"
      ]
     },
     "execution_count": 13,
     "metadata": {},
     "output_type": "execute_result"
    }
   ],
   "source": [
    "names = votes.T.index.values[:-1]\n",
    "len(names)"
   ]
  },
  {
   "cell_type": "markdown",
   "metadata": {},
   "source": [
    "Using Bokeh, we can make interactive html plots that work well on the web"
   ]
  },
  {
   "cell_type": "code",
   "execution_count": 14,
   "metadata": {
    "scrolled": false
   },
   "outputs": [
    {
     "data": {
      "text/html": [
       "\n",
       "\n",
       "    <div class=\"bk-root\">\n",
       "        <div class=\"bk-plotdiv\" id=\"4498132f-c0eb-4f3c-83f9-3f7c7a2bae97\"></div>\n",
       "    </div>\n",
       "<script type=\"text/javascript\">\n",
       "  \n",
       "  (function(global) {\n",
       "    function now() {\n",
       "      return new Date();\n",
       "    }\n",
       "  \n",
       "    var force = false;\n",
       "  \n",
       "    if (typeof (window._bokeh_onload_callbacks) === \"undefined\" || force === true) {\n",
       "      window._bokeh_onload_callbacks = [];\n",
       "      window._bokeh_is_loading = undefined;\n",
       "    }\n",
       "  \n",
       "  \n",
       "    \n",
       "    if (typeof (window._bokeh_timeout) === \"undefined\" || force === true) {\n",
       "      window._bokeh_timeout = Date.now() + 0;\n",
       "      window._bokeh_failed_load = false;\n",
       "    }\n",
       "  \n",
       "    var NB_LOAD_WARNING = {'data': {'text/html':\n",
       "       \"<div style='background-color: #fdd'>\\n\"+\n",
       "       \"<p>\\n\"+\n",
       "       \"BokehJS does not appear to have successfully loaded. If loading BokehJS from CDN, this \\n\"+\n",
       "       \"may be due to a slow or bad network connection. Possible fixes:\\n\"+\n",
       "       \"</p>\\n\"+\n",
       "       \"<ul>\\n\"+\n",
       "       \"<li>re-rerun `output_notebook()` to attempt to load from CDN again, or</li>\\n\"+\n",
       "       \"<li>use INLINE resources instead, as so:</li>\\n\"+\n",
       "       \"</ul>\\n\"+\n",
       "       \"<code>\\n\"+\n",
       "       \"from bokeh.resources import INLINE\\n\"+\n",
       "       \"output_notebook(resources=INLINE)\\n\"+\n",
       "       \"</code>\\n\"+\n",
       "       \"</div>\"}};\n",
       "  \n",
       "    function display_loaded() {\n",
       "      if (window.Bokeh !== undefined) {\n",
       "        document.getElementById(\"4498132f-c0eb-4f3c-83f9-3f7c7a2bae97\").textContent = \"BokehJS successfully loaded.\";\n",
       "      } else if (Date.now() < window._bokeh_timeout) {\n",
       "        setTimeout(display_loaded, 100)\n",
       "      }\n",
       "    }\n",
       "  \n",
       "    function run_callbacks() {\n",
       "      window._bokeh_onload_callbacks.forEach(function(callback) { callback() });\n",
       "      delete window._bokeh_onload_callbacks\n",
       "      console.info(\"Bokeh: all callbacks have finished\");\n",
       "    }\n",
       "  \n",
       "    function load_libs(js_urls, callback) {\n",
       "      window._bokeh_onload_callbacks.push(callback);\n",
       "      if (window._bokeh_is_loading > 0) {\n",
       "        console.log(\"Bokeh: BokehJS is being loaded, scheduling callback at\", now());\n",
       "        return null;\n",
       "      }\n",
       "      if (js_urls == null || js_urls.length === 0) {\n",
       "        run_callbacks();\n",
       "        return null;\n",
       "      }\n",
       "      console.log(\"Bokeh: BokehJS not loaded, scheduling load and callback at\", now());\n",
       "      window._bokeh_is_loading = js_urls.length;\n",
       "      for (var i = 0; i < js_urls.length; i++) {\n",
       "        var url = js_urls[i];\n",
       "        var s = document.createElement('script');\n",
       "        s.src = url;\n",
       "        s.async = false;\n",
       "        s.onreadystatechange = s.onload = function() {\n",
       "          window._bokeh_is_loading--;\n",
       "          if (window._bokeh_is_loading === 0) {\n",
       "            console.log(\"Bokeh: all BokehJS libraries loaded\");\n",
       "            run_callbacks()\n",
       "          }\n",
       "        };\n",
       "        s.onerror = function() {\n",
       "          console.warn(\"failed to load library \" + url);\n",
       "        };\n",
       "        console.log(\"Bokeh: injecting script tag for BokehJS library: \", url);\n",
       "        document.getElementsByTagName(\"head\")[0].appendChild(s);\n",
       "      }\n",
       "    };var element = document.getElementById(\"4498132f-c0eb-4f3c-83f9-3f7c7a2bae97\");\n",
       "    if (element == null) {\n",
       "      console.log(\"Bokeh: ERROR: autoload.js configured with elementid '4498132f-c0eb-4f3c-83f9-3f7c7a2bae97' but no matching script tag was found. \")\n",
       "      return false;\n",
       "    }\n",
       "  \n",
       "    var js_urls = [];\n",
       "  \n",
       "    var inline_js = [\n",
       "      function(Bokeh) {\n",
       "        (function() {\n",
       "          var fn = function() {\n",
       "            var docs_json = {\"ca72a116-aaf1-4e64-ae3d-da4c1c264ba8\":{\"roots\":{\"references\":[{\"attributes\":{\"formatter\":{\"id\":\"21c46df1-f916-42ff-b7ef-063a2394bbc3\",\"type\":\"BasicTickFormatter\"},\"plot\":{\"id\":\"3baef13b-a7b3-4165-8e4f-f3cf2c17cd8b\",\"subtype\":\"Figure\",\"type\":\"Plot\"},\"ticker\":{\"id\":\"304236f8-672e-4623-ae46-3d3867539c20\",\"type\":\"BasicTicker\"}},\"id\":\"498c75c7-f24c-4e36-9056-fa98d7d62b4a\",\"type\":\"LinearAxis\"},{\"attributes\":{},\"id\":\"21c46df1-f916-42ff-b7ef-063a2394bbc3\",\"type\":\"BasicTickFormatter\"},{\"attributes\":{},\"id\":\"304236f8-672e-4623-ae46-3d3867539c20\",\"type\":\"BasicTicker\"},{\"attributes\":{\"plot\":{\"id\":\"3baef13b-a7b3-4165-8e4f-f3cf2c17cd8b\",\"subtype\":\"Figure\",\"type\":\"Plot\"},\"ticker\":{\"id\":\"304236f8-672e-4623-ae46-3d3867539c20\",\"type\":\"BasicTicker\"}},\"id\":\"5f0a8bd2-84f8-41f4-a9bf-ca2635025a43\",\"type\":\"Grid\"},{\"attributes\":{\"formatter\":{\"id\":\"c21ce89b-1b34-4446-8d23-5187fe93c440\",\"type\":\"BasicTickFormatter\"},\"plot\":{\"id\":\"3baef13b-a7b3-4165-8e4f-f3cf2c17cd8b\",\"subtype\":\"Figure\",\"type\":\"Plot\"},\"ticker\":{\"id\":\"538e2f18-1bd5-4023-95e9-d7e0211f40e0\",\"type\":\"BasicTicker\"}},\"id\":\"35f9fb5b-4799-4e4c-a1a7-5d0e32bd04ce\",\"type\":\"LinearAxis\"},{\"attributes\":{},\"id\":\"538e2f18-1bd5-4023-95e9-d7e0211f40e0\",\"type\":\"BasicTicker\"},{\"attributes\":{\"dimension\":1,\"plot\":{\"id\":\"3baef13b-a7b3-4165-8e4f-f3cf2c17cd8b\",\"subtype\":\"Figure\",\"type\":\"Plot\"},\"ticker\":{\"id\":\"538e2f18-1bd5-4023-95e9-d7e0211f40e0\",\"type\":\"BasicTicker\"}},\"id\":\"b13a22e0-7d26-4fed-8107-9d2066aff45c\",\"type\":\"Grid\"},{\"attributes\":{\"callback\":null,\"plot\":{\"id\":\"3baef13b-a7b3-4165-8e4f-f3cf2c17cd8b\",\"subtype\":\"Figure\",\"type\":\"Plot\"},\"tooltips\":[[\"Senator\",\"@names\"]]},\"id\":\"ce525a4e-8a2e-4f6b-afc4-f7530cc05bb0\",\"type\":\"HoverTool\"},{\"attributes\":{\"data_source\":{\"id\":\"ee474ee0-8226-4aab-b4ca-95af57ca003f\",\"type\":\"ColumnDataSource\"},\"glyph\":{\"id\":\"c82bd995-2d9e-402d-95d6-0aff4128d393\",\"type\":\"Circle\"},\"hover_glyph\":null,\"nonselection_glyph\":{\"id\":\"03503b62-2e13-4bcf-be02-b2b770df7c8e\",\"type\":\"Circle\"},\"selection_glyph\":null},\"id\":\"7d30642f-8707-49d1-b016-3f6326928d71\",\"type\":\"GlyphRenderer\"},{\"attributes\":{\"plot\":{\"id\":\"3baef13b-a7b3-4165-8e4f-f3cf2c17cd8b\",\"subtype\":\"Figure\",\"type\":\"Plot\"}},\"id\":\"dc275543-e8f6-45ce-b76a-69af89641324\",\"type\":\"SaveTool\"},{\"attributes\":{\"fill_color\":{\"field\":\"color\"},\"line_color\":{\"field\":\"color\"},\"size\":{\"units\":\"screen\",\"value\":13},\"x\":{\"field\":\"c1\"},\"y\":{\"field\":\"c2\"}},\"id\":\"c82bd995-2d9e-402d-95d6-0aff4128d393\",\"type\":\"Circle\"},{\"attributes\":{\"overlay\":{\"id\":\"ac7d2aae-e864-41b7-b3e0-abb9c39888ad\",\"type\":\"BoxAnnotation\"},\"plot\":{\"id\":\"3baef13b-a7b3-4165-8e4f-f3cf2c17cd8b\",\"subtype\":\"Figure\",\"type\":\"Plot\"}},\"id\":\"7b9a2880-cd7c-4ccd-bd31-fb3a7fcfbc55\",\"type\":\"BoxZoomTool\"},{\"attributes\":{\"plot\":{\"id\":\"3baef13b-a7b3-4165-8e4f-f3cf2c17cd8b\",\"subtype\":\"Figure\",\"type\":\"Plot\"}},\"id\":\"dc7a9b7f-3c46-4719-9cd0-49e70f52bb03\",\"type\":\"ResetTool\"},{\"attributes\":{\"bottom_units\":\"screen\",\"fill_alpha\":{\"value\":0.5},\"fill_color\":{\"value\":\"lightgrey\"},\"left_units\":\"screen\",\"level\":\"overlay\",\"line_alpha\":{\"value\":1.0},\"line_color\":{\"value\":\"black\"},\"line_dash\":[4,4],\"line_width\":{\"value\":2},\"plot\":null,\"render_mode\":\"css\",\"right_units\":\"screen\",\"top_units\":\"screen\"},\"id\":\"ac7d2aae-e864-41b7-b3e0-abb9c39888ad\",\"type\":\"BoxAnnotation\"},{\"attributes\":{\"fill_alpha\":{\"value\":0.1},\"fill_color\":{\"value\":\"#1f77b4\"},\"line_alpha\":{\"value\":0.1},\"line_color\":{\"value\":\"#1f77b4\"},\"size\":{\"units\":\"screen\",\"value\":13},\"x\":{\"field\":\"c1\"},\"y\":{\"field\":\"c2\"}},\"id\":\"03503b62-2e13-4bcf-be02-b2b770df7c8e\",\"type\":\"Circle\"},{\"attributes\":{\"callback\":null,\"column_names\":[\"c1\",\"c2\",\"color\",\"names\"],\"data\":{\"c1\":{\"__ndarray__\":\"OSJXd1Bvr7+A3GCdwjalv2hF8Y4OIb8/9RO4u+vrub+vTh98xA+5P4XJSYKcWr4/V6EFLCz2uL/QXJSkEa+/P1ZYmV/dfbq/1mA8k8W0uz9aqqRInYO/P7uryq6Elba/chcmRe5fvT8jkerGTxa0v/QJN6ho0r4/m4o5UXOXuD9roqSN7SO7P3ng4hPCqLi/CM6cPKaWuL8P08lpwTO1v7QiT0also2/LFsBXzkHvT/5L+MehX61v1jKSk1w/7e/GK31SCP2u79suv12bwm8v2M7DnyUVLW/Qdzcm7hMub9hs+SIjoSvPyzUbgtZ4r4/IBORu7wjuL/78tiqbgS6v2X7cxdVOLo/+Izrtc3Jur9uJ6UVJue2v3rKbLaPRL8/x1xxmqNotb9esr3aePe/P6Uxy1Yueai/2+sEH0TluL96ik1ayCm1v4q3mZ3Zab4/qwrkW2oKrT/bLrKgsWKxv382MuZTub8/edmHmPLit7/EkGrHBkO7v0fPOXcSZ7i/fQi5do7At79oR4ED/AO6P3R/nyb2Drc/D4MMsyFEob+TpSX7amK8P1UldGXqlrq/KDYMXeJWvz8TgYnF9o22vw5d79TnZqE/FKGXD+m3vz8PbSbEFzm2v5QO1Ty9grQ/sXIIDf24s7+l/0bEx9m9P0k3+qVioL8/NckUJ7V5vT/Y+5MDAjK5v4R5+aiQhay/vbGo+w5Qvj8yqMtnUhy9P6gZ5IuOn7g/7+qFslDBtL9lA7Aotwy6v80szndVtr0/oOw/Dx45sb8i5HV9XoK/P+2OztcmJLs/I0cT8LmIvL8pLZT2y6+5v2Pr7jRAkLa/stlXLHP0s7+pdk+XGZG3P2KY8ljyJ7y/7VXvzcqnvj8v7ub3Vya/P2BregOcmbq/Ggbv3gYuur+fwJzziWS8P0wGv/P0+7m/bXuJEb0bvT9aVXRjHG+3v+XpwfTGbrk/FPqW2/O0uL8lgn7AyuS3v6QC2mnAiLm/5eQs7VoKvz/UjC2DP+i5v4KMKScRoLY/a4Pg/jMfwD+FarLo7FS+P/f94atewbi/zs2/+aw5vT8=\",\"dtype\":\"float64\",\"shape\":[100]},\"c2\":{\"__ndarray__\":\"24MHyhOLwL/Yk+3E/pK9v5CfRU0Dere/sJmOsxOru79gFBEo9k68v+LaDr8dzLm/+pT2CkOPt78ZIyT52Oe0v7QtCadpO7u/qLrto+NCsL+8ZlS9mrW2vwCouIzqBcC/LwQExhfYuL80bpYhhEbAvw5ph7I20re/qj+tLmVRvL/vjyD5Cwm6v0snNA+My7u/uDoa+fJPu7/X8Lw3N1zBv1quVG/gnL6/Lx7Q/jqQub9tzRRlcx+9vw3P9WQQeb2/z/85N1rvtb/4n18yjBu0v+XM/4odrGA/TqzlJnyXuL/3khOWw6+7vxyrqJrt1ra/O3i48AhUu79czVI7mW68v1c9VdUycr+/5jSlQGKVvL+ubXdnmM63v91Bi2k7t7a/sJ+6rJtkvL9rMH7yWJi1v5gl2b08Q7e/IXDmvlZUur+UXad7ljvAv/memcpUxri/9Pn/jFxcvr8V5OKAN2S4v+i1k6o18re/3d03foEHvb90TCKsc7G6v6Fare9d+L2/PGdvOFVKvL8IE4DeLri7vwqLiDnMb7u/8MLkSOquu78PL+ivOSa7vxrWVT6Eo7i/DNHxdCwJtr+RZyG8Zv6lv94VByFva7i/ct3I9jdpsr9yARPPeum7v4s2vRZZObu/S710gbt2wL9LJ8cxKNi0v3fIWW5+uLO/6DItJ713ub+u4LPdLk20v9QfHElwf72/mFn9JNGWub8XrOugBXW5v0yFeRQHc7q/YmRr/y6Jrb/QX04Q/kS7vySlx+ac27q/b6fQ9FIqur+ZnOI7VO64v+0dlH32gri/8gvA/mjatL8dNH+Gjj6+v2SwoRDokMC/xiiEO+87ob/EZM8QggSEvy3or7DHL7G/5SI3YJ3xt7/kuhZ2jXW3v5Zpy0+Xrbm/LRgaizYCt7/w+wXBsHK5v48+GEsJOLW/EDynDnkXu7/6fXSBLx63v7JP+lu3/by/YqwdvCx9vL+mZ2d3jqG/vywC7qQSXrS/DHftwOlHt7+/WdhLPhipv0IzhxxJ076/2e1ZlK37sr8zumehkq+5v3Q8fpQVQ76/7nPg+jWXtb8=\",\"dtype\":\"float64\",\"shape\":[100]},\"color\":[\"darkblue\",\"darkblue\",\"firebrick\",\"darkblue\",\"firebrick\",\"firebrick\",\"darkblue\",\"firebrick\",\"darkblue\",\"firebrick\",\"firebrick\",\"darkblue\",\"firebrick\",\"darkblue\",\"firebrick\",\"firebrick\",\"firebrick\",\"darkblue\",\"darkblue\",\"darkblue\",\"darkblue\",\"firebrick\",\"darkblue\",\"darkblue\",\"darkblue\",\"darkblue\",\"darkblue\",\"darkblue\",\"firebrick\",\"firebrick\",\"darkblue\",\"darkblue\",\"firebrick\",\"darkblue\",\"darkblue\",\"firebrick\",\"darkblue\",\"firebrick\",\"darkblue\",\"darkblue\",\"darkblue\",\"firebrick\",\"firebrick\",\"darkblue\",\"firebrick\",\"darkblue\",\"darkblue\",\"darkblue\",\"darkblue\",\"firebrick\",\"firebrick\",\"darkblue\",\"firebrick\",\"darkblue\",\"firebrick\",\"darkblue\",\"firebrick\",\"firebrick\",\"darkblue\",\"firebrick\",\"darkblue\",\"firebrick\",\"firebrick\",\"firebrick\",\"darkblue\",\"darkblue\",\"firebrick\",\"firebrick\",\"firebrick\",\"darkblue\",\"darkblue\",\"firebrick\",\"darkblue\",\"firebrick\",\"firebrick\",\"darkblue\",\"darkblue\",\"darkblue\",\"darkblue\",\"firebrick\",\"darkblue\",\"firebrick\",\"firebrick\",\"darkblue\",\"darkblue\",\"firebrick\",\"darkblue\",\"firebrick\",\"darkblue\",\"firebrick\",\"darkblue\",\"darkblue\",\"darkblue\",\"firebrick\",\"darkblue\",\"firebrick\",\"firebrick\",\"firebrick\",\"darkblue\",\"firebrick\"],\"names\":[\"Alexander (R-TN)\",\"Ayotte (R-NH)\",\"Baldwin (D-WI)\",\"Barrasso (R-WY)\",\"Bennet (D-CO)\",\"Blumenthal (D-CT)\",\"Blunt (R-MO)\",\"Booker (D-NJ)\",\"Boozman (R-AR)\",\"Boxer (D-CA)\",\"Brown (D-OH)\",\"Burr (R-NC)\",\"Cantwell (D-WA)\",\"Capito (R-WV)\",\"Cardin (D-MD)\",\"Carper (D-DE)\",\"Casey (D-PA)\",\"Cassidy (R-LA)\",\"Coats (R-IN)\",\"Cochran (R-MS)\",\"Collins (R-ME)\",\"Coons (D-DE)\",\"Corker (R-TN)\",\"Cornyn (R-TX)\",\"Cotton (R-AR)\",\"Crapo (R-ID)\",\"Cruz (R-TX)\",\"Daines (R-MT)\",\"Donnelly (D-IN)\",\"Durbin (D-IL)\",\"Enzi (R-WY)\",\"Ernst (R-IA)\",\"Feinstein (D-CA)\",\"Fischer (R-NE)\",\"Flake (R-AZ)\",\"Franken (D-MN)\",\"Gardner (R-CO)\",\"Gillibrand (D-NY)\",\"Graham (R-SC)\",\"Grassley (R-IA)\",\"Hatch (R-UT)\",\"Heinrich (D-NM)\",\"Heitkamp (D-ND)\",\"Heller (R-NV)\",\"Hirono (D-HI)\",\"Hoeven (R-ND)\",\"Inhofe (R-OK)\",\"Isakson (R-GA)\",\"Johnson (R-WI)\",\"Kaine (D-VA)\",\"King (I-ME)\",\"Kirk (R-IL)\",\"Klobuchar (D-MN)\",\"Lankford (R-OK)\",\"Leahy (D-VT)\",\"Lee (R-UT)\",\"Manchin (D-WV)\",\"Markey (D-MA)\",\"McCain (R-AZ)\",\"McCaskill (D-MO)\",\"McConnell (R-KY)\",\"Menendez (D-NJ)\",\"Merkley (D-OR)\",\"Mikulski (D-MD)\",\"Moran (R-KS)\",\"Murkowski (R-AK)\",\"Murphy (D-CT)\",\"Murray (D-WA)\",\"Nelson (D-FL)\",\"Paul (R-KY)\",\"Perdue (R-GA)\",\"Peters (D-MI)\",\"Portman (R-OH)\",\"Reed (D-RI)\",\"Reid (D-NV)\",\"Risch (R-ID)\",\"Roberts (R-KS)\",\"Rounds (R-SD)\",\"Rubio (R-FL)\",\"Sanders (I-VT)\",\"Sasse (R-NE)\",\"Schatz (D-HI)\",\"Schumer (D-NY)\",\"Scott (R-SC)\",\"Sessions (R-AL)\",\"Shaheen (D-NH)\",\"Shelby (R-AL)\",\"Stabenow (D-MI)\",\"Sullivan (R-AK)\",\"Tester (D-MT)\",\"Thune (R-SD)\",\"Tillis (R-NC)\",\"Toomey (R-PA)\",\"Udall (D-NM)\",\"Vitter (R-LA)\",\"Warner (D-VA)\",\"Warren (D-MA)\",\"Whitehouse (D-RI)\",\"Wicker (R-MS)\",\"Wyden (D-OR)\"]}},\"id\":\"ee474ee0-8226-4aab-b4ca-95af57ca003f\",\"type\":\"ColumnDataSource\"},{\"attributes\":{\"below\":[{\"id\":\"498c75c7-f24c-4e36-9056-fa98d7d62b4a\",\"type\":\"LinearAxis\"}],\"left\":[{\"id\":\"35f9fb5b-4799-4e4c-a1a7-5d0e32bd04ce\",\"type\":\"LinearAxis\"}],\"plot_width\":800,\"renderers\":[{\"id\":\"498c75c7-f24c-4e36-9056-fa98d7d62b4a\",\"type\":\"LinearAxis\"},{\"id\":\"5f0a8bd2-84f8-41f4-a9bf-ca2635025a43\",\"type\":\"Grid\"},{\"id\":\"35f9fb5b-4799-4e4c-a1a7-5d0e32bd04ce\",\"type\":\"LinearAxis\"},{\"id\":\"b13a22e0-7d26-4fed-8107-9d2066aff45c\",\"type\":\"Grid\"},{\"id\":\"ac7d2aae-e864-41b7-b3e0-abb9c39888ad\",\"type\":\"BoxAnnotation\"},{\"id\":\"7d30642f-8707-49d1-b016-3f6326928d71\",\"type\":\"GlyphRenderer\"}],\"title\":{\"id\":\"b7903dbf-ea5c-4e1a-95e7-c4f3b297f77e\",\"type\":\"Title\"},\"tool_events\":{\"id\":\"b4a7aea0-6224-4aa0-8afc-5dded097e303\",\"type\":\"ToolEvents\"},\"toolbar\":{\"id\":\"17fb4e6a-ea47-434f-bf15-ffd44b28786a\",\"type\":\"Toolbar\"},\"x_range\":{\"id\":\"99c1e813-12ca-4f90-adcc-3d28493a2322\",\"type\":\"DataRange1d\"},\"y_range\":{\"id\":\"53ff5b34-fc70-425b-9bb1-2813a384734b\",\"type\":\"DataRange1d\"}},\"id\":\"3baef13b-a7b3-4165-8e4f-f3cf2c17cd8b\",\"subtype\":\"Figure\",\"type\":\"Plot\"},{\"attributes\":{\"plot\":null,\"text\":\"A House Divided\"},\"id\":\"b7903dbf-ea5c-4e1a-95e7-c4f3b297f77e\",\"type\":\"Title\"},{\"attributes\":{},\"id\":\"c21ce89b-1b34-4446-8d23-5187fe93c440\",\"type\":\"BasicTickFormatter\"},{\"attributes\":{\"callback\":null},\"id\":\"99c1e813-12ca-4f90-adcc-3d28493a2322\",\"type\":\"DataRange1d\"},{\"attributes\":{},\"id\":\"b4a7aea0-6224-4aa0-8afc-5dded097e303\",\"type\":\"ToolEvents\"},{\"attributes\":{\"active_drag\":\"auto\",\"active_scroll\":\"auto\",\"active_tap\":\"auto\",\"tools\":[{\"id\":\"ce525a4e-8a2e-4f6b-afc4-f7530cc05bb0\",\"type\":\"HoverTool\"},{\"id\":\"dc275543-e8f6-45ce-b76a-69af89641324\",\"type\":\"SaveTool\"},{\"id\":\"7b9a2880-cd7c-4ccd-bd31-fb3a7fcfbc55\",\"type\":\"BoxZoomTool\"},{\"id\":\"dc7a9b7f-3c46-4719-9cd0-49e70f52bb03\",\"type\":\"ResetTool\"}]},\"id\":\"17fb4e6a-ea47-434f-bf15-ffd44b28786a\",\"type\":\"Toolbar\"},{\"attributes\":{\"callback\":null},\"id\":\"53ff5b34-fc70-425b-9bb1-2813a384734b\",\"type\":\"DataRange1d\"}],\"root_ids\":[\"3baef13b-a7b3-4165-8e4f-f3cf2c17cd8b\"]},\"title\":\"Bokeh Application\",\"version\":\"0.12.4\"}};\n",
       "            var render_items = [{\"docid\":\"ca72a116-aaf1-4e64-ae3d-da4c1c264ba8\",\"elementid\":\"4498132f-c0eb-4f3c-83f9-3f7c7a2bae97\",\"modelid\":\"3baef13b-a7b3-4165-8e4f-f3cf2c17cd8b\"}];\n",
       "            \n",
       "            Bokeh.embed.embed_items(docs_json, render_items);\n",
       "          };\n",
       "          if (document.readyState != \"loading\") fn();\n",
       "          else document.addEventListener(\"DOMContentLoaded\", fn);\n",
       "        })();\n",
       "      },\n",
       "      function(Bokeh) {\n",
       "      }\n",
       "    ];\n",
       "  \n",
       "    function run_inline_js() {\n",
       "      \n",
       "      if ((window.Bokeh !== undefined) || (force === true)) {\n",
       "        for (var i = 0; i < inline_js.length; i++) {\n",
       "          inline_js[i](window.Bokeh);\n",
       "        }if (force === true) {\n",
       "          display_loaded();\n",
       "        }} else if (Date.now() < window._bokeh_timeout) {\n",
       "        setTimeout(run_inline_js, 100);\n",
       "      } else if (!window._bokeh_failed_load) {\n",
       "        console.log(\"Bokeh: BokehJS failed to load within specified timeout.\");\n",
       "        window._bokeh_failed_load = true;\n",
       "      } else if (force !== true) {\n",
       "        var cell = $(document.getElementById(\"4498132f-c0eb-4f3c-83f9-3f7c7a2bae97\")).parents('.cell').data().cell;\n",
       "        cell.output_area.append_execute_result(NB_LOAD_WARNING)\n",
       "      }\n",
       "  \n",
       "    }\n",
       "  \n",
       "    if (window._bokeh_is_loading === 0) {\n",
       "      console.log(\"Bokeh: BokehJS loaded, going straight to plotting\");\n",
       "      run_inline_js();\n",
       "    } else {\n",
       "      load_libs(js_urls, function() {\n",
       "        console.log(\"Bokeh: BokehJS plotting callback run at\", now());\n",
       "        run_inline_js();\n",
       "      });\n",
       "    }\n",
       "  }(this));\n",
       "</script>"
      ]
     },
     "metadata": {},
     "output_type": "display_data"
    }
   ],
   "source": [
    "# color by cluster\n",
    "color_dict = {0:'firebrick', 1:'darkblue'}\n",
    "cs = pd.Series(predicted_parties).map(color_dict)\n",
    "color = cs.values\n",
    "\n",
    "#make source data\n",
    "source = ColumnDataSource(data=dict(\n",
    "    c1 = c1,\n",
    "    c2=c2,\n",
    "    color=color,\n",
    "    names = names\n",
    "))\n",
    "\n",
    "\n",
    "p1 = figure(plot_width=800, plot_height=600, title=\"A House Divided\", tools = 'hover, save, box_zoom,reset')\n",
    "p1.circle('c1', 'c2', color='color', source=source, size=13)\n",
    "\n",
    "p1.select_one(HoverTool).tooltips = [\n",
    "    ('Senator', '@names')]\n",
    "\n",
    "output_file('../gallery/senate_divided.html')\n",
    "\n",
    "show(p1)"
   ]
  },
  {
   "cell_type": "code",
   "execution_count": 15,
   "metadata": {
    "collapsed": true
   },
   "outputs": [],
   "source": [
    "# let's show the actual parties\n",
    "\n",
    "parties = []\n",
    "for name in names:\n",
    "    party = name[-5:-4]\n",
    "    parties.append(party)"
   ]
  },
  {
   "cell_type": "code",
   "execution_count": 16,
   "metadata": {
    "collapsed": true
   },
   "outputs": [],
   "source": [
    "colors_dict = {'R':'red', 'D':'blue', 'I':'green'}\n",
    "cp = pd.Series(parties).map(colors_dict)"
   ]
  },
  {
   "cell_type": "code",
   "execution_count": 17,
   "metadata": {},
   "outputs": [
    {
     "name": "stderr",
     "output_type": "stream",
     "text": [
      "INFO:bokeh.core.state:Session output file '../gallery/senate_divided_2.html' already exists, will be overwritten.\n"
     ]
    },
    {
     "data": {
      "text/html": [
       "\n",
       "\n",
       "    <div class=\"bk-root\">\n",
       "        <div class=\"bk-plotdiv\" id=\"fd370dcc-e461-4516-812e-c60f7679bab4\"></div>\n",
       "    </div>\n",
       "<script type=\"text/javascript\">\n",
       "  \n",
       "  (function(global) {\n",
       "    function now() {\n",
       "      return new Date();\n",
       "    }\n",
       "  \n",
       "    var force = false;\n",
       "  \n",
       "    if (typeof (window._bokeh_onload_callbacks) === \"undefined\" || force === true) {\n",
       "      window._bokeh_onload_callbacks = [];\n",
       "      window._bokeh_is_loading = undefined;\n",
       "    }\n",
       "  \n",
       "  \n",
       "    \n",
       "    if (typeof (window._bokeh_timeout) === \"undefined\" || force === true) {\n",
       "      window._bokeh_timeout = Date.now() + 0;\n",
       "      window._bokeh_failed_load = false;\n",
       "    }\n",
       "  \n",
       "    var NB_LOAD_WARNING = {'data': {'text/html':\n",
       "       \"<div style='background-color: #fdd'>\\n\"+\n",
       "       \"<p>\\n\"+\n",
       "       \"BokehJS does not appear to have successfully loaded. If loading BokehJS from CDN, this \\n\"+\n",
       "       \"may be due to a slow or bad network connection. Possible fixes:\\n\"+\n",
       "       \"</p>\\n\"+\n",
       "       \"<ul>\\n\"+\n",
       "       \"<li>re-rerun `output_notebook()` to attempt to load from CDN again, or</li>\\n\"+\n",
       "       \"<li>use INLINE resources instead, as so:</li>\\n\"+\n",
       "       \"</ul>\\n\"+\n",
       "       \"<code>\\n\"+\n",
       "       \"from bokeh.resources import INLINE\\n\"+\n",
       "       \"output_notebook(resources=INLINE)\\n\"+\n",
       "       \"</code>\\n\"+\n",
       "       \"</div>\"}};\n",
       "  \n",
       "    function display_loaded() {\n",
       "      if (window.Bokeh !== undefined) {\n",
       "        document.getElementById(\"fd370dcc-e461-4516-812e-c60f7679bab4\").textContent = \"BokehJS successfully loaded.\";\n",
       "      } else if (Date.now() < window._bokeh_timeout) {\n",
       "        setTimeout(display_loaded, 100)\n",
       "      }\n",
       "    }\n",
       "  \n",
       "    function run_callbacks() {\n",
       "      window._bokeh_onload_callbacks.forEach(function(callback) { callback() });\n",
       "      delete window._bokeh_onload_callbacks\n",
       "      console.info(\"Bokeh: all callbacks have finished\");\n",
       "    }\n",
       "  \n",
       "    function load_libs(js_urls, callback) {\n",
       "      window._bokeh_onload_callbacks.push(callback);\n",
       "      if (window._bokeh_is_loading > 0) {\n",
       "        console.log(\"Bokeh: BokehJS is being loaded, scheduling callback at\", now());\n",
       "        return null;\n",
       "      }\n",
       "      if (js_urls == null || js_urls.length === 0) {\n",
       "        run_callbacks();\n",
       "        return null;\n",
       "      }\n",
       "      console.log(\"Bokeh: BokehJS not loaded, scheduling load and callback at\", now());\n",
       "      window._bokeh_is_loading = js_urls.length;\n",
       "      for (var i = 0; i < js_urls.length; i++) {\n",
       "        var url = js_urls[i];\n",
       "        var s = document.createElement('script');\n",
       "        s.src = url;\n",
       "        s.async = false;\n",
       "        s.onreadystatechange = s.onload = function() {\n",
       "          window._bokeh_is_loading--;\n",
       "          if (window._bokeh_is_loading === 0) {\n",
       "            console.log(\"Bokeh: all BokehJS libraries loaded\");\n",
       "            run_callbacks()\n",
       "          }\n",
       "        };\n",
       "        s.onerror = function() {\n",
       "          console.warn(\"failed to load library \" + url);\n",
       "        };\n",
       "        console.log(\"Bokeh: injecting script tag for BokehJS library: \", url);\n",
       "        document.getElementsByTagName(\"head\")[0].appendChild(s);\n",
       "      }\n",
       "    };var element = document.getElementById(\"fd370dcc-e461-4516-812e-c60f7679bab4\");\n",
       "    if (element == null) {\n",
       "      console.log(\"Bokeh: ERROR: autoload.js configured with elementid 'fd370dcc-e461-4516-812e-c60f7679bab4' but no matching script tag was found. \")\n",
       "      return false;\n",
       "    }\n",
       "  \n",
       "    var js_urls = [];\n",
       "  \n",
       "    var inline_js = [\n",
       "      function(Bokeh) {\n",
       "        (function() {\n",
       "          var fn = function() {\n",
       "            var docs_json = {\"5543a925-8fb8-4721-82dd-88135b61a577\":{\"roots\":{\"references\":[{\"attributes\":{\"callback\":null},\"id\":\"80182a4a-83d8-4150-9e8f-efe41eac947a\",\"type\":\"DataRange1d\"},{\"attributes\":{\"active_drag\":\"auto\",\"active_scroll\":\"auto\",\"active_tap\":\"auto\",\"tools\":[{\"id\":\"021557f3-5b9d-416f-9aee-798dae94efac\",\"type\":\"HoverTool\"},{\"id\":\"b11addf5-90d9-4a8f-8517-47b73cc32777\",\"type\":\"SaveTool\"},{\"id\":\"b00695bb-4e82-467c-83d9-1428537fa3c9\",\"type\":\"BoxZoomTool\"},{\"id\":\"b06e4b7d-8251-40ab-8ba6-7f8d4cf091ff\",\"type\":\"ResetTool\"}]},\"id\":\"c07a86ba-3429-4928-859a-9c574cfbce7b\",\"type\":\"Toolbar\"},{\"attributes\":{\"callback\":null,\"column_names\":[\"c1\",\"c2\",\"color\",\"names\"],\"data\":{\"c1\":{\"__ndarray__\":\"OSJXd1Bvr7+A3GCdwjalv2hF8Y4OIb8/9RO4u+vrub+vTh98xA+5P4XJSYKcWr4/V6EFLCz2uL/QXJSkEa+/P1ZYmV/dfbq/1mA8k8W0uz9aqqRInYO/P7uryq6Elba/chcmRe5fvT8jkerGTxa0v/QJN6ho0r4/m4o5UXOXuD9roqSN7SO7P3ng4hPCqLi/CM6cPKaWuL8P08lpwTO1v7QiT0also2/LFsBXzkHvT/5L+MehX61v1jKSk1w/7e/GK31SCP2u79suv12bwm8v2M7DnyUVLW/Qdzcm7hMub9hs+SIjoSvPyzUbgtZ4r4/IBORu7wjuL/78tiqbgS6v2X7cxdVOLo/+Izrtc3Jur9uJ6UVJue2v3rKbLaPRL8/x1xxmqNotb9esr3aePe/P6Uxy1Yueai/2+sEH0TluL96ik1ayCm1v4q3mZ3Zab4/qwrkW2oKrT/bLrKgsWKxv382MuZTub8/edmHmPLit7/EkGrHBkO7v0fPOXcSZ7i/fQi5do7At79oR4ED/AO6P3R/nyb2Drc/D4MMsyFEob+TpSX7amK8P1UldGXqlrq/KDYMXeJWvz8TgYnF9o22vw5d79TnZqE/FKGXD+m3vz8PbSbEFzm2v5QO1Ty9grQ/sXIIDf24s7+l/0bEx9m9P0k3+qVioL8/NckUJ7V5vT/Y+5MDAjK5v4R5+aiQhay/vbGo+w5Qvj8yqMtnUhy9P6gZ5IuOn7g/7+qFslDBtL9lA7Aotwy6v80szndVtr0/oOw/Dx45sb8i5HV9XoK/P+2OztcmJLs/I0cT8LmIvL8pLZT2y6+5v2Pr7jRAkLa/stlXLHP0s7+pdk+XGZG3P2KY8ljyJ7y/7VXvzcqnvj8v7ub3Vya/P2BregOcmbq/Ggbv3gYuur+fwJzziWS8P0wGv/P0+7m/bXuJEb0bvT9aVXRjHG+3v+XpwfTGbrk/FPqW2/O0uL8lgn7AyuS3v6QC2mnAiLm/5eQs7VoKvz/UjC2DP+i5v4KMKScRoLY/a4Pg/jMfwD+FarLo7FS+P/f94atewbi/zs2/+aw5vT8=\",\"dtype\":\"float64\",\"shape\":[100]},\"c2\":{\"__ndarray__\":\"24MHyhOLwL/Yk+3E/pK9v5CfRU0Dere/sJmOsxOru79gFBEo9k68v+LaDr8dzLm/+pT2CkOPt78ZIyT52Oe0v7QtCadpO7u/qLrto+NCsL+8ZlS9mrW2vwCouIzqBcC/LwQExhfYuL80bpYhhEbAvw5ph7I20re/qj+tLmVRvL/vjyD5Cwm6v0snNA+My7u/uDoa+fJPu7/X8Lw3N1zBv1quVG/gnL6/Lx7Q/jqQub9tzRRlcx+9vw3P9WQQeb2/z/85N1rvtb/4n18yjBu0v+XM/4odrGA/TqzlJnyXuL/3khOWw6+7vxyrqJrt1ra/O3i48AhUu79czVI7mW68v1c9VdUycr+/5jSlQGKVvL+ubXdnmM63v91Bi2k7t7a/sJ+6rJtkvL9rMH7yWJi1v5gl2b08Q7e/IXDmvlZUur+UXad7ljvAv/memcpUxri/9Pn/jFxcvr8V5OKAN2S4v+i1k6o18re/3d03foEHvb90TCKsc7G6v6Fare9d+L2/PGdvOFVKvL8IE4DeLri7vwqLiDnMb7u/8MLkSOquu78PL+ivOSa7vxrWVT6Eo7i/DNHxdCwJtr+RZyG8Zv6lv94VByFva7i/ct3I9jdpsr9yARPPeum7v4s2vRZZObu/S710gbt2wL9LJ8cxKNi0v3fIWW5+uLO/6DItJ713ub+u4LPdLk20v9QfHElwf72/mFn9JNGWub8XrOugBXW5v0yFeRQHc7q/YmRr/y6Jrb/QX04Q/kS7vySlx+ac27q/b6fQ9FIqur+ZnOI7VO64v+0dlH32gri/8gvA/mjatL8dNH+Gjj6+v2SwoRDokMC/xiiEO+87ob/EZM8QggSEvy3or7DHL7G/5SI3YJ3xt7/kuhZ2jXW3v5Zpy0+Xrbm/LRgaizYCt7/w+wXBsHK5v48+GEsJOLW/EDynDnkXu7/6fXSBLx63v7JP+lu3/by/YqwdvCx9vL+mZ2d3jqG/vywC7qQSXrS/DHftwOlHt7+/WdhLPhipv0IzhxxJ076/2e1ZlK37sr8zumehkq+5v3Q8fpQVQ76/7nPg+jWXtb8=\",\"dtype\":\"float64\",\"shape\":[100]},\"color\":[\"red\",\"red\",\"blue\",\"red\",\"blue\",\"blue\",\"red\",\"blue\",\"red\",\"blue\",\"blue\",\"red\",\"blue\",\"red\",\"blue\",\"blue\",\"blue\",\"red\",\"red\",\"red\",\"red\",\"blue\",\"red\",\"red\",\"red\",\"red\",\"red\",\"red\",\"blue\",\"blue\",\"red\",\"red\",\"blue\",\"red\",\"red\",\"blue\",\"red\",\"blue\",\"red\",\"red\",\"red\",\"blue\",\"blue\",\"red\",\"blue\",\"red\",\"red\",\"red\",\"red\",\"blue\",\"green\",\"red\",\"blue\",\"red\",\"blue\",\"red\",\"blue\",\"blue\",\"red\",\"blue\",\"red\",\"blue\",\"blue\",\"blue\",\"red\",\"red\",\"blue\",\"blue\",\"blue\",\"red\",\"red\",\"blue\",\"red\",\"blue\",\"blue\",\"red\",\"red\",\"red\",\"red\",\"green\",\"red\",\"blue\",\"blue\",\"red\",\"red\",\"blue\",\"red\",\"blue\",\"red\",\"blue\",\"red\",\"red\",\"red\",\"blue\",\"red\",\"blue\",\"blue\",\"blue\",\"red\",\"blue\"],\"names\":[\"Alexander (R-TN)\",\"Ayotte (R-NH)\",\"Baldwin (D-WI)\",\"Barrasso (R-WY)\",\"Bennet (D-CO)\",\"Blumenthal (D-CT)\",\"Blunt (R-MO)\",\"Booker (D-NJ)\",\"Boozman (R-AR)\",\"Boxer (D-CA)\",\"Brown (D-OH)\",\"Burr (R-NC)\",\"Cantwell (D-WA)\",\"Capito (R-WV)\",\"Cardin (D-MD)\",\"Carper (D-DE)\",\"Casey (D-PA)\",\"Cassidy (R-LA)\",\"Coats (R-IN)\",\"Cochran (R-MS)\",\"Collins (R-ME)\",\"Coons (D-DE)\",\"Corker (R-TN)\",\"Cornyn (R-TX)\",\"Cotton (R-AR)\",\"Crapo (R-ID)\",\"Cruz (R-TX)\",\"Daines (R-MT)\",\"Donnelly (D-IN)\",\"Durbin (D-IL)\",\"Enzi (R-WY)\",\"Ernst (R-IA)\",\"Feinstein (D-CA)\",\"Fischer (R-NE)\",\"Flake (R-AZ)\",\"Franken (D-MN)\",\"Gardner (R-CO)\",\"Gillibrand (D-NY)\",\"Graham (R-SC)\",\"Grassley (R-IA)\",\"Hatch (R-UT)\",\"Heinrich (D-NM)\",\"Heitkamp (D-ND)\",\"Heller (R-NV)\",\"Hirono (D-HI)\",\"Hoeven (R-ND)\",\"Inhofe (R-OK)\",\"Isakson (R-GA)\",\"Johnson (R-WI)\",\"Kaine (D-VA)\",\"King (I-ME)\",\"Kirk (R-IL)\",\"Klobuchar (D-MN)\",\"Lankford (R-OK)\",\"Leahy (D-VT)\",\"Lee (R-UT)\",\"Manchin (D-WV)\",\"Markey (D-MA)\",\"McCain (R-AZ)\",\"McCaskill (D-MO)\",\"McConnell (R-KY)\",\"Menendez (D-NJ)\",\"Merkley (D-OR)\",\"Mikulski (D-MD)\",\"Moran (R-KS)\",\"Murkowski (R-AK)\",\"Murphy (D-CT)\",\"Murray (D-WA)\",\"Nelson (D-FL)\",\"Paul (R-KY)\",\"Perdue (R-GA)\",\"Peters (D-MI)\",\"Portman (R-OH)\",\"Reed (D-RI)\",\"Reid (D-NV)\",\"Risch (R-ID)\",\"Roberts (R-KS)\",\"Rounds (R-SD)\",\"Rubio (R-FL)\",\"Sanders (I-VT)\",\"Sasse (R-NE)\",\"Schatz (D-HI)\",\"Schumer (D-NY)\",\"Scott (R-SC)\",\"Sessions (R-AL)\",\"Shaheen (D-NH)\",\"Shelby (R-AL)\",\"Stabenow (D-MI)\",\"Sullivan (R-AK)\",\"Tester (D-MT)\",\"Thune (R-SD)\",\"Tillis (R-NC)\",\"Toomey (R-PA)\",\"Udall (D-NM)\",\"Vitter (R-LA)\",\"Warner (D-VA)\",\"Warren (D-MA)\",\"Whitehouse (D-RI)\",\"Wicker (R-MS)\",\"Wyden (D-OR)\"]}},\"id\":\"7caae597-ef6b-4275-ae61-f01ffe16367e\",\"type\":\"ColumnDataSource\"},{\"attributes\":{},\"id\":\"58433a51-220f-442a-a8bf-29c623d0b03f\",\"type\":\"BasicTickFormatter\"},{\"attributes\":{\"callback\":null},\"id\":\"471e682c-20e6-417e-a8e5-b110ac6e7af2\",\"type\":\"DataRange1d\"},{\"attributes\":{},\"id\":\"7f6aa6ba-5149-4875-9ec3-867e9289bbc2\",\"type\":\"ToolEvents\"},{\"attributes\":{\"bottom_units\":\"screen\",\"fill_alpha\":{\"value\":0.5},\"fill_color\":{\"value\":\"lightgrey\"},\"left_units\":\"screen\",\"level\":\"overlay\",\"line_alpha\":{\"value\":1.0},\"line_color\":{\"value\":\"black\"},\"line_dash\":[4,4],\"line_width\":{\"value\":2},\"plot\":null,\"render_mode\":\"css\",\"right_units\":\"screen\",\"top_units\":\"screen\"},\"id\":\"ef4592e3-fc80-48c8-82c4-8fce5ba848e0\",\"type\":\"BoxAnnotation\"},{\"attributes\":{\"below\":[{\"id\":\"1da9a26d-1ca6-45e7-9810-bd617eb00748\",\"type\":\"LinearAxis\"}],\"left\":[{\"id\":\"536fdc37-b413-4f37-bebb-0c86da062192\",\"type\":\"LinearAxis\"}],\"plot_width\":800,\"renderers\":[{\"id\":\"1da9a26d-1ca6-45e7-9810-bd617eb00748\",\"type\":\"LinearAxis\"},{\"id\":\"fb665a02-a233-4075-a21e-df04130e1b0e\",\"type\":\"Grid\"},{\"id\":\"536fdc37-b413-4f37-bebb-0c86da062192\",\"type\":\"LinearAxis\"},{\"id\":\"8671596e-8d37-4f9f-b995-e7aa88aecf10\",\"type\":\"Grid\"},{\"id\":\"ef4592e3-fc80-48c8-82c4-8fce5ba848e0\",\"type\":\"BoxAnnotation\"},{\"id\":\"ef6bc992-e78b-4e3c-9955-d1817b1bf11e\",\"type\":\"GlyphRenderer\"}],\"title\":{\"id\":\"a0b369c7-e98b-4602-9f58-05b1a2a6c7e9\",\"type\":\"Title\"},\"tool_events\":{\"id\":\"7f6aa6ba-5149-4875-9ec3-867e9289bbc2\",\"type\":\"ToolEvents\"},\"toolbar\":{\"id\":\"c07a86ba-3429-4928-859a-9c574cfbce7b\",\"type\":\"Toolbar\"},\"x_range\":{\"id\":\"471e682c-20e6-417e-a8e5-b110ac6e7af2\",\"type\":\"DataRange1d\"},\"y_range\":{\"id\":\"80182a4a-83d8-4150-9e8f-efe41eac947a\",\"type\":\"DataRange1d\"}},\"id\":\"bccfbf48-71c1-4dcf-a403-5adce9a8c8a5\",\"subtype\":\"Figure\",\"type\":\"Plot\"},{\"attributes\":{\"formatter\":{\"id\":\"2d7d69e4-7319-40c3-8bff-e2af9375c80e\",\"type\":\"BasicTickFormatter\"},\"plot\":{\"id\":\"bccfbf48-71c1-4dcf-a403-5adce9a8c8a5\",\"subtype\":\"Figure\",\"type\":\"Plot\"},\"ticker\":{\"id\":\"d63a06c0-6d41-4440-9522-9ddc1534b80a\",\"type\":\"BasicTicker\"}},\"id\":\"1da9a26d-1ca6-45e7-9810-bd617eb00748\",\"type\":\"LinearAxis\"},{\"attributes\":{\"overlay\":{\"id\":\"ef4592e3-fc80-48c8-82c4-8fce5ba848e0\",\"type\":\"BoxAnnotation\"},\"plot\":{\"id\":\"bccfbf48-71c1-4dcf-a403-5adce9a8c8a5\",\"subtype\":\"Figure\",\"type\":\"Plot\"}},\"id\":\"b00695bb-4e82-467c-83d9-1428537fa3c9\",\"type\":\"BoxZoomTool\"},{\"attributes\":{\"fill_alpha\":{\"value\":0.1},\"fill_color\":{\"value\":\"#1f77b4\"},\"line_alpha\":{\"value\":0.1},\"line_color\":{\"value\":\"#1f77b4\"},\"size\":{\"units\":\"screen\",\"value\":13},\"x\":{\"field\":\"c1\"},\"y\":{\"field\":\"c2\"}},\"id\":\"beb63d08-4e3e-4985-8839-ee3ca4993319\",\"type\":\"Circle\"},{\"attributes\":{\"data_source\":{\"id\":\"7caae597-ef6b-4275-ae61-f01ffe16367e\",\"type\":\"ColumnDataSource\"},\"glyph\":{\"id\":\"4f18d4e8-01d9-4720-b3c8-03bd7cdd2aaf\",\"type\":\"Circle\"},\"hover_glyph\":null,\"nonselection_glyph\":{\"id\":\"beb63d08-4e3e-4985-8839-ee3ca4993319\",\"type\":\"Circle\"},\"selection_glyph\":null},\"id\":\"ef6bc992-e78b-4e3c-9955-d1817b1bf11e\",\"type\":\"GlyphRenderer\"},{\"attributes\":{\"plot\":null,\"text\":\"A House Divided\"},\"id\":\"a0b369c7-e98b-4602-9f58-05b1a2a6c7e9\",\"type\":\"Title\"},{\"attributes\":{},\"id\":\"3cdbcbc6-eb11-49c7-9292-532b0fcd780e\",\"type\":\"BasicTicker\"},{\"attributes\":{\"formatter\":{\"id\":\"58433a51-220f-442a-a8bf-29c623d0b03f\",\"type\":\"BasicTickFormatter\"},\"plot\":{\"id\":\"bccfbf48-71c1-4dcf-a403-5adce9a8c8a5\",\"subtype\":\"Figure\",\"type\":\"Plot\"},\"ticker\":{\"id\":\"3cdbcbc6-eb11-49c7-9292-532b0fcd780e\",\"type\":\"BasicTicker\"}},\"id\":\"536fdc37-b413-4f37-bebb-0c86da062192\",\"type\":\"LinearAxis\"},{\"attributes\":{\"dimension\":1,\"plot\":{\"id\":\"bccfbf48-71c1-4dcf-a403-5adce9a8c8a5\",\"subtype\":\"Figure\",\"type\":\"Plot\"},\"ticker\":{\"id\":\"3cdbcbc6-eb11-49c7-9292-532b0fcd780e\",\"type\":\"BasicTicker\"}},\"id\":\"8671596e-8d37-4f9f-b995-e7aa88aecf10\",\"type\":\"Grid\"},{\"attributes\":{},\"id\":\"d63a06c0-6d41-4440-9522-9ddc1534b80a\",\"type\":\"BasicTicker\"},{\"attributes\":{\"plot\":{\"id\":\"bccfbf48-71c1-4dcf-a403-5adce9a8c8a5\",\"subtype\":\"Figure\",\"type\":\"Plot\"},\"ticker\":{\"id\":\"d63a06c0-6d41-4440-9522-9ddc1534b80a\",\"type\":\"BasicTicker\"}},\"id\":\"fb665a02-a233-4075-a21e-df04130e1b0e\",\"type\":\"Grid\"},{\"attributes\":{\"plot\":{\"id\":\"bccfbf48-71c1-4dcf-a403-5adce9a8c8a5\",\"subtype\":\"Figure\",\"type\":\"Plot\"}},\"id\":\"b11addf5-90d9-4a8f-8517-47b73cc32777\",\"type\":\"SaveTool\"},{\"attributes\":{\"fill_color\":{\"field\":\"color\"},\"line_color\":{\"field\":\"color\"},\"size\":{\"units\":\"screen\",\"value\":13},\"x\":{\"field\":\"c1\"},\"y\":{\"field\":\"c2\"}},\"id\":\"4f18d4e8-01d9-4720-b3c8-03bd7cdd2aaf\",\"type\":\"Circle\"},{\"attributes\":{\"callback\":null,\"plot\":{\"id\":\"bccfbf48-71c1-4dcf-a403-5adce9a8c8a5\",\"subtype\":\"Figure\",\"type\":\"Plot\"},\"tooltips\":[[\"Senator\",\"@names\"]]},\"id\":\"021557f3-5b9d-416f-9aee-798dae94efac\",\"type\":\"HoverTool\"},{\"attributes\":{\"plot\":{\"id\":\"bccfbf48-71c1-4dcf-a403-5adce9a8c8a5\",\"subtype\":\"Figure\",\"type\":\"Plot\"}},\"id\":\"b06e4b7d-8251-40ab-8ba6-7f8d4cf091ff\",\"type\":\"ResetTool\"},{\"attributes\":{},\"id\":\"2d7d69e4-7319-40c3-8bff-e2af9375c80e\",\"type\":\"BasicTickFormatter\"}],\"root_ids\":[\"bccfbf48-71c1-4dcf-a403-5adce9a8c8a5\"]},\"title\":\"Bokeh Application\",\"version\":\"0.12.4\"}};\n",
       "            var render_items = [{\"docid\":\"5543a925-8fb8-4721-82dd-88135b61a577\",\"elementid\":\"fd370dcc-e461-4516-812e-c60f7679bab4\",\"modelid\":\"bccfbf48-71c1-4dcf-a403-5adce9a8c8a5\"}];\n",
       "            \n",
       "            Bokeh.embed.embed_items(docs_json, render_items);\n",
       "          };\n",
       "          if (document.readyState != \"loading\") fn();\n",
       "          else document.addEventListener(\"DOMContentLoaded\", fn);\n",
       "        })();\n",
       "      },\n",
       "      function(Bokeh) {\n",
       "      }\n",
       "    ];\n",
       "  \n",
       "    function run_inline_js() {\n",
       "      \n",
       "      if ((window.Bokeh !== undefined) || (force === true)) {\n",
       "        for (var i = 0; i < inline_js.length; i++) {\n",
       "          inline_js[i](window.Bokeh);\n",
       "        }if (force === true) {\n",
       "          display_loaded();\n",
       "        }} else if (Date.now() < window._bokeh_timeout) {\n",
       "        setTimeout(run_inline_js, 100);\n",
       "      } else if (!window._bokeh_failed_load) {\n",
       "        console.log(\"Bokeh: BokehJS failed to load within specified timeout.\");\n",
       "        window._bokeh_failed_load = true;\n",
       "      } else if (force !== true) {\n",
       "        var cell = $(document.getElementById(\"fd370dcc-e461-4516-812e-c60f7679bab4\")).parents('.cell').data().cell;\n",
       "        cell.output_area.append_execute_result(NB_LOAD_WARNING)\n",
       "      }\n",
       "  \n",
       "    }\n",
       "  \n",
       "    if (window._bokeh_is_loading === 0) {\n",
       "      console.log(\"Bokeh: BokehJS loaded, going straight to plotting\");\n",
       "      run_inline_js();\n",
       "    } else {\n",
       "      load_libs(js_urls, function() {\n",
       "        console.log(\"Bokeh: BokehJS plotting callback run at\", now());\n",
       "        run_inline_js();\n",
       "      });\n",
       "    }\n",
       "  }(this));\n",
       "</script>"
      ]
     },
     "metadata": {},
     "output_type": "display_data"
    }
   ],
   "source": [
    "# color by cluster\n",
    "colors = cp.values\n",
    "#make source data\n",
    "source = ColumnDataSource(data=dict(\n",
    "    c1 = c1,\n",
    "    c2=c2,\n",
    "    color=colors,\n",
    "    names = names\n",
    "))\n",
    "\n",
    "\n",
    "p2 = figure(plot_width=800, plot_height=600, title=\"A House Divided\", tools = 'hover, save, box_zoom,reset')\n",
    "p2.circle('c1', 'c2', color='color', source=source, size=13)\n",
    "\n",
    "p2.select_one(HoverTool).tooltips = [\n",
    "    ('Senator', '@names')]\n",
    "\n",
    "output_file('../gallery/senate_divided_2.html')\n",
    "\n",
    "show(p2)"
   ]
  },
  {
   "cell_type": "markdown",
   "metadata": {
    "collapsed": true
   },
   "source": [
    "These images suggest there is serious division in the senate. This extends the results we noticed from the decision tree. "
   ]
  }
 ],
 "metadata": {
  "anaconda-cloud": {},
  "kernelspec": {
   "display_name": "Python 3",
   "language": "python",
   "name": "python3"
  },
  "language_info": {
   "codemirror_mode": {
    "name": "ipython",
    "version": 3
   },
   "file_extension": ".py",
   "mimetype": "text/x-python",
   "name": "python",
   "nbconvert_exporter": "python",
   "pygments_lexer": "ipython3",
   "version": "3.6.0"
  }
 },
 "nbformat": 4,
 "nbformat_minor": 1
}
