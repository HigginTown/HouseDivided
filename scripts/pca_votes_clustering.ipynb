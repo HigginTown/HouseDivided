{
 "cells": [
  {
   "cell_type": "code",
   "execution_count": 1,
   "metadata": {},
   "outputs": [
    {
     "data": {
      "text/html": [
       "\n",
       "    <div class=\"bk-root\">\n",
       "        <a href=\"http://bokeh.pydata.org\" target=\"_blank\" class=\"bk-logo bk-logo-small bk-logo-notebook\"></a>\n",
       "        <span id=\"7a7dd0a3-0aa9-4a71-ab3b-ce047a6d28d6\">Loading BokehJS ...</span>\n",
       "    </div>"
      ]
     },
     "metadata": {},
     "output_type": "display_data"
    },
    {
     "data": {
      "application/javascript": [
       "\n",
       "(function(global) {\n",
       "  function now() {\n",
       "    return new Date();\n",
       "  }\n",
       "\n",
       "  var force = true;\n",
       "\n",
       "  if (typeof (window._bokeh_onload_callbacks) === \"undefined\" || force === true) {\n",
       "    window._bokeh_onload_callbacks = [];\n",
       "    window._bokeh_is_loading = undefined;\n",
       "  }\n",
       "\n",
       "\n",
       "  \n",
       "  if (typeof (window._bokeh_timeout) === \"undefined\" || force === true) {\n",
       "    window._bokeh_timeout = Date.now() + 5000;\n",
       "    window._bokeh_failed_load = false;\n",
       "  }\n",
       "\n",
       "  var NB_LOAD_WARNING = {'data': {'text/html':\n",
       "     \"<div style='background-color: #fdd'>\\n\"+\n",
       "     \"<p>\\n\"+\n",
       "     \"BokehJS does not appear to have successfully loaded. If loading BokehJS from CDN, this \\n\"+\n",
       "     \"may be due to a slow or bad network connection. Possible fixes:\\n\"+\n",
       "     \"</p>\\n\"+\n",
       "     \"<ul>\\n\"+\n",
       "     \"<li>re-rerun `output_notebook()` to attempt to load from CDN again, or</li>\\n\"+\n",
       "     \"<li>use INLINE resources instead, as so:</li>\\n\"+\n",
       "     \"</ul>\\n\"+\n",
       "     \"<code>\\n\"+\n",
       "     \"from bokeh.resources import INLINE\\n\"+\n",
       "     \"output_notebook(resources=INLINE)\\n\"+\n",
       "     \"</code>\\n\"+\n",
       "     \"</div>\"}};\n",
       "\n",
       "  function display_loaded() {\n",
       "    if (window.Bokeh !== undefined) {\n",
       "      document.getElementById(\"7a7dd0a3-0aa9-4a71-ab3b-ce047a6d28d6\").textContent = \"BokehJS successfully loaded.\";\n",
       "    } else if (Date.now() < window._bokeh_timeout) {\n",
       "      setTimeout(display_loaded, 100)\n",
       "    }\n",
       "  }\n",
       "\n",
       "  function run_callbacks() {\n",
       "    window._bokeh_onload_callbacks.forEach(function(callback) { callback() });\n",
       "    delete window._bokeh_onload_callbacks\n",
       "    console.info(\"Bokeh: all callbacks have finished\");\n",
       "  }\n",
       "\n",
       "  function load_libs(js_urls, callback) {\n",
       "    window._bokeh_onload_callbacks.push(callback);\n",
       "    if (window._bokeh_is_loading > 0) {\n",
       "      console.log(\"Bokeh: BokehJS is being loaded, scheduling callback at\", now());\n",
       "      return null;\n",
       "    }\n",
       "    if (js_urls == null || js_urls.length === 0) {\n",
       "      run_callbacks();\n",
       "      return null;\n",
       "    }\n",
       "    console.log(\"Bokeh: BokehJS not loaded, scheduling load and callback at\", now());\n",
       "    window._bokeh_is_loading = js_urls.length;\n",
       "    for (var i = 0; i < js_urls.length; i++) {\n",
       "      var url = js_urls[i];\n",
       "      var s = document.createElement('script');\n",
       "      s.src = url;\n",
       "      s.async = false;\n",
       "      s.onreadystatechange = s.onload = function() {\n",
       "        window._bokeh_is_loading--;\n",
       "        if (window._bokeh_is_loading === 0) {\n",
       "          console.log(\"Bokeh: all BokehJS libraries loaded\");\n",
       "          run_callbacks()\n",
       "        }\n",
       "      };\n",
       "      s.onerror = function() {\n",
       "        console.warn(\"failed to load library \" + url);\n",
       "      };\n",
       "      console.log(\"Bokeh: injecting script tag for BokehJS library: \", url);\n",
       "      document.getElementsByTagName(\"head\")[0].appendChild(s);\n",
       "    }\n",
       "  };var element = document.getElementById(\"7a7dd0a3-0aa9-4a71-ab3b-ce047a6d28d6\");\n",
       "  if (element == null) {\n",
       "    console.log(\"Bokeh: ERROR: autoload.js configured with elementid '7a7dd0a3-0aa9-4a71-ab3b-ce047a6d28d6' but no matching script tag was found. \")\n",
       "    return false;\n",
       "  }\n",
       "\n",
       "  var js_urls = [\"https://cdn.pydata.org/bokeh/release/bokeh-0.12.4.min.js\", \"https://cdn.pydata.org/bokeh/release/bokeh-widgets-0.12.4.min.js\"];\n",
       "\n",
       "  var inline_js = [\n",
       "    function(Bokeh) {\n",
       "      Bokeh.set_log_level(\"info\");\n",
       "    },\n",
       "    \n",
       "    function(Bokeh) {\n",
       "      \n",
       "      document.getElementById(\"7a7dd0a3-0aa9-4a71-ab3b-ce047a6d28d6\").textContent = \"BokehJS is loading...\";\n",
       "    },\n",
       "    function(Bokeh) {\n",
       "      console.log(\"Bokeh: injecting CSS: https://cdn.pydata.org/bokeh/release/bokeh-0.12.4.min.css\");\n",
       "      Bokeh.embed.inject_css(\"https://cdn.pydata.org/bokeh/release/bokeh-0.12.4.min.css\");\n",
       "      console.log(\"Bokeh: injecting CSS: https://cdn.pydata.org/bokeh/release/bokeh-widgets-0.12.4.min.css\");\n",
       "      Bokeh.embed.inject_css(\"https://cdn.pydata.org/bokeh/release/bokeh-widgets-0.12.4.min.css\");\n",
       "    }\n",
       "  ];\n",
       "\n",
       "  function run_inline_js() {\n",
       "    \n",
       "    if ((window.Bokeh !== undefined) || (force === true)) {\n",
       "      for (var i = 0; i < inline_js.length; i++) {\n",
       "        inline_js[i](window.Bokeh);\n",
       "      }if (force === true) {\n",
       "        display_loaded();\n",
       "      }} else if (Date.now() < window._bokeh_timeout) {\n",
       "      setTimeout(run_inline_js, 100);\n",
       "    } else if (!window._bokeh_failed_load) {\n",
       "      console.log(\"Bokeh: BokehJS failed to load within specified timeout.\");\n",
       "      window._bokeh_failed_load = true;\n",
       "    } else if (force !== true) {\n",
       "      var cell = $(document.getElementById(\"7a7dd0a3-0aa9-4a71-ab3b-ce047a6d28d6\")).parents('.cell').data().cell;\n",
       "      cell.output_area.append_execute_result(NB_LOAD_WARNING)\n",
       "    }\n",
       "\n",
       "  }\n",
       "\n",
       "  if (window._bokeh_is_loading === 0) {\n",
       "    console.log(\"Bokeh: BokehJS loaded, going straight to plotting\");\n",
       "    run_inline_js();\n",
       "  } else {\n",
       "    load_libs(js_urls, function() {\n",
       "      console.log(\"Bokeh: BokehJS plotting callback run at\", now());\n",
       "      run_inline_js();\n",
       "    });\n",
       "  }\n",
       "}(this));"
      ]
     },
     "metadata": {},
     "output_type": "display_data"
    }
   ],
   "source": [
    "import pandas as pd\n",
    "import numpy as np\n",
    "\n",
    "\n",
    "# clustering and modelling\n",
    "from sklearn.decomposition import PCA\n",
    "from sklearn.cluster import KMeans, AgglomerativeClustering\n",
    "from sklearn.ensemble import RandomForestClassifier, GradientBoostingClassifier\n",
    "\n",
    "#plotting\n",
    "from bokeh.charts import *\n",
    "from bokeh.plotting import figure, show\n",
    "from bokeh.models import HoverTool\n",
    "import matplotlib.pyplot as plt\n",
    "output_notebook()"
   ]
  },
  {
   "cell_type": "code",
   "execution_count": 7,
   "metadata": {
    "collapsed": true
   },
   "outputs": [],
   "source": [
    "votes = pd.read_csv('/../data/cleaned_votes.csv', index_col=0)"
   ]
  },
  {
   "cell_type": "code",
   "execution_count": 8,
   "metadata": {
    "collapsed": true
   },
   "outputs": [],
   "source": [
    "c = votes.iloc[:, :-1].T"
   ]
  },
  {
   "cell_type": "code",
   "execution_count": 9,
   "metadata": {},
   "outputs": [
    {
     "data": {
      "text/plain": [
       "KMeans(algorithm='auto', copy_x=True, init='k-means++', max_iter=300,\n",
       "    n_clusters=2, n_init=10, n_jobs=1, precompute_distances='auto',\n",
       "    random_state=None, tol=0.0001, verbose=0)"
      ]
     },
     "execution_count": 9,
     "metadata": {},
     "output_type": "execute_result"
    }
   ],
   "source": [
    "km = KMeans(n_clusters=2)\n",
    "km.fit(c)"
   ]
  },
  {
   "cell_type": "code",
   "execution_count": 10,
   "metadata": {
    "collapsed": true
   },
   "outputs": [],
   "source": [
    "predicted_parties = pd.Series(km.labels_)"
   ]
  },
  {
   "cell_type": "code",
   "execution_count": 11,
   "metadata": {},
   "outputs": [
    {
     "data": {
      "text/plain": [
       "0    54\n",
       "1    46\n",
       "dtype: int64"
      ]
     },
     "execution_count": 11,
     "metadata": {},
     "output_type": "execute_result"
    }
   ],
   "source": [
    "predicted_parties.value_counts()"
   ]
  },
  {
   "cell_type": "code",
   "execution_count": 12,
   "metadata": {},
   "outputs": [
    {
     "data": {
      "text/plain": [
       "((100, 438), (100,))"
      ]
     },
     "execution_count": 12,
     "metadata": {},
     "output_type": "execute_result"
    }
   ],
   "source": [
    "c.shape, predicted_parties.shape"
   ]
  },
  {
   "cell_type": "code",
   "execution_count": 13,
   "metadata": {
    "collapsed": true
   },
   "outputs": [],
   "source": [
    "#PCA\n",
    "pca = PCA(n_components=2)"
   ]
  },
  {
   "cell_type": "code",
   "execution_count": 14,
   "metadata": {},
   "outputs": [
    {
     "data": {
      "text/plain": [
       "PCA(copy=True, iterated_power='auto', n_components=2, random_state=None,\n",
       "  svd_solver='auto', tol=0.0, whiten=False)"
      ]
     },
     "execution_count": 14,
     "metadata": {},
     "output_type": "execute_result"
    }
   ],
   "source": [
    "pca.fit(c.T)"
   ]
  },
  {
   "cell_type": "code",
   "execution_count": 15,
   "metadata": {},
   "outputs": [
    {
     "data": {
      "text/plain": [
       "array([ 0.50643735,  0.18673049])"
      ]
     },
     "execution_count": 15,
     "metadata": {},
     "output_type": "execute_result"
    }
   ],
   "source": [
    "pca.explained_variance_ratio_"
   ]
  },
  {
   "cell_type": "code",
   "execution_count": 16,
   "metadata": {
    "collapsed": true
   },
   "outputs": [],
   "source": [
    "c1, c2 = pca.components_"
   ]
  },
  {
   "cell_type": "code",
   "execution_count": 17,
   "metadata": {},
   "outputs": [
    {
     "data": {
      "text/plain": [
       "((100,), (100,), (100,))"
      ]
     },
     "execution_count": 17,
     "metadata": {},
     "output_type": "execute_result"
    }
   ],
   "source": [
    "c1.shape, c2.shape, predicted_parties.shape"
   ]
  },
  {
   "cell_type": "code",
   "execution_count": 18,
   "metadata": {},
   "outputs": [
    {
     "data": {
      "text/plain": [
       "100"
      ]
     },
     "execution_count": 18,
     "metadata": {},
     "output_type": "execute_result"
    }
   ],
   "source": [
    "names = votes.T.index.values[:-1]\n",
    "len(names)"
   ]
  },
  {
   "cell_type": "code",
   "execution_count": 19,
   "metadata": {},
   "outputs": [
    {
     "data": {
      "text/html": [
       "\n",
       "\n",
       "    <div class=\"bk-root\">\n",
       "        <div class=\"bk-plotdiv\" id=\"d8a8f8c6-ee86-4d16-a291-6af98e1a6023\"></div>\n",
       "    </div>\n",
       "<script type=\"text/javascript\">\n",
       "  \n",
       "  (function(global) {\n",
       "    function now() {\n",
       "      return new Date();\n",
       "    }\n",
       "  \n",
       "    var force = false;\n",
       "  \n",
       "    if (typeof (window._bokeh_onload_callbacks) === \"undefined\" || force === true) {\n",
       "      window._bokeh_onload_callbacks = [];\n",
       "      window._bokeh_is_loading = undefined;\n",
       "    }\n",
       "  \n",
       "  \n",
       "    \n",
       "    if (typeof (window._bokeh_timeout) === \"undefined\" || force === true) {\n",
       "      window._bokeh_timeout = Date.now() + 0;\n",
       "      window._bokeh_failed_load = false;\n",
       "    }\n",
       "  \n",
       "    var NB_LOAD_WARNING = {'data': {'text/html':\n",
       "       \"<div style='background-color: #fdd'>\\n\"+\n",
       "       \"<p>\\n\"+\n",
       "       \"BokehJS does not appear to have successfully loaded. If loading BokehJS from CDN, this \\n\"+\n",
       "       \"may be due to a slow or bad network connection. Possible fixes:\\n\"+\n",
       "       \"</p>\\n\"+\n",
       "       \"<ul>\\n\"+\n",
       "       \"<li>re-rerun `output_notebook()` to attempt to load from CDN again, or</li>\\n\"+\n",
       "       \"<li>use INLINE resources instead, as so:</li>\\n\"+\n",
       "       \"</ul>\\n\"+\n",
       "       \"<code>\\n\"+\n",
       "       \"from bokeh.resources import INLINE\\n\"+\n",
       "       \"output_notebook(resources=INLINE)\\n\"+\n",
       "       \"</code>\\n\"+\n",
       "       \"</div>\"}};\n",
       "  \n",
       "    function display_loaded() {\n",
       "      if (window.Bokeh !== undefined) {\n",
       "        document.getElementById(\"d8a8f8c6-ee86-4d16-a291-6af98e1a6023\").textContent = \"BokehJS successfully loaded.\";\n",
       "      } else if (Date.now() < window._bokeh_timeout) {\n",
       "        setTimeout(display_loaded, 100)\n",
       "      }\n",
       "    }\n",
       "  \n",
       "    function run_callbacks() {\n",
       "      window._bokeh_onload_callbacks.forEach(function(callback) { callback() });\n",
       "      delete window._bokeh_onload_callbacks\n",
       "      console.info(\"Bokeh: all callbacks have finished\");\n",
       "    }\n",
       "  \n",
       "    function load_libs(js_urls, callback) {\n",
       "      window._bokeh_onload_callbacks.push(callback);\n",
       "      if (window._bokeh_is_loading > 0) {\n",
       "        console.log(\"Bokeh: BokehJS is being loaded, scheduling callback at\", now());\n",
       "        return null;\n",
       "      }\n",
       "      if (js_urls == null || js_urls.length === 0) {\n",
       "        run_callbacks();\n",
       "        return null;\n",
       "      }\n",
       "      console.log(\"Bokeh: BokehJS not loaded, scheduling load and callback at\", now());\n",
       "      window._bokeh_is_loading = js_urls.length;\n",
       "      for (var i = 0; i < js_urls.length; i++) {\n",
       "        var url = js_urls[i];\n",
       "        var s = document.createElement('script');\n",
       "        s.src = url;\n",
       "        s.async = false;\n",
       "        s.onreadystatechange = s.onload = function() {\n",
       "          window._bokeh_is_loading--;\n",
       "          if (window._bokeh_is_loading === 0) {\n",
       "            console.log(\"Bokeh: all BokehJS libraries loaded\");\n",
       "            run_callbacks()\n",
       "          }\n",
       "        };\n",
       "        s.onerror = function() {\n",
       "          console.warn(\"failed to load library \" + url);\n",
       "        };\n",
       "        console.log(\"Bokeh: injecting script tag for BokehJS library: \", url);\n",
       "        document.getElementsByTagName(\"head\")[0].appendChild(s);\n",
       "      }\n",
       "    };var element = document.getElementById(\"d8a8f8c6-ee86-4d16-a291-6af98e1a6023\");\n",
       "    if (element == null) {\n",
       "      console.log(\"Bokeh: ERROR: autoload.js configured with elementid 'd8a8f8c6-ee86-4d16-a291-6af98e1a6023' but no matching script tag was found. \")\n",
       "      return false;\n",
       "    }\n",
       "  \n",
       "    var js_urls = [];\n",
       "  \n",
       "    var inline_js = [\n",
       "      function(Bokeh) {\n",
       "        (function() {\n",
       "          var fn = function() {\n",
       "            var docs_json = {\"b4736f35-e926-4be7-91b3-b1512391f18a\":{\"roots\":{\"references\":[{\"attributes\":{\"callback\":null},\"id\":\"1df755e3-cd0d-42a4-8b00-f9c6d410b12a\",\"type\":\"DataRange1d\"},{\"attributes\":{\"fill_color\":{\"field\":\"color\"},\"line_color\":{\"field\":\"color\"},\"size\":{\"units\":\"screen\",\"value\":13},\"x\":{\"field\":\"c1\"},\"y\":{\"field\":\"c2\"}},\"id\":\"b5b82ba1-ab56-445f-aec6-907d43e74f33\",\"type\":\"Circle\"},{\"attributes\":{\"callback\":null,\"column_names\":[\"names\",\"c2\",\"c1\",\"color\"],\"data\":{\"c1\":{\"__ndarray__\":\"OSJXd1Bvr7+A3GCdwjalv2hF8Y4OIb8/9RO4u+vrub+vTh98xA+5P4XJSYKcWr4/V6EFLCz2uL/QXJSkEa+/P1ZYmV/dfbq/1mA8k8W0uz9aqqRInYO/P7uryq6Elba/chcmRe5fvT8jkerGTxa0v/QJN6ho0r4/m4o5UXOXuD9roqSN7SO7P3ng4hPCqLi/CM6cPKaWuL8P08lpwTO1v7QiT0also2/LFsBXzkHvT/5L+MehX61v1jKSk1w/7e/GK31SCP2u79suv12bwm8v2M7DnyUVLW/Qdzcm7hMub9hs+SIjoSvPyzUbgtZ4r4/IBORu7wjuL/78tiqbgS6v2X7cxdVOLo/+Izrtc3Jur9uJ6UVJue2v3rKbLaPRL8/x1xxmqNotb9esr3aePe/P6Uxy1Yueai/2+sEH0TluL96ik1ayCm1v4q3mZ3Zab4/qwrkW2oKrT/bLrKgsWKxv382MuZTub8/edmHmPLit7/EkGrHBkO7v0fPOXcSZ7i/fQi5do7At79oR4ED/AO6P3R/nyb2Drc/D4MMsyFEob+TpSX7amK8P1UldGXqlrq/KDYMXeJWvz8TgYnF9o22vw5d79TnZqE/FKGXD+m3vz8PbSbEFzm2v5QO1Ty9grQ/sXIIDf24s7+l/0bEx9m9P0k3+qVioL8/NckUJ7V5vT/Y+5MDAjK5v4R5+aiQhay/vbGo+w5Qvj8yqMtnUhy9P6gZ5IuOn7g/7+qFslDBtL9lA7Aotwy6v80szndVtr0/oOw/Dx45sb8i5HV9XoK/P+2OztcmJLs/I0cT8LmIvL8pLZT2y6+5v2Pr7jRAkLa/stlXLHP0s7+pdk+XGZG3P2KY8ljyJ7y/7VXvzcqnvj8v7ub3Vya/P2BregOcmbq/Ggbv3gYuur+fwJzziWS8P0wGv/P0+7m/bXuJEb0bvT9aVXRjHG+3v+XpwfTGbrk/FPqW2/O0uL8lgn7AyuS3v6QC2mnAiLm/5eQs7VoKvz/UjC2DP+i5v4KMKScRoLY/a4Pg/jMfwD+FarLo7FS+P/f94atewbi/zs2/+aw5vT8=\",\"dtype\":\"float64\",\"shape\":[100]},\"c2\":{\"__ndarray__\":\"24MHyhOLwL/Yk+3E/pK9v5CfRU0Dere/sJmOsxOru79gFBEo9k68v+LaDr8dzLm/+pT2CkOPt78ZIyT52Oe0v7QtCadpO7u/qLrto+NCsL+8ZlS9mrW2vwCouIzqBcC/LwQExhfYuL80bpYhhEbAvw5ph7I20re/qj+tLmVRvL/vjyD5Cwm6v0snNA+My7u/uDoa+fJPu7/X8Lw3N1zBv1quVG/gnL6/Lx7Q/jqQub9tzRRlcx+9vw3P9WQQeb2/z/85N1rvtb/4n18yjBu0v+XM/4odrGA/TqzlJnyXuL/3khOWw6+7vxyrqJrt1ra/O3i48AhUu79czVI7mW68v1c9VdUycr+/5jSlQGKVvL+ubXdnmM63v91Bi2k7t7a/sJ+6rJtkvL9rMH7yWJi1v5gl2b08Q7e/IXDmvlZUur+UXad7ljvAv/memcpUxri/9Pn/jFxcvr8V5OKAN2S4v+i1k6o18re/3d03foEHvb90TCKsc7G6v6Fare9d+L2/PGdvOFVKvL8IE4DeLri7vwqLiDnMb7u/8MLkSOquu78PL+ivOSa7vxrWVT6Eo7i/DNHxdCwJtr+RZyG8Zv6lv94VByFva7i/ct3I9jdpsr9yARPPeum7v4s2vRZZObu/S710gbt2wL9LJ8cxKNi0v3fIWW5+uLO/6DItJ713ub+u4LPdLk20v9QfHElwf72/mFn9JNGWub8XrOugBXW5v0yFeRQHc7q/YmRr/y6Jrb/QX04Q/kS7vySlx+ac27q/b6fQ9FIqur+ZnOI7VO64v+0dlH32gri/8gvA/mjatL8dNH+Gjj6+v2SwoRDokMC/xiiEO+87ob/EZM8QggSEvy3or7DHL7G/5SI3YJ3xt7/kuhZ2jXW3v5Zpy0+Xrbm/LRgaizYCt7/w+wXBsHK5v48+GEsJOLW/EDynDnkXu7/6fXSBLx63v7JP+lu3/by/YqwdvCx9vL+mZ2d3jqG/vywC7qQSXrS/DHftwOlHt7+/WdhLPhipv0IzhxxJ076/2e1ZlK37sr8zumehkq+5v3Q8fpQVQ76/7nPg+jWXtb8=\",\"dtype\":\"float64\",\"shape\":[100]},\"color\":[\"darkred\",\"darkred\",\"darkblue\",\"darkred\",\"darkblue\",\"darkblue\",\"darkred\",\"darkblue\",\"darkred\",\"darkblue\",\"darkblue\",\"darkred\",\"darkblue\",\"darkred\",\"darkblue\",\"darkblue\",\"darkblue\",\"darkred\",\"darkred\",\"darkred\",\"darkred\",\"darkblue\",\"darkred\",\"darkred\",\"darkred\",\"darkred\",\"darkred\",\"darkred\",\"darkblue\",\"darkblue\",\"darkred\",\"darkred\",\"darkblue\",\"darkred\",\"darkred\",\"darkblue\",\"darkred\",\"darkblue\",\"darkred\",\"darkred\",\"darkred\",\"darkblue\",\"darkblue\",\"darkred\",\"darkblue\",\"darkred\",\"darkred\",\"darkred\",\"darkred\",\"darkblue\",\"darkblue\",\"darkred\",\"darkblue\",\"darkred\",\"darkblue\",\"darkred\",\"darkblue\",\"darkblue\",\"darkred\",\"darkblue\",\"darkred\",\"darkblue\",\"darkblue\",\"darkblue\",\"darkred\",\"darkred\",\"darkblue\",\"darkblue\",\"darkblue\",\"darkred\",\"darkred\",\"darkblue\",\"darkred\",\"darkblue\",\"darkblue\",\"darkred\",\"darkred\",\"darkred\",\"darkred\",\"darkblue\",\"darkred\",\"darkblue\",\"darkblue\",\"darkred\",\"darkred\",\"darkblue\",\"darkred\",\"darkblue\",\"darkred\",\"darkblue\",\"darkred\",\"darkred\",\"darkred\",\"darkblue\",\"darkred\",\"darkblue\",\"darkblue\",\"darkblue\",\"darkred\",\"darkblue\"],\"names\":[\"Alexander (R-TN)\",\"Ayotte (R-NH)\",\"Baldwin (D-WI)\",\"Barrasso (R-WY)\",\"Bennet (D-CO)\",\"Blumenthal (D-CT)\",\"Blunt (R-MO)\",\"Booker (D-NJ)\",\"Boozman (R-AR)\",\"Boxer (D-CA)\",\"Brown (D-OH)\",\"Burr (R-NC)\",\"Cantwell (D-WA)\",\"Capito (R-WV)\",\"Cardin (D-MD)\",\"Carper (D-DE)\",\"Casey (D-PA)\",\"Cassidy (R-LA)\",\"Coats (R-IN)\",\"Cochran (R-MS)\",\"Collins (R-ME)\",\"Coons (D-DE)\",\"Corker (R-TN)\",\"Cornyn (R-TX)\",\"Cotton (R-AR)\",\"Crapo (R-ID)\",\"Cruz (R-TX)\",\"Daines (R-MT)\",\"Donnelly (D-IN)\",\"Durbin (D-IL)\",\"Enzi (R-WY)\",\"Ernst (R-IA)\",\"Feinstein (D-CA)\",\"Fischer (R-NE)\",\"Flake (R-AZ)\",\"Franken (D-MN)\",\"Gardner (R-CO)\",\"Gillibrand (D-NY)\",\"Graham (R-SC)\",\"Grassley (R-IA)\",\"Hatch (R-UT)\",\"Heinrich (D-NM)\",\"Heitkamp (D-ND)\",\"Heller (R-NV)\",\"Hirono (D-HI)\",\"Hoeven (R-ND)\",\"Inhofe (R-OK)\",\"Isakson (R-GA)\",\"Johnson (R-WI)\",\"Kaine (D-VA)\",\"King (I-ME)\",\"Kirk (R-IL)\",\"Klobuchar (D-MN)\",\"Lankford (R-OK)\",\"Leahy (D-VT)\",\"Lee (R-UT)\",\"Manchin (D-WV)\",\"Markey (D-MA)\",\"McCain (R-AZ)\",\"McCaskill (D-MO)\",\"McConnell (R-KY)\",\"Menendez (D-NJ)\",\"Merkley (D-OR)\",\"Mikulski (D-MD)\",\"Moran (R-KS)\",\"Murkowski (R-AK)\",\"Murphy (D-CT)\",\"Murray (D-WA)\",\"Nelson (D-FL)\",\"Paul (R-KY)\",\"Perdue (R-GA)\",\"Peters (D-MI)\",\"Portman (R-OH)\",\"Reed (D-RI)\",\"Reid (D-NV)\",\"Risch (R-ID)\",\"Roberts (R-KS)\",\"Rounds (R-SD)\",\"Rubio (R-FL)\",\"Sanders (I-VT)\",\"Sasse (R-NE)\",\"Schatz (D-HI)\",\"Schumer (D-NY)\",\"Scott (R-SC)\",\"Sessions (R-AL)\",\"Shaheen (D-NH)\",\"Shelby (R-AL)\",\"Stabenow (D-MI)\",\"Sullivan (R-AK)\",\"Tester (D-MT)\",\"Thune (R-SD)\",\"Tillis (R-NC)\",\"Toomey (R-PA)\",\"Udall (D-NM)\",\"Vitter (R-LA)\",\"Warner (D-VA)\",\"Warren (D-MA)\",\"Whitehouse (D-RI)\",\"Wicker (R-MS)\",\"Wyden (D-OR)\"]}},\"id\":\"f8b992e9-da4c-44c2-8ffe-0006cad54ac7\",\"type\":\"ColumnDataSource\"},{\"attributes\":{\"plot\":null,\"text\":\"A House Divided\"},\"id\":\"8dfbdd4c-3335-4972-9243-f2f956d3afba\",\"type\":\"Title\"},{\"attributes\":{},\"id\":\"75e20a55-b82c-44df-bc91-71ca04ffa113\",\"type\":\"BasicTicker\"},{\"attributes\":{\"below\":[{\"id\":\"235f89be-9e93-4947-a4aa-ad0f636e1d88\",\"type\":\"LinearAxis\"}],\"left\":[{\"id\":\"138a6b6e-ad2d-4529-854c-889969be6b70\",\"type\":\"LinearAxis\"}],\"plot_height\":400,\"plot_width\":400,\"renderers\":[{\"id\":\"235f89be-9e93-4947-a4aa-ad0f636e1d88\",\"type\":\"LinearAxis\"},{\"id\":\"3c26d707-cc61-434a-923e-5cfcbf3575e8\",\"type\":\"Grid\"},{\"id\":\"138a6b6e-ad2d-4529-854c-889969be6b70\",\"type\":\"LinearAxis\"},{\"id\":\"ffc14efc-e883-4ca5-95e5-4ebbee1842ae\",\"type\":\"Grid\"},{\"id\":\"61a8b4c0-1cb8-4c15-b1d1-424a2a627d13\",\"type\":\"BoxAnnotation\"},{\"id\":\"0a7d1e27-e7e0-44bc-8779-cdd41a3815b8\",\"type\":\"GlyphRenderer\"}],\"title\":{\"id\":\"8dfbdd4c-3335-4972-9243-f2f956d3afba\",\"type\":\"Title\"},\"tool_events\":{\"id\":\"e812efc2-c53c-45c9-a044-0904a33989ef\",\"type\":\"ToolEvents\"},\"toolbar\":{\"id\":\"e5c59d58-1b83-4558-903d-aa900952c22a\",\"type\":\"Toolbar\"},\"x_range\":{\"id\":\"1df755e3-cd0d-42a4-8b00-f9c6d410b12a\",\"type\":\"DataRange1d\"},\"y_range\":{\"id\":\"1f269ffe-8e8a-4d7b-92bd-70d8ae34a079\",\"type\":\"DataRange1d\"}},\"id\":\"adb09817-5b69-4184-998e-c6da7ae1fa2f\",\"subtype\":\"Figure\",\"type\":\"Plot\"},{\"attributes\":{},\"id\":\"1ba7f6f1-fb52-4ded-80b5-31071d96f56c\",\"type\":\"BasicTicker\"},{\"attributes\":{\"plot\":{\"id\":\"adb09817-5b69-4184-998e-c6da7ae1fa2f\",\"subtype\":\"Figure\",\"type\":\"Plot\"}},\"id\":\"e5e2539a-2c5d-48b2-8b4e-ef82c24bf007\",\"type\":\"ResetTool\"},{\"attributes\":{\"plot\":{\"id\":\"adb09817-5b69-4184-998e-c6da7ae1fa2f\",\"subtype\":\"Figure\",\"type\":\"Plot\"}},\"id\":\"7a443fdd-d2cc-4a6b-8ad7-baf966e07911\",\"type\":\"SaveTool\"},{\"attributes\":{\"callback\":null},\"id\":\"1f269ffe-8e8a-4d7b-92bd-70d8ae34a079\",\"type\":\"DataRange1d\"},{\"attributes\":{},\"id\":\"64d2734c-0516-4196-a385-9b25d34defe2\",\"type\":\"BasicTickFormatter\"},{\"attributes\":{\"overlay\":{\"id\":\"61a8b4c0-1cb8-4c15-b1d1-424a2a627d13\",\"type\":\"BoxAnnotation\"},\"plot\":{\"id\":\"adb09817-5b69-4184-998e-c6da7ae1fa2f\",\"subtype\":\"Figure\",\"type\":\"Plot\"}},\"id\":\"b813abaa-d371-4806-930c-aacc269f0f12\",\"type\":\"BoxZoomTool\"},{\"attributes\":{\"formatter\":{\"id\":\"9b2e80bc-aece-446f-8982-971213c614f5\",\"type\":\"BasicTickFormatter\"},\"plot\":{\"id\":\"adb09817-5b69-4184-998e-c6da7ae1fa2f\",\"subtype\":\"Figure\",\"type\":\"Plot\"},\"ticker\":{\"id\":\"75e20a55-b82c-44df-bc91-71ca04ffa113\",\"type\":\"BasicTicker\"}},\"id\":\"138a6b6e-ad2d-4529-854c-889969be6b70\",\"type\":\"LinearAxis\"},{\"attributes\":{},\"id\":\"9b2e80bc-aece-446f-8982-971213c614f5\",\"type\":\"BasicTickFormatter\"},{\"attributes\":{\"bottom_units\":\"screen\",\"fill_alpha\":{\"value\":0.5},\"fill_color\":{\"value\":\"lightgrey\"},\"left_units\":\"screen\",\"level\":\"overlay\",\"line_alpha\":{\"value\":1.0},\"line_color\":{\"value\":\"black\"},\"line_dash\":[4,4],\"line_width\":{\"value\":2},\"plot\":null,\"render_mode\":\"css\",\"right_units\":\"screen\",\"top_units\":\"screen\"},\"id\":\"61a8b4c0-1cb8-4c15-b1d1-424a2a627d13\",\"type\":\"BoxAnnotation\"},{\"attributes\":{\"data_source\":{\"id\":\"f8b992e9-da4c-44c2-8ffe-0006cad54ac7\",\"type\":\"ColumnDataSource\"},\"glyph\":{\"id\":\"b5b82ba1-ab56-445f-aec6-907d43e74f33\",\"type\":\"Circle\"},\"hover_glyph\":null,\"nonselection_glyph\":{\"id\":\"21472475-1caf-4928-a744-9976d40785bc\",\"type\":\"Circle\"},\"selection_glyph\":null},\"id\":\"0a7d1e27-e7e0-44bc-8779-cdd41a3815b8\",\"type\":\"GlyphRenderer\"},{\"attributes\":{},\"id\":\"e812efc2-c53c-45c9-a044-0904a33989ef\",\"type\":\"ToolEvents\"},{\"attributes\":{\"dimension\":1,\"plot\":{\"id\":\"adb09817-5b69-4184-998e-c6da7ae1fa2f\",\"subtype\":\"Figure\",\"type\":\"Plot\"},\"ticker\":{\"id\":\"75e20a55-b82c-44df-bc91-71ca04ffa113\",\"type\":\"BasicTicker\"}},\"id\":\"ffc14efc-e883-4ca5-95e5-4ebbee1842ae\",\"type\":\"Grid\"},{\"attributes\":{\"formatter\":{\"id\":\"64d2734c-0516-4196-a385-9b25d34defe2\",\"type\":\"BasicTickFormatter\"},\"plot\":{\"id\":\"adb09817-5b69-4184-998e-c6da7ae1fa2f\",\"subtype\":\"Figure\",\"type\":\"Plot\"},\"ticker\":{\"id\":\"1ba7f6f1-fb52-4ded-80b5-31071d96f56c\",\"type\":\"BasicTicker\"}},\"id\":\"235f89be-9e93-4947-a4aa-ad0f636e1d88\",\"type\":\"LinearAxis\"},{\"attributes\":{\"plot\":{\"id\":\"adb09817-5b69-4184-998e-c6da7ae1fa2f\",\"subtype\":\"Figure\",\"type\":\"Plot\"},\"ticker\":{\"id\":\"1ba7f6f1-fb52-4ded-80b5-31071d96f56c\",\"type\":\"BasicTicker\"}},\"id\":\"3c26d707-cc61-434a-923e-5cfcbf3575e8\",\"type\":\"Grid\"},{\"attributes\":{\"active_drag\":\"auto\",\"active_scroll\":\"auto\",\"active_tap\":\"auto\",\"tools\":[{\"id\":\"82bfb9df-be0d-4454-a2f7-e191a864a84e\",\"type\":\"HoverTool\"},{\"id\":\"7a443fdd-d2cc-4a6b-8ad7-baf966e07911\",\"type\":\"SaveTool\"},{\"id\":\"b813abaa-d371-4806-930c-aacc269f0f12\",\"type\":\"BoxZoomTool\"},{\"id\":\"e5e2539a-2c5d-48b2-8b4e-ef82c24bf007\",\"type\":\"ResetTool\"}]},\"id\":\"e5c59d58-1b83-4558-903d-aa900952c22a\",\"type\":\"Toolbar\"},{\"attributes\":{\"callback\":null,\"plot\":{\"id\":\"adb09817-5b69-4184-998e-c6da7ae1fa2f\",\"subtype\":\"Figure\",\"type\":\"Plot\"},\"tooltips\":[[\"Senator\",\"@names\"]]},\"id\":\"82bfb9df-be0d-4454-a2f7-e191a864a84e\",\"type\":\"HoverTool\"},{\"attributes\":{\"fill_alpha\":{\"value\":0.1},\"fill_color\":{\"value\":\"#1f77b4\"},\"line_alpha\":{\"value\":0.1},\"line_color\":{\"value\":\"#1f77b4\"},\"size\":{\"units\":\"screen\",\"value\":13},\"x\":{\"field\":\"c1\"},\"y\":{\"field\":\"c2\"}},\"id\":\"21472475-1caf-4928-a744-9976d40785bc\",\"type\":\"Circle\"}],\"root_ids\":[\"adb09817-5b69-4184-998e-c6da7ae1fa2f\"]},\"title\":\"Bokeh Application\",\"version\":\"0.12.4\"}};\n",
       "            var render_items = [{\"docid\":\"b4736f35-e926-4be7-91b3-b1512391f18a\",\"elementid\":\"d8a8f8c6-ee86-4d16-a291-6af98e1a6023\",\"modelid\":\"adb09817-5b69-4184-998e-c6da7ae1fa2f\"}];\n",
       "            \n",
       "            Bokeh.embed.embed_items(docs_json, render_items);\n",
       "          };\n",
       "          if (document.readyState != \"loading\") fn();\n",
       "          else document.addEventListener(\"DOMContentLoaded\", fn);\n",
       "        })();\n",
       "      },\n",
       "      function(Bokeh) {\n",
       "      }\n",
       "    ];\n",
       "  \n",
       "    function run_inline_js() {\n",
       "      \n",
       "      if ((window.Bokeh !== undefined) || (force === true)) {\n",
       "        for (var i = 0; i < inline_js.length; i++) {\n",
       "          inline_js[i](window.Bokeh);\n",
       "        }if (force === true) {\n",
       "          display_loaded();\n",
       "        }} else if (Date.now() < window._bokeh_timeout) {\n",
       "        setTimeout(run_inline_js, 100);\n",
       "      } else if (!window._bokeh_failed_load) {\n",
       "        console.log(\"Bokeh: BokehJS failed to load within specified timeout.\");\n",
       "        window._bokeh_failed_load = true;\n",
       "      } else if (force !== true) {\n",
       "        var cell = $(document.getElementById(\"d8a8f8c6-ee86-4d16-a291-6af98e1a6023\")).parents('.cell').data().cell;\n",
       "        cell.output_area.append_execute_result(NB_LOAD_WARNING)\n",
       "      }\n",
       "  \n",
       "    }\n",
       "  \n",
       "    if (window._bokeh_is_loading === 0) {\n",
       "      console.log(\"Bokeh: BokehJS loaded, going straight to plotting\");\n",
       "      run_inline_js();\n",
       "    } else {\n",
       "      load_libs(js_urls, function() {\n",
       "        console.log(\"Bokeh: BokehJS plotting callback run at\", now());\n",
       "        run_inline_js();\n",
       "      });\n",
       "    }\n",
       "  }(this));\n",
       "</script>"
      ]
     },
     "metadata": {},
     "output_type": "display_data"
    }
   ],
   "source": [
    "# color by cluster\n",
    "color_dict = {0:'darkred', 1:'darkblue', 2: 'green', 3: 'orange', 4: 'yellow'}\n",
    "cs = pd.Series(predicted_parties).map(color_dict)\n",
    "color = cs.values\n",
    "\n",
    "#make source data\n",
    "source = ColumnDataSource(data=dict(\n",
    "    c1 = c1,\n",
    "    c2=c2,\n",
    "    color=color,\n",
    "    names = names\n",
    "))\n",
    "\n",
    "\n",
    "p1 = figure(plot_width=800, plot_height=600, title=\"A House Divided\", tools = 'hover, save, box_zoom,reset')\n",
    "p1.circle('c1', 'c2', color='color', source=source, size=13)\n",
    "\n",
    "p1.select_one(HoverTool).tooltips = [\n",
    "    ('Senator', '@names')]\n",
    "\n",
    "output_file('/../gallery/senate_divided.html')\n",
    "\n",
    "show(p1)"
   ]
  },
  {
   "cell_type": "code",
   "execution_count": 20,
   "metadata": {
    "collapsed": true
   },
   "outputs": [],
   "source": [
    "parties = []\n",
    "for name in names:\n",
    "    party = name[-5:-4]\n",
    "    parties.append(party)"
   ]
  },
  {
   "cell_type": "code",
   "execution_count": 21,
   "metadata": {
    "collapsed": true
   },
   "outputs": [],
   "source": [
    "colors_dict = {'R':'red', 'D':'blue', 'I':'green'}\n",
    "cp = pd.Series(parties).map(colors_dict)"
   ]
  },
  {
   "cell_type": "code",
   "execution_count": 23,
   "metadata": {},
   "outputs": [
    {
     "data": {
      "text/html": [
       "\n",
       "\n",
       "    <div class=\"bk-root\">\n",
       "        <div class=\"bk-plotdiv\" id=\"e360f62e-8619-4186-ac37-8d6f6fdfa2e8\"></div>\n",
       "    </div>\n",
       "<script type=\"text/javascript\">\n",
       "  \n",
       "  (function(global) {\n",
       "    function now() {\n",
       "      return new Date();\n",
       "    }\n",
       "  \n",
       "    var force = false;\n",
       "  \n",
       "    if (typeof (window._bokeh_onload_callbacks) === \"undefined\" || force === true) {\n",
       "      window._bokeh_onload_callbacks = [];\n",
       "      window._bokeh_is_loading = undefined;\n",
       "    }\n",
       "  \n",
       "  \n",
       "    \n",
       "    if (typeof (window._bokeh_timeout) === \"undefined\" || force === true) {\n",
       "      window._bokeh_timeout = Date.now() + 0;\n",
       "      window._bokeh_failed_load = false;\n",
       "    }\n",
       "  \n",
       "    var NB_LOAD_WARNING = {'data': {'text/html':\n",
       "       \"<div style='background-color: #fdd'>\\n\"+\n",
       "       \"<p>\\n\"+\n",
       "       \"BokehJS does not appear to have successfully loaded. If loading BokehJS from CDN, this \\n\"+\n",
       "       \"may be due to a slow or bad network connection. Possible fixes:\\n\"+\n",
       "       \"</p>\\n\"+\n",
       "       \"<ul>\\n\"+\n",
       "       \"<li>re-rerun `output_notebook()` to attempt to load from CDN again, or</li>\\n\"+\n",
       "       \"<li>use INLINE resources instead, as so:</li>\\n\"+\n",
       "       \"</ul>\\n\"+\n",
       "       \"<code>\\n\"+\n",
       "       \"from bokeh.resources import INLINE\\n\"+\n",
       "       \"output_notebook(resources=INLINE)\\n\"+\n",
       "       \"</code>\\n\"+\n",
       "       \"</div>\"}};\n",
       "  \n",
       "    function display_loaded() {\n",
       "      if (window.Bokeh !== undefined) {\n",
       "        document.getElementById(\"e360f62e-8619-4186-ac37-8d6f6fdfa2e8\").textContent = \"BokehJS successfully loaded.\";\n",
       "      } else if (Date.now() < window._bokeh_timeout) {\n",
       "        setTimeout(display_loaded, 100)\n",
       "      }\n",
       "    }\n",
       "  \n",
       "    function run_callbacks() {\n",
       "      window._bokeh_onload_callbacks.forEach(function(callback) { callback() });\n",
       "      delete window._bokeh_onload_callbacks\n",
       "      console.info(\"Bokeh: all callbacks have finished\");\n",
       "    }\n",
       "  \n",
       "    function load_libs(js_urls, callback) {\n",
       "      window._bokeh_onload_callbacks.push(callback);\n",
       "      if (window._bokeh_is_loading > 0) {\n",
       "        console.log(\"Bokeh: BokehJS is being loaded, scheduling callback at\", now());\n",
       "        return null;\n",
       "      }\n",
       "      if (js_urls == null || js_urls.length === 0) {\n",
       "        run_callbacks();\n",
       "        return null;\n",
       "      }\n",
       "      console.log(\"Bokeh: BokehJS not loaded, scheduling load and callback at\", now());\n",
       "      window._bokeh_is_loading = js_urls.length;\n",
       "      for (var i = 0; i < js_urls.length; i++) {\n",
       "        var url = js_urls[i];\n",
       "        var s = document.createElement('script');\n",
       "        s.src = url;\n",
       "        s.async = false;\n",
       "        s.onreadystatechange = s.onload = function() {\n",
       "          window._bokeh_is_loading--;\n",
       "          if (window._bokeh_is_loading === 0) {\n",
       "            console.log(\"Bokeh: all BokehJS libraries loaded\");\n",
       "            run_callbacks()\n",
       "          }\n",
       "        };\n",
       "        s.onerror = function() {\n",
       "          console.warn(\"failed to load library \" + url);\n",
       "        };\n",
       "        console.log(\"Bokeh: injecting script tag for BokehJS library: \", url);\n",
       "        document.getElementsByTagName(\"head\")[0].appendChild(s);\n",
       "      }\n",
       "    };var element = document.getElementById(\"e360f62e-8619-4186-ac37-8d6f6fdfa2e8\");\n",
       "    if (element == null) {\n",
       "      console.log(\"Bokeh: ERROR: autoload.js configured with elementid 'e360f62e-8619-4186-ac37-8d6f6fdfa2e8' but no matching script tag was found. \")\n",
       "      return false;\n",
       "    }\n",
       "  \n",
       "    var js_urls = [];\n",
       "  \n",
       "    var inline_js = [\n",
       "      function(Bokeh) {\n",
       "        (function() {\n",
       "          var fn = function() {\n",
       "            var docs_json = {\"fd06d18e-dcb3-4019-8041-f4451047d0b0\":{\"roots\":{\"references\":[{\"attributes\":{\"fill_alpha\":{\"value\":0.1},\"fill_color\":{\"value\":\"#1f77b4\"},\"line_alpha\":{\"value\":0.1},\"line_color\":{\"value\":\"#1f77b4\"},\"size\":{\"units\":\"screen\",\"value\":13},\"x\":{\"field\":\"c1\"},\"y\":{\"field\":\"c2\"}},\"id\":\"2475599e-634d-492b-a6a9-80933a42f9a2\",\"type\":\"Circle\"},{\"attributes\":{\"formatter\":{\"id\":\"66971fd9-970e-468d-8b44-4fc207af92eb\",\"type\":\"BasicTickFormatter\"},\"plot\":{\"id\":\"8ef6af5f-22d7-427f-aa70-26a8994772b4\",\"subtype\":\"Figure\",\"type\":\"Plot\"},\"ticker\":{\"id\":\"af89f7a4-7f67-485c-b214-89a4a870ed78\",\"type\":\"BasicTicker\"}},\"id\":\"cb651f0e-ae1d-4fdd-a72e-b8672304d005\",\"type\":\"LinearAxis\"},{\"attributes\":{\"below\":[{\"id\":\"cb651f0e-ae1d-4fdd-a72e-b8672304d005\",\"type\":\"LinearAxis\"}],\"left\":[{\"id\":\"490396ce-26e1-454d-8bd5-f6d4806c8fce\",\"type\":\"LinearAxis\"}],\"plot_width\":800,\"renderers\":[{\"id\":\"cb651f0e-ae1d-4fdd-a72e-b8672304d005\",\"type\":\"LinearAxis\"},{\"id\":\"4d1fe39c-a3eb-4941-97fa-6984d78f2c4d\",\"type\":\"Grid\"},{\"id\":\"490396ce-26e1-454d-8bd5-f6d4806c8fce\",\"type\":\"LinearAxis\"},{\"id\":\"531e015d-aa9b-4fc1-8915-f0d82d30ed14\",\"type\":\"Grid\"},{\"id\":\"21c3dc4f-e689-4c4d-8c3f-256ca37a7219\",\"type\":\"BoxAnnotation\"},{\"id\":\"dc933648-8677-4100-ae58-8aac041d10f3\",\"type\":\"GlyphRenderer\"}],\"title\":{\"id\":\"a51bbf5b-443c-479e-9318-3810ea4ef895\",\"type\":\"Title\"},\"tool_events\":{\"id\":\"aaa3f110-b5fd-42a1-9807-5ad5e82a9f2e\",\"type\":\"ToolEvents\"},\"toolbar\":{\"id\":\"bde6b3a2-1cb5-45da-a648-9ea626c36451\",\"type\":\"Toolbar\"},\"x_range\":{\"id\":\"4ef889c4-602e-420a-93be-f7be0c1dd9f0\",\"type\":\"DataRange1d\"},\"y_range\":{\"id\":\"889642f9-1df8-4e09-ad5c-55480e1f54d3\",\"type\":\"DataRange1d\"}},\"id\":\"8ef6af5f-22d7-427f-aa70-26a8994772b4\",\"subtype\":\"Figure\",\"type\":\"Plot\"},{\"attributes\":{\"plot\":{\"id\":\"8ef6af5f-22d7-427f-aa70-26a8994772b4\",\"subtype\":\"Figure\",\"type\":\"Plot\"}},\"id\":\"76fc1aae-cdad-468a-b242-78f9a3d5c625\",\"type\":\"ResetTool\"},{\"attributes\":{\"overlay\":{\"id\":\"21c3dc4f-e689-4c4d-8c3f-256ca37a7219\",\"type\":\"BoxAnnotation\"},\"plot\":{\"id\":\"8ef6af5f-22d7-427f-aa70-26a8994772b4\",\"subtype\":\"Figure\",\"type\":\"Plot\"}},\"id\":\"ed30d23e-1fd5-4653-a45e-aec812c7115d\",\"type\":\"BoxZoomTool\"},{\"attributes\":{},\"id\":\"aaa3f110-b5fd-42a1-9807-5ad5e82a9f2e\",\"type\":\"ToolEvents\"},{\"attributes\":{\"callback\":null,\"plot\":{\"id\":\"8ef6af5f-22d7-427f-aa70-26a8994772b4\",\"subtype\":\"Figure\",\"type\":\"Plot\"},\"tooltips\":[[\"Senator\",\"@names\"]]},\"id\":\"d975b608-76be-4fee-8f6d-9f5e33f85bf1\",\"type\":\"HoverTool\"},{\"attributes\":{},\"id\":\"66971fd9-970e-468d-8b44-4fc207af92eb\",\"type\":\"BasicTickFormatter\"},{\"attributes\":{\"callback\":null,\"column_names\":[\"names\",\"c2\",\"c1\",\"color\"],\"data\":{\"c1\":{\"__ndarray__\":\"OSJXd1Bvr7+A3GCdwjalv2hF8Y4OIb8/9RO4u+vrub+vTh98xA+5P4XJSYKcWr4/V6EFLCz2uL/QXJSkEa+/P1ZYmV/dfbq/1mA8k8W0uz9aqqRInYO/P7uryq6Elba/chcmRe5fvT8jkerGTxa0v/QJN6ho0r4/m4o5UXOXuD9roqSN7SO7P3ng4hPCqLi/CM6cPKaWuL8P08lpwTO1v7QiT0also2/LFsBXzkHvT/5L+MehX61v1jKSk1w/7e/GK31SCP2u79suv12bwm8v2M7DnyUVLW/Qdzcm7hMub9hs+SIjoSvPyzUbgtZ4r4/IBORu7wjuL/78tiqbgS6v2X7cxdVOLo/+Izrtc3Jur9uJ6UVJue2v3rKbLaPRL8/x1xxmqNotb9esr3aePe/P6Uxy1Yueai/2+sEH0TluL96ik1ayCm1v4q3mZ3Zab4/qwrkW2oKrT/bLrKgsWKxv382MuZTub8/edmHmPLit7/EkGrHBkO7v0fPOXcSZ7i/fQi5do7At79oR4ED/AO6P3R/nyb2Drc/D4MMsyFEob+TpSX7amK8P1UldGXqlrq/KDYMXeJWvz8TgYnF9o22vw5d79TnZqE/FKGXD+m3vz8PbSbEFzm2v5QO1Ty9grQ/sXIIDf24s7+l/0bEx9m9P0k3+qVioL8/NckUJ7V5vT/Y+5MDAjK5v4R5+aiQhay/vbGo+w5Qvj8yqMtnUhy9P6gZ5IuOn7g/7+qFslDBtL9lA7Aotwy6v80szndVtr0/oOw/Dx45sb8i5HV9XoK/P+2OztcmJLs/I0cT8LmIvL8pLZT2y6+5v2Pr7jRAkLa/stlXLHP0s7+pdk+XGZG3P2KY8ljyJ7y/7VXvzcqnvj8v7ub3Vya/P2BregOcmbq/Ggbv3gYuur+fwJzziWS8P0wGv/P0+7m/bXuJEb0bvT9aVXRjHG+3v+XpwfTGbrk/FPqW2/O0uL8lgn7AyuS3v6QC2mnAiLm/5eQs7VoKvz/UjC2DP+i5v4KMKScRoLY/a4Pg/jMfwD+FarLo7FS+P/f94atewbi/zs2/+aw5vT8=\",\"dtype\":\"float64\",\"shape\":[100]},\"c2\":{\"__ndarray__\":\"24MHyhOLwL/Yk+3E/pK9v5CfRU0Dere/sJmOsxOru79gFBEo9k68v+LaDr8dzLm/+pT2CkOPt78ZIyT52Oe0v7QtCadpO7u/qLrto+NCsL+8ZlS9mrW2vwCouIzqBcC/LwQExhfYuL80bpYhhEbAvw5ph7I20re/qj+tLmVRvL/vjyD5Cwm6v0snNA+My7u/uDoa+fJPu7/X8Lw3N1zBv1quVG/gnL6/Lx7Q/jqQub9tzRRlcx+9vw3P9WQQeb2/z/85N1rvtb/4n18yjBu0v+XM/4odrGA/TqzlJnyXuL/3khOWw6+7vxyrqJrt1ra/O3i48AhUu79czVI7mW68v1c9VdUycr+/5jSlQGKVvL+ubXdnmM63v91Bi2k7t7a/sJ+6rJtkvL9rMH7yWJi1v5gl2b08Q7e/IXDmvlZUur+UXad7ljvAv/memcpUxri/9Pn/jFxcvr8V5OKAN2S4v+i1k6o18re/3d03foEHvb90TCKsc7G6v6Fare9d+L2/PGdvOFVKvL8IE4DeLri7vwqLiDnMb7u/8MLkSOquu78PL+ivOSa7vxrWVT6Eo7i/DNHxdCwJtr+RZyG8Zv6lv94VByFva7i/ct3I9jdpsr9yARPPeum7v4s2vRZZObu/S710gbt2wL9LJ8cxKNi0v3fIWW5+uLO/6DItJ713ub+u4LPdLk20v9QfHElwf72/mFn9JNGWub8XrOugBXW5v0yFeRQHc7q/YmRr/y6Jrb/QX04Q/kS7vySlx+ac27q/b6fQ9FIqur+ZnOI7VO64v+0dlH32gri/8gvA/mjatL8dNH+Gjj6+v2SwoRDokMC/xiiEO+87ob/EZM8QggSEvy3or7DHL7G/5SI3YJ3xt7/kuhZ2jXW3v5Zpy0+Xrbm/LRgaizYCt7/w+wXBsHK5v48+GEsJOLW/EDynDnkXu7/6fXSBLx63v7JP+lu3/by/YqwdvCx9vL+mZ2d3jqG/vywC7qQSXrS/DHftwOlHt7+/WdhLPhipv0IzhxxJ076/2e1ZlK37sr8zumehkq+5v3Q8fpQVQ76/7nPg+jWXtb8=\",\"dtype\":\"float64\",\"shape\":[100]},\"color\":[\"red\",\"red\",\"blue\",\"red\",\"blue\",\"blue\",\"red\",\"blue\",\"red\",\"blue\",\"blue\",\"red\",\"blue\",\"red\",\"blue\",\"blue\",\"blue\",\"red\",\"red\",\"red\",\"red\",\"blue\",\"red\",\"red\",\"red\",\"red\",\"red\",\"red\",\"blue\",\"blue\",\"red\",\"red\",\"blue\",\"red\",\"red\",\"blue\",\"red\",\"blue\",\"red\",\"red\",\"red\",\"blue\",\"blue\",\"red\",\"blue\",\"red\",\"red\",\"red\",\"red\",\"blue\",\"green\",\"red\",\"blue\",\"red\",\"blue\",\"red\",\"blue\",\"blue\",\"red\",\"blue\",\"red\",\"blue\",\"blue\",\"blue\",\"red\",\"red\",\"blue\",\"blue\",\"blue\",\"red\",\"red\",\"blue\",\"red\",\"blue\",\"blue\",\"red\",\"red\",\"red\",\"red\",\"green\",\"red\",\"blue\",\"blue\",\"red\",\"red\",\"blue\",\"red\",\"blue\",\"red\",\"blue\",\"red\",\"red\",\"red\",\"blue\",\"red\",\"blue\",\"blue\",\"blue\",\"red\",\"blue\"],\"names\":[\"Alexander (R-TN)\",\"Ayotte (R-NH)\",\"Baldwin (D-WI)\",\"Barrasso (R-WY)\",\"Bennet (D-CO)\",\"Blumenthal (D-CT)\",\"Blunt (R-MO)\",\"Booker (D-NJ)\",\"Boozman (R-AR)\",\"Boxer (D-CA)\",\"Brown (D-OH)\",\"Burr (R-NC)\",\"Cantwell (D-WA)\",\"Capito (R-WV)\",\"Cardin (D-MD)\",\"Carper (D-DE)\",\"Casey (D-PA)\",\"Cassidy (R-LA)\",\"Coats (R-IN)\",\"Cochran (R-MS)\",\"Collins (R-ME)\",\"Coons (D-DE)\",\"Corker (R-TN)\",\"Cornyn (R-TX)\",\"Cotton (R-AR)\",\"Crapo (R-ID)\",\"Cruz (R-TX)\",\"Daines (R-MT)\",\"Donnelly (D-IN)\",\"Durbin (D-IL)\",\"Enzi (R-WY)\",\"Ernst (R-IA)\",\"Feinstein (D-CA)\",\"Fischer (R-NE)\",\"Flake (R-AZ)\",\"Franken (D-MN)\",\"Gardner (R-CO)\",\"Gillibrand (D-NY)\",\"Graham (R-SC)\",\"Grassley (R-IA)\",\"Hatch (R-UT)\",\"Heinrich (D-NM)\",\"Heitkamp (D-ND)\",\"Heller (R-NV)\",\"Hirono (D-HI)\",\"Hoeven (R-ND)\",\"Inhofe (R-OK)\",\"Isakson (R-GA)\",\"Johnson (R-WI)\",\"Kaine (D-VA)\",\"King (I-ME)\",\"Kirk (R-IL)\",\"Klobuchar (D-MN)\",\"Lankford (R-OK)\",\"Leahy (D-VT)\",\"Lee (R-UT)\",\"Manchin (D-WV)\",\"Markey (D-MA)\",\"McCain (R-AZ)\",\"McCaskill (D-MO)\",\"McConnell (R-KY)\",\"Menendez (D-NJ)\",\"Merkley (D-OR)\",\"Mikulski (D-MD)\",\"Moran (R-KS)\",\"Murkowski (R-AK)\",\"Murphy (D-CT)\",\"Murray (D-WA)\",\"Nelson (D-FL)\",\"Paul (R-KY)\",\"Perdue (R-GA)\",\"Peters (D-MI)\",\"Portman (R-OH)\",\"Reed (D-RI)\",\"Reid (D-NV)\",\"Risch (R-ID)\",\"Roberts (R-KS)\",\"Rounds (R-SD)\",\"Rubio (R-FL)\",\"Sanders (I-VT)\",\"Sasse (R-NE)\",\"Schatz (D-HI)\",\"Schumer (D-NY)\",\"Scott (R-SC)\",\"Sessions (R-AL)\",\"Shaheen (D-NH)\",\"Shelby (R-AL)\",\"Stabenow (D-MI)\",\"Sullivan (R-AK)\",\"Tester (D-MT)\",\"Thune (R-SD)\",\"Tillis (R-NC)\",\"Toomey (R-PA)\",\"Udall (D-NM)\",\"Vitter (R-LA)\",\"Warner (D-VA)\",\"Warren (D-MA)\",\"Whitehouse (D-RI)\",\"Wicker (R-MS)\",\"Wyden (D-OR)\"]}},\"id\":\"192f1819-73ef-4bc7-91cb-6cc9996ba416\",\"type\":\"ColumnDataSource\"},{\"attributes\":{\"active_drag\":\"auto\",\"active_scroll\":\"auto\",\"active_tap\":\"auto\",\"tools\":[{\"id\":\"d975b608-76be-4fee-8f6d-9f5e33f85bf1\",\"type\":\"HoverTool\"},{\"id\":\"ab87a4cc-c0c2-46d1-8096-a553cb67a68e\",\"type\":\"SaveTool\"},{\"id\":\"ed30d23e-1fd5-4653-a45e-aec812c7115d\",\"type\":\"BoxZoomTool\"},{\"id\":\"76fc1aae-cdad-468a-b242-78f9a3d5c625\",\"type\":\"ResetTool\"}]},\"id\":\"bde6b3a2-1cb5-45da-a648-9ea626c36451\",\"type\":\"Toolbar\"},{\"attributes\":{\"formatter\":{\"id\":\"19fe7b64-4b2e-46a8-9836-375b2c03d7dc\",\"type\":\"BasicTickFormatter\"},\"plot\":{\"id\":\"8ef6af5f-22d7-427f-aa70-26a8994772b4\",\"subtype\":\"Figure\",\"type\":\"Plot\"},\"ticker\":{\"id\":\"daa5c4b4-8d00-4f14-89bf-0636baea1ef9\",\"type\":\"BasicTicker\"}},\"id\":\"490396ce-26e1-454d-8bd5-f6d4806c8fce\",\"type\":\"LinearAxis\"},{\"attributes\":{\"plot\":{\"id\":\"8ef6af5f-22d7-427f-aa70-26a8994772b4\",\"subtype\":\"Figure\",\"type\":\"Plot\"},\"ticker\":{\"id\":\"af89f7a4-7f67-485c-b214-89a4a870ed78\",\"type\":\"BasicTicker\"}},\"id\":\"4d1fe39c-a3eb-4941-97fa-6984d78f2c4d\",\"type\":\"Grid\"},{\"attributes\":{\"data_source\":{\"id\":\"192f1819-73ef-4bc7-91cb-6cc9996ba416\",\"type\":\"ColumnDataSource\"},\"glyph\":{\"id\":\"ae21f1b7-cb32-4ce5-a553-de4a89caf52d\",\"type\":\"Circle\"},\"hover_glyph\":null,\"nonselection_glyph\":{\"id\":\"2475599e-634d-492b-a6a9-80933a42f9a2\",\"type\":\"Circle\"},\"selection_glyph\":null},\"id\":\"dc933648-8677-4100-ae58-8aac041d10f3\",\"type\":\"GlyphRenderer\"},{\"attributes\":{\"fill_color\":{\"field\":\"color\"},\"line_color\":{\"field\":\"color\"},\"size\":{\"units\":\"screen\",\"value\":13},\"x\":{\"field\":\"c1\"},\"y\":{\"field\":\"c2\"}},\"id\":\"ae21f1b7-cb32-4ce5-a553-de4a89caf52d\",\"type\":\"Circle\"},{\"attributes\":{\"callback\":null},\"id\":\"4ef889c4-602e-420a-93be-f7be0c1dd9f0\",\"type\":\"DataRange1d\"},{\"attributes\":{\"callback\":null},\"id\":\"889642f9-1df8-4e09-ad5c-55480e1f54d3\",\"type\":\"DataRange1d\"},{\"attributes\":{},\"id\":\"daa5c4b4-8d00-4f14-89bf-0636baea1ef9\",\"type\":\"BasicTicker\"},{\"attributes\":{},\"id\":\"19fe7b64-4b2e-46a8-9836-375b2c03d7dc\",\"type\":\"BasicTickFormatter\"},{\"attributes\":{\"plot\":{\"id\":\"8ef6af5f-22d7-427f-aa70-26a8994772b4\",\"subtype\":\"Figure\",\"type\":\"Plot\"}},\"id\":\"ab87a4cc-c0c2-46d1-8096-a553cb67a68e\",\"type\":\"SaveTool\"},{\"attributes\":{\"bottom_units\":\"screen\",\"fill_alpha\":{\"value\":0.5},\"fill_color\":{\"value\":\"lightgrey\"},\"left_units\":\"screen\",\"level\":\"overlay\",\"line_alpha\":{\"value\":1.0},\"line_color\":{\"value\":\"black\"},\"line_dash\":[4,4],\"line_width\":{\"value\":2},\"plot\":null,\"render_mode\":\"css\",\"right_units\":\"screen\",\"top_units\":\"screen\"},\"id\":\"21c3dc4f-e689-4c4d-8c3f-256ca37a7219\",\"type\":\"BoxAnnotation\"},{\"attributes\":{\"plot\":null,\"text\":\"A House Divided\"},\"id\":\"a51bbf5b-443c-479e-9318-3810ea4ef895\",\"type\":\"Title\"},{\"attributes\":{},\"id\":\"af89f7a4-7f67-485c-b214-89a4a870ed78\",\"type\":\"BasicTicker\"},{\"attributes\":{\"dimension\":1,\"plot\":{\"id\":\"8ef6af5f-22d7-427f-aa70-26a8994772b4\",\"subtype\":\"Figure\",\"type\":\"Plot\"},\"ticker\":{\"id\":\"daa5c4b4-8d00-4f14-89bf-0636baea1ef9\",\"type\":\"BasicTicker\"}},\"id\":\"531e015d-aa9b-4fc1-8915-f0d82d30ed14\",\"type\":\"Grid\"}],\"root_ids\":[\"8ef6af5f-22d7-427f-aa70-26a8994772b4\"]},\"title\":\"Bokeh Application\",\"version\":\"0.12.4\"}};\n",
       "            var render_items = [{\"docid\":\"fd06d18e-dcb3-4019-8041-f4451047d0b0\",\"elementid\":\"e360f62e-8619-4186-ac37-8d6f6fdfa2e8\",\"modelid\":\"8ef6af5f-22d7-427f-aa70-26a8994772b4\"}];\n",
       "            \n",
       "            Bokeh.embed.embed_items(docs_json, render_items);\n",
       "          };\n",
       "          if (document.readyState != \"loading\") fn();\n",
       "          else document.addEventListener(\"DOMContentLoaded\", fn);\n",
       "        })();\n",
       "      },\n",
       "      function(Bokeh) {\n",
       "      }\n",
       "    ];\n",
       "  \n",
       "    function run_inline_js() {\n",
       "      \n",
       "      if ((window.Bokeh !== undefined) || (force === true)) {\n",
       "        for (var i = 0; i < inline_js.length; i++) {\n",
       "          inline_js[i](window.Bokeh);\n",
       "        }if (force === true) {\n",
       "          display_loaded();\n",
       "        }} else if (Date.now() < window._bokeh_timeout) {\n",
       "        setTimeout(run_inline_js, 100);\n",
       "      } else if (!window._bokeh_failed_load) {\n",
       "        console.log(\"Bokeh: BokehJS failed to load within specified timeout.\");\n",
       "        window._bokeh_failed_load = true;\n",
       "      } else if (force !== true) {\n",
       "        var cell = $(document.getElementById(\"e360f62e-8619-4186-ac37-8d6f6fdfa2e8\")).parents('.cell').data().cell;\n",
       "        cell.output_area.append_execute_result(NB_LOAD_WARNING)\n",
       "      }\n",
       "  \n",
       "    }\n",
       "  \n",
       "    if (window._bokeh_is_loading === 0) {\n",
       "      console.log(\"Bokeh: BokehJS loaded, going straight to plotting\");\n",
       "      run_inline_js();\n",
       "    } else {\n",
       "      load_libs(js_urls, function() {\n",
       "        console.log(\"Bokeh: BokehJS plotting callback run at\", now());\n",
       "        run_inline_js();\n",
       "      });\n",
       "    }\n",
       "  }(this));\n",
       "</script>"
      ]
     },
     "metadata": {},
     "output_type": "display_data"
    }
   ],
   "source": [
    "# color by cluster\n",
    "colors = cp.values\n",
    "#make source data\n",
    "source = ColumnDataSource(data=dict(\n",
    "    c1 = c1,\n",
    "    c2=c2,\n",
    "    color=colors,\n",
    "    names = names\n",
    "))\n",
    "\n",
    "\n",
    "p2 = figure(plot_width=800, plot_height=600, title=\"A House Divided\", tools = 'hover, save, box_zoom,reset')\n",
    "p2.circle('c1', 'c2', color='color', source=source, size=13)\n",
    "\n",
    "p2.select_one(HoverTool).tooltips = [\n",
    "    ('Senator', '@names')]\n",
    "\n",
    "output_file('senate_divided_2.html')\n",
    "\n",
    "show(p2)"
   ]
  },
  {
   "cell_type": "code",
   "execution_count": null,
   "metadata": {
    "collapsed": true
   },
   "outputs": [],
   "source": []
  }
 ],
 "metadata": {
  "anaconda-cloud": {},
  "kernelspec": {
   "display_name": "Python 3",
   "language": "python",
   "name": "python3"
  },
  "language_info": {
   "codemirror_mode": {
    "name": "ipython",
    "version": 3
   },
   "file_extension": ".py",
   "mimetype": "text/x-python",
   "name": "python",
   "nbconvert_exporter": "python",
   "pygments_lexer": "ipython3",
   "version": "3.6.0"
  }
 },
 "nbformat": 4,
 "nbformat_minor": 1
}
