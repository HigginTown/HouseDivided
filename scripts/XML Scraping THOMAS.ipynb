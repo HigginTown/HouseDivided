{
 "cells": [
  {
   "cell_type": "markdown",
   "metadata": {
    "collapsed": true
   },
   "source": [
    "## XML Web Scraping Roll Call Data"
   ]
  },
  {
   "cell_type": "code",
   "execution_count": 471,
   "metadata": {
    "collapsed": true
   },
   "outputs": [],
   "source": [
    "#import libs\n",
    "import urllib\n",
    "import xml.etree.ElementTree as ET\n",
    "import re\n",
    "import pandas as pd\n",
    "import numpy as np\n",
    "from sklearn.externals import joblib\n",
    "from time import sleep"
   ]
  },
  {
   "cell_type": "code",
   "execution_count": 272,
   "metadata": {
    "collapsed": false
   },
   "outputs": [],
   "source": [
    "#test\n",
    "#request\n",
    "url = \"https://www.senate.gov/legislative/LIS/roll_call_votes/vote1142/vote_114_2_00081.xml\"\n",
    "req = urllib.request.Request(url)\n",
    "with urllib.request.urlopen(req) as response:\n",
    "    the_page = response.read()"
   ]
  },
  {
   "cell_type": "code",
   "execution_count": 457,
   "metadata": {
    "collapsed": false
   },
   "outputs": [],
   "source": [
    "#begin parse with root\n",
    "root = ET.fromstring(the_page)"
   ]
  },
  {
   "cell_type": "code",
   "execution_count": 454,
   "metadata": {
    "collapsed": false
   },
   "outputs": [
    {
     "name": "stdout",
     "output_type": "stream",
     "text": [
      "congress : 114\n",
      "session : 2\n",
      "congress_year : 2016\n",
      "vote_number : 163\n",
      "vote_date : December 10, 2016,  12:57 AM\n",
      "modify_date : December 10, 2016,  01:26 AM\n",
      "vote_question_text : On the Motion (Motion to Concur in the House Amendment to S. 612)\n",
      "vote_document_text : A bill to designate the Federal building and United States courthouse located at 1300 Victoria Street in Laredo, Texas, as the \"George P. Kazen Federal Building and United States Courthouse\".\n",
      "vote_result_text : Motion Agreed to (78-21)\n",
      "question : On the Motion\n",
      "vote_title : Motion to Concur in the House Amendment to S. 612\n",
      "majority_requirement : 1/2\n",
      "vote_result : Motion Agreed to\n",
      "document : \n",
      "    \n",
      "amendment : \n",
      "    \n",
      "count : \n",
      "    \n",
      "tie_breaker : \n",
      "    \n",
      "members : \n",
      "    \n"
     ]
    }
   ],
   "source": [
    "#checkout children\n",
    "for child in root:\n",
    "    print(child.tag, \":\", child.text)"
   ]
  },
  {
   "cell_type": "code",
   "execution_count": 463,
   "metadata": {
    "collapsed": false
   },
   "outputs": [],
   "source": [
    "#bill_info\n",
    "info={}\n",
    "for key, value in master_roots_1.items():\n",
    "    bill_info={}\n",
    "    for child in value:\n",
    "        bill_info[child.tag] = child.text\n",
    "    info[key] = bill_info   \n",
    "    "
   ]
  },
  {
   "cell_type": "code",
   "execution_count": 468,
   "metadata": {
    "collapsed": false
   },
   "outputs": [],
   "source": [
    "info_2 = {}\n",
    "for key, value in master_roots_2.items():\n",
    "    bill_info={}\n",
    "    for child in value:\n",
    "        bill_info[child.tag] = child.text\n",
    "    info_2[str(int(key)+339)] = bill_info "
   ]
  },
  {
   "cell_type": "code",
   "execution_count": 183,
   "metadata": {
    "collapsed": true
   },
   "outputs": [],
   "source": [
    "#parse members\n",
    "member_names = []\n",
    "parties = []\n",
    "states = []\n",
    "votes = []\n",
    "ids = []\n",
    "for element in root[-1]:\n",
    "    member_names.append(element[1].text + ' '+ element[2].text)\n",
    "    parties.append(element[3].text)\n",
    "    states.append(element[4].text)\n",
    "    votes.append(element[5].text)\n",
    "    ids.append(element[6].text)"
   ]
  },
  {
   "cell_type": "code",
   "execution_count": 184,
   "metadata": {
    "collapsed": true
   },
   "outputs": [],
   "source": [
    "member_data = pd.DataFrame.from_dict({'member': member_names, 'party': parties, 'state': states, 'vote': votes, 'idx': ids})"
   ]
  },
  {
   "cell_type": "code",
   "execution_count": 185,
   "metadata": {
    "collapsed": false
   },
   "outputs": [
    {
     "data": {
      "text/html": [
       "<div>\n",
       "<table border=\"1\" class=\"dataframe\">\n",
       "  <thead>\n",
       "    <tr style=\"text-align: right;\">\n",
       "      <th></th>\n",
       "      <th>0</th>\n",
       "      <th>1</th>\n",
       "      <th>2</th>\n",
       "      <th>3</th>\n",
       "      <th>4</th>\n",
       "      <th>5</th>\n",
       "      <th>6</th>\n",
       "      <th>7</th>\n",
       "      <th>8</th>\n",
       "      <th>9</th>\n",
       "      <th>...</th>\n",
       "      <th>90</th>\n",
       "      <th>91</th>\n",
       "      <th>92</th>\n",
       "      <th>93</th>\n",
       "      <th>94</th>\n",
       "      <th>95</th>\n",
       "      <th>96</th>\n",
       "      <th>97</th>\n",
       "      <th>98</th>\n",
       "      <th>99</th>\n",
       "    </tr>\n",
       "  </thead>\n",
       "  <tbody>\n",
       "    <tr>\n",
       "      <th>idx</th>\n",
       "      <td>S289</td>\n",
       "      <td>S340</td>\n",
       "      <td>S354</td>\n",
       "      <td>S317</td>\n",
       "      <td>S330</td>\n",
       "      <td>S341</td>\n",
       "      <td>S342</td>\n",
       "      <td>S370</td>\n",
       "      <td>S343</td>\n",
       "      <td>S223</td>\n",
       "      <td>...</td>\n",
       "      <td>S303</td>\n",
       "      <td>S384</td>\n",
       "      <td>S351</td>\n",
       "      <td>S326</td>\n",
       "      <td>S299</td>\n",
       "      <td>S327</td>\n",
       "      <td>S366</td>\n",
       "      <td>S316</td>\n",
       "      <td>S318</td>\n",
       "      <td>S247</td>\n",
       "    </tr>\n",
       "    <tr>\n",
       "      <th>member</th>\n",
       "      <td>Alexander Lamar</td>\n",
       "      <td>Ayotte Kelly</td>\n",
       "      <td>Baldwin Tammy</td>\n",
       "      <td>Barrasso John</td>\n",
       "      <td>Bennet Michael</td>\n",
       "      <td>Blumenthal Richard</td>\n",
       "      <td>Blunt Roy</td>\n",
       "      <td>Booker Cory</td>\n",
       "      <td>Boozman John</td>\n",
       "      <td>Boxer Barbara</td>\n",
       "      <td>...</td>\n",
       "      <td>Thune John</td>\n",
       "      <td>Tillis Thomas</td>\n",
       "      <td>Toomey Pat</td>\n",
       "      <td>Udall Tom</td>\n",
       "      <td>Vitter David</td>\n",
       "      <td>Warner Mark</td>\n",
       "      <td>Warren Elizabeth</td>\n",
       "      <td>Whitehouse Sheldon</td>\n",
       "      <td>Wicker Roger</td>\n",
       "      <td>Wyden Ron</td>\n",
       "    </tr>\n",
       "    <tr>\n",
       "      <th>party</th>\n",
       "      <td>R</td>\n",
       "      <td>R</td>\n",
       "      <td>D</td>\n",
       "      <td>R</td>\n",
       "      <td>D</td>\n",
       "      <td>D</td>\n",
       "      <td>R</td>\n",
       "      <td>D</td>\n",
       "      <td>R</td>\n",
       "      <td>D</td>\n",
       "      <td>...</td>\n",
       "      <td>R</td>\n",
       "      <td>R</td>\n",
       "      <td>R</td>\n",
       "      <td>D</td>\n",
       "      <td>R</td>\n",
       "      <td>D</td>\n",
       "      <td>D</td>\n",
       "      <td>D</td>\n",
       "      <td>R</td>\n",
       "      <td>D</td>\n",
       "    </tr>\n",
       "    <tr>\n",
       "      <th>state</th>\n",
       "      <td>TN</td>\n",
       "      <td>NH</td>\n",
       "      <td>WI</td>\n",
       "      <td>WY</td>\n",
       "      <td>CO</td>\n",
       "      <td>CT</td>\n",
       "      <td>MO</td>\n",
       "      <td>NJ</td>\n",
       "      <td>AR</td>\n",
       "      <td>CA</td>\n",
       "      <td>...</td>\n",
       "      <td>SD</td>\n",
       "      <td>NC</td>\n",
       "      <td>PA</td>\n",
       "      <td>NM</td>\n",
       "      <td>LA</td>\n",
       "      <td>VA</td>\n",
       "      <td>MA</td>\n",
       "      <td>RI</td>\n",
       "      <td>MS</td>\n",
       "      <td>OR</td>\n",
       "    </tr>\n",
       "    <tr>\n",
       "      <th>vote</th>\n",
       "      <td>Nay</td>\n",
       "      <td>Nay</td>\n",
       "      <td>Yea</td>\n",
       "      <td>Nay</td>\n",
       "      <td>Nay</td>\n",
       "      <td>Yea</td>\n",
       "      <td>Nay</td>\n",
       "      <td>Yea</td>\n",
       "      <td>Nay</td>\n",
       "      <td>Not Voting</td>\n",
       "      <td>...</td>\n",
       "      <td>Nay</td>\n",
       "      <td>Nay</td>\n",
       "      <td>Nay</td>\n",
       "      <td>Yea</td>\n",
       "      <td>Nay</td>\n",
       "      <td>Yea</td>\n",
       "      <td>Yea</td>\n",
       "      <td>Yea</td>\n",
       "      <td>Nay</td>\n",
       "      <td>Yea</td>\n",
       "    </tr>\n",
       "  </tbody>\n",
       "</table>\n",
       "<p>5 rows × 100 columns</p>\n",
       "</div>"
      ],
      "text/plain": [
       "                     0             1              2              3   \\\n",
       "idx                S289          S340           S354           S317   \n",
       "member  Alexander Lamar  Ayotte Kelly  Baldwin Tammy  Barrasso John   \n",
       "party                 R             R              D              R   \n",
       "state                TN            NH             WI             WY   \n",
       "vote                Nay           Nay            Yea            Nay   \n",
       "\n",
       "                    4                   5          6            7   \\\n",
       "idx               S330                S341       S342         S370   \n",
       "member  Bennet Michael  Blumenthal Richard  Blunt Roy  Booker Cory   \n",
       "party                D                   D          R            D   \n",
       "state               CO                  CT         MO           NJ   \n",
       "vote               Nay                 Yea        Nay          Yea   \n",
       "\n",
       "                  8              9     ...              90             91  \\\n",
       "idx             S343           S223    ...            S303           S384   \n",
       "member  Boozman John  Boxer Barbara    ...      Thune John  Tillis Thomas   \n",
       "party              R              D    ...               R              R   \n",
       "state             AR             CA    ...              SD             NC   \n",
       "vote             Nay     Not Voting    ...             Nay            Nay   \n",
       "\n",
       "                92         93            94           95                96  \\\n",
       "idx           S351       S326          S299         S327              S366   \n",
       "member  Toomey Pat  Udall Tom  Vitter David  Warner Mark  Warren Elizabeth   \n",
       "party            R          D             R            D                 D   \n",
       "state           PA         NM            LA           VA                MA   \n",
       "vote           Nay        Yea           Nay          Yea               Yea   \n",
       "\n",
       "                        97            98         99  \n",
       "idx                   S316          S318       S247  \n",
       "member  Whitehouse Sheldon  Wicker Roger  Wyden Ron  \n",
       "party                    D             R          D  \n",
       "state                   RI            MS         OR  \n",
       "vote                   Yea           Nay        Yea  \n",
       "\n",
       "[5 rows x 100 columns]"
      ]
     },
     "execution_count": 185,
     "metadata": {},
     "output_type": "execute_result"
    }
   ],
   "source": [
    "member_data.T"
   ]
  },
  {
   "cell_type": "code",
   "execution_count": 189,
   "metadata": {
    "collapsed": true
   },
   "outputs": [],
   "source": [
    "def get_votes(root):\n",
    "    votes = []\n",
    "    for element in root[-1]:\n",
    "        votes.append(element[5].text)\n",
    "    return votes\n",
    "def get_member_id(root):\n",
    "    ids = []\n",
    "    for element in root[-1]:\n",
    "        ids.append(element[6].text)\n",
    "    "
   ]
  },
  {
   "cell_type": "code",
   "execution_count": 196,
   "metadata": {
    "collapsed": false
   },
   "outputs": [],
   "source": [
    "def padded(num):\n",
    "    l = len(str(num))\n",
    "    zeros = \"0\"*(5-l)\n",
    "    new = zeros+str(num)\n",
    "    return new"
   ]
  },
  {
   "cell_type": "code",
   "execution_count": null,
   "metadata": {
    "collapsed": false
   },
   "outputs": [],
   "source": [
    "#create master dict of roots for each bill"
   ]
  },
  {
   "cell_type": "code",
   "execution_count": 205,
   "metadata": {
    "collapsed": false
   },
   "outputs": [],
   "source": [
    "#repeat the above process, but create a master dict of all roots\n",
    "# this is a test, full script below\n",
    "master_roots = {}\n",
    "for i in range(1,3):\n",
    "    n= padded(i)\n",
    "    url = \"https://www.senate.gov/legislative/LIS/roll_call_votes/vote1141/vote_114_1_\"+ n + \".xml\"\n",
    "    req = urllib.request.Request(url)\n",
    "    with urllib.request.urlopen(req) as response:\n",
    "        the_page = response.read()\n",
    "    root = ET.fromstring(the_page)\n",
    "    master_roots[n] = root"
   ]
  },
  {
   "cell_type": "code",
   "execution_count": 206,
   "metadata": {
    "collapsed": false
   },
   "outputs": [
    {
     "data": {
      "text/plain": [
       "{'00001': <Element 'roll_call_vote' at 0x000001F541D0F7C8>,\n",
       " '00002': <Element 'roll_call_vote' at 0x000001F541D49548>}"
      ]
     },
     "execution_count": 206,
     "metadata": {},
     "output_type": "execute_result"
    }
   ],
   "source": [
    "#it works\n",
    "master_roots"
   ]
  },
  {
   "cell_type": "code",
   "execution_count": 230,
   "metadata": {
    "collapsed": false
   },
   "outputs": [],
   "source": [
    "#it works\n",
    "for i in range(1,164):\n",
    "    n = padded(i)\n",
    "    #print (master_roots[n][-1][0][0].text)"
   ]
  },
  {
   "cell_type": "markdown",
   "metadata": {},
   "source": [
    "### Create a dict of all the roll call votes"
   ]
  },
  {
   "cell_type": "code",
   "execution_count": 301,
   "metadata": {
    "collapsed": true
   },
   "outputs": [],
   "source": [
    "#session 1\n",
    "master_roots_1 = {}\n",
    "for i in range(1,340):\n",
    "    n= padded(i)\n",
    "    url = \"https://www.senate.gov/legislative/LIS/roll_call_votes/vote1141/vote_114_1_\"+ n + \".xml\"\n",
    "    req = urllib.request.Request(url)\n",
    "    with urllib.request.urlopen(req) as response:\n",
    "        the_page = response.read()\n",
    "    root = ET.fromstring(the_page)\n",
    "    master_roots_1[n] = root"
   ]
  },
  {
   "cell_type": "code",
   "execution_count": 519,
   "metadata": {
    "collapsed": false
   },
   "outputs": [],
   "source": [
    "#session 2\n",
    "master_roots_2 = {}\n",
    "for i in range(1,164):\n",
    "    try:\n",
    "        n= padded(i)\n",
    "        url = \"https://www.senate.gov/legislative/LIS/roll_call_votes/vote1142/vote_114_2_\"+ n + \".xml\"\n",
    "        req = urllib.request.Request(url)\n",
    "        with urllib.request.urlopen(req) as response:\n",
    "            the_page = response.read()\n",
    "        root = ET.fromstring(the_page)\n",
    "        master_roots_2[n] = root\n",
    "        sleep(2)\n",
    "    except:\n",
    "        continue"
   ]
  },
  {
   "cell_type": "code",
   "execution_count": 404,
   "metadata": {
    "collapsed": false
   },
   "outputs": [],
   "source": [
    "# make a list of the senators\n",
    "senators = []\n",
    "for i in range(100):\n",
    "    senator = master_roots['00001'][-1][i][0].text\n",
    "    senators.append(senator)"
   ]
  },
  {
   "cell_type": "markdown",
   "metadata": {},
   "source": [
    "### Create votes table"
   ]
  },
  {
   "cell_type": "code",
   "execution_count": 406,
   "metadata": {
    "collapsed": false
   },
   "outputs": [],
   "source": [
    "# make a dict of all the votes for each bill\n",
    "# first session\n",
    "votes_dict_1 = {}\n",
    "for key, value in master_roots_1.items():\n",
    "    votes_dict_1[key] = get_votes(value)\n",
    "    \n",
    "#second session    \n",
    "votes_dict_2 = {}\n",
    "for key, value in master_roots_2.items():\n",
    "    votes_dict_2[str(int(key)+339)] = get_votes(value)"
   ]
  },
  {
   "cell_type": "code",
   "execution_count": 408,
   "metadata": {
    "collapsed": false
   },
   "outputs": [],
   "source": [
    "#make the df\n",
    "bills_df = pd.DataFrame.from_dict(votes_dict_1).join(pd.DataFrame.from_dict(votes_dict_2)).T\n",
    "bills_df.columns = senators\n",
    "bills_df.index.name = 'vote_number'\n",
    "print (bills_df.shape)"
   ]
  },
  {
   "cell_type": "markdown",
   "metadata": {},
   "source": [
    "#### Get outcomes"
   ]
  },
  {
   "cell_type": "code",
   "execution_count": 413,
   "metadata": {
    "collapsed": true
   },
   "outputs": [],
   "source": [
    "def get_outcome(root):\n",
    "    return root[-6].text"
   ]
  },
  {
   "cell_type": "code",
   "execution_count": 495,
   "metadata": {
    "collapsed": true
   },
   "outputs": [],
   "source": [
    "#make a dict of all outcomes\n",
    "outcomes_dict_1 = {}\n",
    "for key, value in master_roots_1.items():\n",
    "    outcomes_dict_1[key] = get_outcome(value)\n",
    "outcomes_dict_2 = {}\n",
    "for key, value in master_roots_2.items():\n",
    "    outcomes_dict_2[str(int(key)+339)] = get_outcome(value)"
   ]
  },
  {
   "cell_type": "code",
   "execution_count": 496,
   "metadata": {
    "collapsed": false
   },
   "outputs": [],
   "source": [
    "#combine the dicts\n",
    "for key, value in outcomes_dict_2.items():\n",
    "    outcomes_dict_1[key] = value"
   ]
  },
  {
   "cell_type": "code",
   "execution_count": 611,
   "metadata": {
    "collapsed": false
   },
   "outputs": [],
   "source": [
    "#turn it into a series\n",
    "outcomes = pd.Series(outcomes_dict_1)\n",
    "outcomes.name = 'outcome'"
   ]
  },
  {
   "cell_type": "code",
   "execution_count": 613,
   "metadata": {
    "collapsed": false
   },
   "outputs": [],
   "source": [
    "#join the frames\n",
    "votes = bills_df.join(outcomes)\n",
    "new_index = [str(int(x)) for x in votes.index.values]\n",
    "votes.index = new_index"
   ]
  },
  {
   "cell_type": "code",
   "execution_count": 620,
   "metadata": {
    "collapsed": true
   },
   "outputs": [],
   "source": [
    "#save\n",
    "votes.to_csv('votes.csv')"
   ]
  },
  {
   "cell_type": "code",
   "execution_count": 624,
   "metadata": {
    "collapsed": false
   },
   "outputs": [],
   "source": [
    "#do some replacements\n",
    "df = votes.replace({'Nay': 0, 'Yea': 1, 'Not Voting': 0, 'Present': 1})"
   ]
  },
  {
   "cell_type": "code",
   "execution_count": 627,
   "metadata": {
    "collapsed": true
   },
   "outputs": [],
   "source": [
    "#make a replacements dicts\n",
    "outcome_replacements = {'Amendment Rejected': 0,\n",
    " 'Bill Passed': 1,\n",
    " 'Cloture on the Motion to Proceed Agreed to': 1,\n",
    " 'Motion to Table Agreed to': 1,\n",
    " 'Amendment Agreed to': 1,\n",
    " 'Motion for Attendance Agreed to': 1,\n",
    " 'Cloture Motion Rejected': 0,\n",
    " 'Cloture Motion Agreed to': 1,\n",
    " 'Cloture on the Motion to Proceed Rejected': 0,\n",
    " 'Nomination Confirmed': 1,\n",
    " 'Motion to Table Failed': 0,\n",
    " 'Motion to Proceed Agreed to': 1,\n",
    " 'Joint Resolution Passed': 1,\n",
    " 'Veto Sustained': 0,\n",
    " 'Motion Rejected': 0,\n",
    " 'Concurrent Resolution Agreed to': 1,\n",
    " 'Motion Agreed to': 1,\n",
    " 'Conference Report Agreed to': 1,\n",
    " 'Resolution Agreed to': 1,\n",
    " 'Veto Overridden': 1}\n",
    "\n",
    "df = df.replace(outcome_replacements)"
   ]
  },
  {
   "cell_type": "code",
   "execution_count": 632,
   "metadata": {
    "collapsed": true
   },
   "outputs": [],
   "source": [
    "#save clean\n",
    "df.to_csv('cleaned_votes.csv')"
   ]
  },
  {
   "cell_type": "markdown",
   "metadata": {
    "collapsed": true
   },
   "source": [
    "#### Bill info"
   ]
  },
  {
   "cell_type": "code",
   "execution_count": 637,
   "metadata": {
    "collapsed": true
   },
   "outputs": [],
   "source": [
    "#get the bills data\n",
    "url = \"https://www.senate.gov/legislative/LIS/roll_call_lists/vote_menu_114_2.xml\"\n",
    "req = urllib.request.Request(url)\n",
    "with urllib.request.urlopen(req) as response:\n",
    "    the_page = response.read()\n",
    "root1 = ET.fromstring(the_page)"
   ]
  },
  {
   "cell_type": "code",
   "execution_count": 560,
   "metadata": {
    "collapsed": false
   },
   "outputs": [],
   "source": [
    "url = \"https://www.senate.gov/legislative/LIS/roll_call_lists/vote_menu_114_1.xml\"\n",
    "req = urllib.request.Request(url)\n",
    "with urllib.request.urlopen(req) as response:\n",
    "    the_page = response.read()\n",
    "root2 = ET.fromstring(the_page)"
   ]
  },
  {
   "cell_type": "code",
   "execution_count": 566,
   "metadata": {
    "collapsed": false
   },
   "outputs": [
    {
     "name": "stdout",
     "output_type": "stream",
     "text": [
      "congress : 114\n",
      "session : 2\n",
      "congress_year : 2016\n",
      "votes : \n",
      "    \n"
     ]
    }
   ],
   "source": [
    "for child in root1:\n",
    "    print(child.tag, \":\", child.text)"
   ]
  },
  {
   "cell_type": "code",
   "execution_count": 588,
   "metadata": {
    "collapsed": false
   },
   "outputs": [],
   "source": [
    "bills = {}\n",
    "for vote in root1[-1]:\n",
    "    pieces = {}\n",
    "    bills[vote[0].text] = pieces\n",
    "    for element in vote:\n",
    "        pieces[element.tag] = element.text\n",
    "    pieces['yea'] = (vote[-2][0].text)\n",
    "    pieces['nay'] = (vote[-2][1].text)\n",
    "        \n",
    "\n",
    "\n",
    "bills2 = {}\n",
    "for vote in root2[-1]:\n",
    "    pieces = {}\n",
    "    bills2[vote[0].text] = pieces\n",
    "    for element in vote:\n",
    "        pieces[element.tag] = element.text\n",
    "    pieces['yea'] = (vote[-2][0].text)\n",
    "    pieces['nay'] = (vote[-2][1].text)\n",
    "        "
   ]
  },
  {
   "cell_type": "code",
   "execution_count": 591,
   "metadata": {
    "collapsed": false
   },
   "outputs": [],
   "source": [
    "bills_114_2 = pd.DataFrame(bills).T.drop('vote_tally', axis=1)\n",
    "bills_114_1 = pd.DataFrame(bills2).T.drop('vote_tally', axis=1)"
   ]
  },
  {
   "cell_type": "code",
   "execution_count": 638,
   "metadata": {
    "collapsed": false
   },
   "outputs": [
    {
     "data": {
      "text/html": [
       "<div>\n",
       "<table border=\"1\" class=\"dataframe\">\n",
       "  <thead>\n",
       "    <tr style=\"text-align: right;\">\n",
       "      <th></th>\n",
       "      <th>issue</th>\n",
       "      <th>nay</th>\n",
       "      <th>question</th>\n",
       "      <th>result</th>\n",
       "      <th>title</th>\n",
       "      <th>vote_date</th>\n",
       "      <th>vote_number</th>\n",
       "      <th>yea</th>\n",
       "    </tr>\n",
       "  </thead>\n",
       "  <tbody>\n",
       "    <tr>\n",
       "      <th>00254</th>\n",
       "      <td>H.R. 22</td>\n",
       "      <td>26</td>\n",
       "      <td>On the Cloture Motion</td>\n",
       "      <td>Agreed to</td>\n",
       "      <td>Motion to Invoke Cloture on Kirk Amdt. No. 232...</td>\n",
       "      <td>26-Jul</td>\n",
       "      <td>00254</td>\n",
       "      <td>67</td>\n",
       "    </tr>\n",
       "    <tr>\n",
       "      <th>00025</th>\n",
       "      <td>S. 1</td>\n",
       "      <td>38</td>\n",
       "      <td>On the Motion to Table</td>\n",
       "      <td>Agreed to</td>\n",
       "      <td>Motion to Table Carper Amdt. No. 121; To impos...</td>\n",
       "      <td>22-Jan</td>\n",
       "      <td>00025</td>\n",
       "      <td>57</td>\n",
       "    </tr>\n",
       "    <tr>\n",
       "      <th>00153</th>\n",
       "      <td>S.Con.Res. 11</td>\n",
       "      <td>52</td>\n",
       "      <td>On the Motion</td>\n",
       "      <td>Rejected</td>\n",
       "      <td>Stabenow Motion to Instruct (Medicare Cuts) Re...</td>\n",
       "      <td>15-Apr</td>\n",
       "      <td>00153</td>\n",
       "      <td>45</td>\n",
       "    </tr>\n",
       "    <tr>\n",
       "      <th>00081</th>\n",
       "      <td>S.Con.Res. 11</td>\n",
       "      <td>43</td>\n",
       "      <td>On the Amendment</td>\n",
       "      <td>Agreed to</td>\n",
       "      <td>Fischer Amdt. No. 409; To establish a deficit-...</td>\n",
       "      <td>24-Mar</td>\n",
       "      <td>00081</td>\n",
       "      <td>56</td>\n",
       "    </tr>\n",
       "    <tr>\n",
       "      <th>00168</th>\n",
       "      <td>H.R. 1191</td>\n",
       "      <td>54</td>\n",
       "      <td>On the Amendment</td>\n",
       "      <td>Rejected</td>\n",
       "      <td>Barrasso Amdt. No. 1147; To require a certific...</td>\n",
       "      <td>29-Apr</td>\n",
       "      <td>00168</td>\n",
       "      <td>45</td>\n",
       "    </tr>\n",
       "    <tr>\n",
       "      <th>00215</th>\n",
       "      <td>H.R. 1735</td>\n",
       "      <td>25</td>\n",
       "      <td>On Passage of the Bill</td>\n",
       "      <td>Passed</td>\n",
       "      <td>H.R. 1735 As Amended; An act to authorize appr...</td>\n",
       "      <td>18-Jun</td>\n",
       "      <td>00215</td>\n",
       "      <td>71</td>\n",
       "    </tr>\n",
       "    <tr>\n",
       "      <th>00176</th>\n",
       "      <td>H.R. 1314</td>\n",
       "      <td>45</td>\n",
       "      <td>On Cloture on the Motion to Proceed</td>\n",
       "      <td>Rejected</td>\n",
       "      <td>Motion to Invoke Cloture on the Motion to Proc...</td>\n",
       "      <td>12-May</td>\n",
       "      <td>00176</td>\n",
       "      <td>52</td>\n",
       "    </tr>\n",
       "    <tr>\n",
       "      <th>00064</th>\n",
       "      <td>H.R. 240</td>\n",
       "      <td>43</td>\n",
       "      <td>On the Cloture Motion</td>\n",
       "      <td>Rejected</td>\n",
       "      <td>Motion to Invoke Cloture on the Motion to Insi...</td>\n",
       "      <td>02-Mar</td>\n",
       "      <td>00064</td>\n",
       "      <td>47</td>\n",
       "    </tr>\n",
       "    <tr>\n",
       "      <th>00140</th>\n",
       "      <td>H.R. 2</td>\n",
       "      <td>57</td>\n",
       "      <td>On the Motion</td>\n",
       "      <td>Rejected</td>\n",
       "      <td>Motion to Waive Applicable Budgetary Disciplin...</td>\n",
       "      <td>14-Apr</td>\n",
       "      <td>00140</td>\n",
       "      <td>43</td>\n",
       "    </tr>\n",
       "    <tr>\n",
       "      <th>00148</th>\n",
       "      <td>S.Con.Res. 11</td>\n",
       "      <td>0</td>\n",
       "      <td>On the Motion</td>\n",
       "      <td>Agreed to</td>\n",
       "      <td>Burr Motion to Instruct (Student Loans) Re: S....</td>\n",
       "      <td>15-Apr</td>\n",
       "      <td>00148</td>\n",
       "      <td>97</td>\n",
       "    </tr>\n",
       "  </tbody>\n",
       "</table>\n",
       "</div>"
      ],
      "text/plain": [
       "               issue nay                             question     result  \\\n",
       "00254        H.R. 22  26               On the Cloture Motion   Agreed to   \n",
       "00025           S. 1  38              On the Motion to Table   Agreed to   \n",
       "00153  S.Con.Res. 11  52                        On the Motion   Rejected   \n",
       "00081  S.Con.Res. 11  43                    On the Amendment   Agreed to   \n",
       "00168      H.R. 1191  54                    On the Amendment    Rejected   \n",
       "00215      H.R. 1735  25               On Passage of the Bill     Passed   \n",
       "00176      H.R. 1314  45  On Cloture on the Motion to Proceed   Rejected   \n",
       "00064       H.R. 240  43                On the Cloture Motion   Rejected   \n",
       "00140         H.R. 2  57                       On the Motion    Rejected   \n",
       "00148  S.Con.Res. 11   0                        On the Motion  Agreed to   \n",
       "\n",
       "                                                   title vote_date  \\\n",
       "00254  Motion to Invoke Cloture on Kirk Amdt. No. 232...    26-Jul   \n",
       "00025  Motion to Table Carper Amdt. No. 121; To impos...    22-Jan   \n",
       "00153  Stabenow Motion to Instruct (Medicare Cuts) Re...    15-Apr   \n",
       "00081  Fischer Amdt. No. 409; To establish a deficit-...    24-Mar   \n",
       "00168  Barrasso Amdt. No. 1147; To require a certific...    29-Apr   \n",
       "00215  H.R. 1735 As Amended; An act to authorize appr...    18-Jun   \n",
       "00176  Motion to Invoke Cloture on the Motion to Proc...    12-May   \n",
       "00064  Motion to Invoke Cloture on the Motion to Insi...    02-Mar   \n",
       "00140  Motion to Waive Applicable Budgetary Disciplin...    14-Apr   \n",
       "00148  Burr Motion to Instruct (Student Loans) Re: S....    15-Apr   \n",
       "\n",
       "      vote_number yea  \n",
       "00254       00254  67  \n",
       "00025       00025  57  \n",
       "00153       00153  45  \n",
       "00081       00081  56  \n",
       "00168       00168  45  \n",
       "00215       00215  71  \n",
       "00176       00176  52  \n",
       "00064       00064  47  \n",
       "00140       00140  43  \n",
       "00148       00148  97  "
      ]
     },
     "execution_count": 638,
     "metadata": {},
     "output_type": "execute_result"
    }
   ],
   "source": [
    "bills_114_1.sample(10)"
   ]
  },
  {
   "cell_type": "code",
   "execution_count": 596,
   "metadata": {
    "collapsed": false
   },
   "outputs": [],
   "source": [
    "new_index = []\n",
    "for val in bills_114_2.index.values:\n",
    "    i = int(val)\n",
    "    new_num = i+339\n",
    "    new_index.append(new_num)"
   ]
  },
  {
   "cell_type": "code",
   "execution_count": 598,
   "metadata": {
    "collapsed": false
   },
   "outputs": [],
   "source": [
    "new_index\n",
    "bills_114_2.index = new_index"
   ]
  },
  {
   "cell_type": "code",
   "execution_count": 600,
   "metadata": {
    "collapsed": false
   },
   "outputs": [
    {
     "data": {
      "text/html": [
       "<div>\n",
       "<table border=\"1\" class=\"dataframe\">\n",
       "  <thead>\n",
       "    <tr style=\"text-align: right;\">\n",
       "      <th></th>\n",
       "      <th>issue</th>\n",
       "      <th>nay</th>\n",
       "      <th>question</th>\n",
       "      <th>result</th>\n",
       "      <th>title</th>\n",
       "      <th>vote_date</th>\n",
       "      <th>vote_number</th>\n",
       "      <th>yea</th>\n",
       "    </tr>\n",
       "  </thead>\n",
       "  <tbody>\n",
       "    <tr>\n",
       "      <th>340</th>\n",
       "      <td>PN11</td>\n",
       "      <td>6</td>\n",
       "      <td>On the Nomination</td>\n",
       "      <td>Confirmed</td>\n",
       "      <td>Nomination Luis Felipe Restrepo, of Pennsylvan...</td>\n",
       "      <td>11-Jan</td>\n",
       "      <td>00001</td>\n",
       "      <td>82</td>\n",
       "    </tr>\n",
       "    <tr>\n",
       "      <th>341</th>\n",
       "      <td>S. 2232</td>\n",
       "      <td>44</td>\n",
       "      <td>On Cloture on the Motion to Proceed</td>\n",
       "      <td>Rejected</td>\n",
       "      <td>Motion to Invoke Cloture on the Motion to Proc...</td>\n",
       "      <td>12-Jan</td>\n",
       "      <td>00002</td>\n",
       "      <td>53</td>\n",
       "    </tr>\n",
       "    <tr>\n",
       "      <th>342</th>\n",
       "      <td>PN367</td>\n",
       "      <td>36</td>\n",
       "      <td>On the Nomination</td>\n",
       "      <td>Confirmed</td>\n",
       "      <td>Confirmation Wilhelmina Marie Wright, of Minne...</td>\n",
       "      <td>19-Jan</td>\n",
       "      <td>00003</td>\n",
       "      <td>58</td>\n",
       "    </tr>\n",
       "    <tr>\n",
       "      <th>343</th>\n",
       "      <td>H.R. 4038</td>\n",
       "      <td>43</td>\n",
       "      <td>On the Cloture Motion</td>\n",
       "      <td>Rejected</td>\n",
       "      <td>Motion to Invoke Cloture on the Motion to Proc...</td>\n",
       "      <td>20-Jan</td>\n",
       "      <td>00004</td>\n",
       "      <td>55</td>\n",
       "    </tr>\n",
       "    <tr>\n",
       "      <th>344</th>\n",
       "      <td>S.J.Res. 22</td>\n",
       "      <td>40</td>\n",
       "      <td>On the Cloture Motion</td>\n",
       "      <td>Rejected</td>\n",
       "      <td>Motion to Invoke Cloture on the Veto Message t...</td>\n",
       "      <td>21-Jan</td>\n",
       "      <td>00005</td>\n",
       "      <td>52</td>\n",
       "    </tr>\n",
       "  </tbody>\n",
       "</table>\n",
       "</div>"
      ],
      "text/plain": [
       "           issue nay                             question     result  \\\n",
       "340         PN11   6                    On the Nomination  Confirmed   \n",
       "341      S. 2232  44  On Cloture on the Motion to Proceed   Rejected   \n",
       "342        PN367  36                    On the Nomination  Confirmed   \n",
       "343    H.R. 4038  43                On the Cloture Motion   Rejected   \n",
       "344  S.J.Res. 22  40                On the Cloture Motion   Rejected   \n",
       "\n",
       "                                                 title vote_date vote_number  \\\n",
       "340  Nomination Luis Felipe Restrepo, of Pennsylvan...    11-Jan       00001   \n",
       "341  Motion to Invoke Cloture on the Motion to Proc...    12-Jan       00002   \n",
       "342  Confirmation Wilhelmina Marie Wright, of Minne...    19-Jan       00003   \n",
       "343  Motion to Invoke Cloture on the Motion to Proc...    20-Jan       00004   \n",
       "344  Motion to Invoke Cloture on the Veto Message t...    21-Jan       00005   \n",
       "\n",
       "    yea  \n",
       "340  82  \n",
       "341  53  \n",
       "342  58  \n",
       "343  55  \n",
       "344  52  "
      ]
     },
     "execution_count": 600,
     "metadata": {},
     "output_type": "execute_result"
    }
   ],
   "source": [
    "bills_114_2.head()"
   ]
  },
  {
   "cell_type": "code",
   "execution_count": 604,
   "metadata": {
    "collapsed": false
   },
   "outputs": [],
   "source": [
    "all_bills = bills_114_1.append(bills_114_2)"
   ]
  },
  {
   "cell_type": "code",
   "execution_count": 605,
   "metadata": {
    "collapsed": false
   },
   "outputs": [
    {
     "data": {
      "text/html": [
       "<div>\n",
       "<table border=\"1\" class=\"dataframe\">\n",
       "  <thead>\n",
       "    <tr style=\"text-align: right;\">\n",
       "      <th></th>\n",
       "      <th>issue</th>\n",
       "      <th>nay</th>\n",
       "      <th>question</th>\n",
       "      <th>result</th>\n",
       "      <th>title</th>\n",
       "      <th>vote_date</th>\n",
       "      <th>vote_number</th>\n",
       "      <th>yea</th>\n",
       "    </tr>\n",
       "  </thead>\n",
       "  <tbody>\n",
       "    <tr>\n",
       "      <th>00265</th>\n",
       "      <td>H.J.Res. 61</td>\n",
       "      <td>42</td>\n",
       "      <td>On the Cloture Motion</td>\n",
       "      <td>Rejected</td>\n",
       "      <td>Motion to Invoke Cloture on McConnell Amdt. No...</td>\n",
       "      <td>15-Sep</td>\n",
       "      <td>00265</td>\n",
       "      <td>56</td>\n",
       "    </tr>\n",
       "    <tr>\n",
       "      <th>00308</th>\n",
       "      <td>S. 1177</td>\n",
       "      <td>6</td>\n",
       "      <td>On the Cloture Motion</td>\n",
       "      <td>Agreed to</td>\n",
       "      <td>Motion to Invoke Cloture on the Motion to Disa...</td>\n",
       "      <td>18-Nov</td>\n",
       "      <td>00308</td>\n",
       "      <td>91</td>\n",
       "    </tr>\n",
       "    <tr>\n",
       "      <th>446</th>\n",
       "      <td>H.R. 2578</td>\n",
       "      <td>42</td>\n",
       "      <td>On the Motion to Table</td>\n",
       "      <td>Agreed to</td>\n",
       "      <td>Motion to Table the Motion to Commit with Inst...</td>\n",
       "      <td>20-Jun</td>\n",
       "      <td>00107</td>\n",
       "      <td>56</td>\n",
       "    </tr>\n",
       "    <tr>\n",
       "      <th>00235</th>\n",
       "      <td>S. 1177</td>\n",
       "      <td>64</td>\n",
       "      <td>On the Amendment</td>\n",
       "      <td>Rejected</td>\n",
       "      <td>Lee Amdt No. 2162; To amend the Elementary and...</td>\n",
       "      <td>14-Jul</td>\n",
       "      <td>00235</td>\n",
       "      <td>32</td>\n",
       "    </tr>\n",
       "    <tr>\n",
       "      <th>342</th>\n",
       "      <td>PN367</td>\n",
       "      <td>36</td>\n",
       "      <td>On the Nomination</td>\n",
       "      <td>Confirmed</td>\n",
       "      <td>Confirmation Wilhelmina Marie Wright, of Minne...</td>\n",
       "      <td>19-Jan</td>\n",
       "      <td>00003</td>\n",
       "      <td>58</td>\n",
       "    </tr>\n",
       "    <tr>\n",
       "      <th>00162</th>\n",
       "      <td>S. 178</td>\n",
       "      <td>2</td>\n",
       "      <td>On the Amendment</td>\n",
       "      <td>Agreed to</td>\n",
       "      <td>Kirk Amdt. No. 273 As Modified; To amend title...</td>\n",
       "      <td>22-Apr</td>\n",
       "      <td>00162</td>\n",
       "      <td>97</td>\n",
       "    </tr>\n",
       "    <tr>\n",
       "      <th>00258</th>\n",
       "      <td>H.R. 22</td>\n",
       "      <td>38</td>\n",
       "      <td>On the Amendment</td>\n",
       "      <td>Agreed to</td>\n",
       "      <td>McConnell Amdt. No. 2266 As Amended; In the na...</td>\n",
       "      <td>29-Jul</td>\n",
       "      <td>00258</td>\n",
       "      <td>62</td>\n",
       "    </tr>\n",
       "    <tr>\n",
       "      <th>00176</th>\n",
       "      <td>H.R. 1314</td>\n",
       "      <td>45</td>\n",
       "      <td>On Cloture on the Motion to Proceed</td>\n",
       "      <td>Rejected</td>\n",
       "      <td>Motion to Invoke Cloture on the Motion to Proc...</td>\n",
       "      <td>12-May</td>\n",
       "      <td>00176</td>\n",
       "      <td>52</td>\n",
       "    </tr>\n",
       "    <tr>\n",
       "      <th>415</th>\n",
       "      <td>H.R. 2577</td>\n",
       "      <td>28</td>\n",
       "      <td>On the Motion</td>\n",
       "      <td>Agreed to</td>\n",
       "      <td>Motion to Waive All Applicable Budgetary Disci...</td>\n",
       "      <td>19-May</td>\n",
       "      <td>00076</td>\n",
       "      <td>70</td>\n",
       "    </tr>\n",
       "    <tr>\n",
       "      <th>00185</th>\n",
       "      <td>PN19</td>\n",
       "      <td>0</td>\n",
       "      <td>On the Nomination</td>\n",
       "      <td>Confirmed</td>\n",
       "      <td>Confirmation Jose Rolando Olvera, Jr., of Texa...</td>\n",
       "      <td>21-May</td>\n",
       "      <td>00185</td>\n",
       "      <td>100</td>\n",
       "    </tr>\n",
       "  </tbody>\n",
       "</table>\n",
       "</div>"
      ],
      "text/plain": [
       "             issue nay                             question     result  \\\n",
       "00265  H.J.Res. 61  42               On the Cloture Motion    Rejected   \n",
       "00308      S. 1177   6                On the Cloture Motion  Agreed to   \n",
       "446      H.R. 2578  42               On the Motion to Table  Agreed to   \n",
       "00235      S. 1177  64                    On the Amendment    Rejected   \n",
       "342          PN367  36                    On the Nomination  Confirmed   \n",
       "00162       S. 178   2                    On the Amendment   Agreed to   \n",
       "00258      H.R. 22  38                    On the Amendment   Agreed to   \n",
       "00176    H.R. 1314  45  On Cloture on the Motion to Proceed   Rejected   \n",
       "415      H.R. 2577  28                       On the Motion   Agreed to   \n",
       "00185         PN19   0                    On the Nomination  Confirmed   \n",
       "\n",
       "                                                   title vote_date  \\\n",
       "00265  Motion to Invoke Cloture on McConnell Amdt. No...    15-Sep   \n",
       "00308  Motion to Invoke Cloture on the Motion to Disa...    18-Nov   \n",
       "446    Motion to Table the Motion to Commit with Inst...    20-Jun   \n",
       "00235  Lee Amdt No. 2162; To amend the Elementary and...    14-Jul   \n",
       "342    Confirmation Wilhelmina Marie Wright, of Minne...    19-Jan   \n",
       "00162  Kirk Amdt. No. 273 As Modified; To amend title...    22-Apr   \n",
       "00258  McConnell Amdt. No. 2266 As Amended; In the na...    29-Jul   \n",
       "00176  Motion to Invoke Cloture on the Motion to Proc...    12-May   \n",
       "415    Motion to Waive All Applicable Budgetary Disci...    19-May   \n",
       "00185  Confirmation Jose Rolando Olvera, Jr., of Texa...    21-May   \n",
       "\n",
       "      vote_number  yea  \n",
       "00265       00265   56  \n",
       "00308       00308   91  \n",
       "446         00107   56  \n",
       "00235       00235   32  \n",
       "342         00003   58  \n",
       "00162       00162   97  \n",
       "00258       00258   62  \n",
       "00176       00176   52  \n",
       "415         00076   70  \n",
       "00185       00185  100  "
      ]
     },
     "execution_count": 605,
     "metadata": {},
     "output_type": "execute_result"
    }
   ],
   "source": [
    "all_bills.sample(10)"
   ]
  },
  {
   "cell_type": "code",
   "execution_count": 606,
   "metadata": {
    "collapsed": true
   },
   "outputs": [],
   "source": [
    "all_bills.to_csv('all_bills.csv')"
   ]
  },
  {
   "cell_type": "code",
   "execution_count": null,
   "metadata": {
    "collapsed": true
   },
   "outputs": [],
   "source": []
  }
 ],
 "metadata": {
  "anaconda-cloud": {},
  "kernelspec": {
   "display_name": "Python [default]",
   "language": "python",
   "name": "python3"
  },
  "language_info": {
   "codemirror_mode": {
    "name": "ipython",
    "version": 3
   },
   "file_extension": ".py",
   "mimetype": "text/x-python",
   "name": "python",
   "nbconvert_exporter": "python",
   "pygments_lexer": "ipython3",
   "version": "3.5.2"
  }
 },
 "nbformat": 4,
 "nbformat_minor": 1
}
